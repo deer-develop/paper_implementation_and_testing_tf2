{
  "nbformat": 4,
  "nbformat_minor": 0,
  "metadata": {
    "colab": {
      "name": "Convert TFTRT.ipynb",
      "provenance": [],
      "collapsed_sections": [],
      "machine_shape": "hm",
      "authorship_tag": "ABX9TyPH9htW1+rW8tS82MxTvaBS",
      "include_colab_link": true
    },
    "kernelspec": {
      "name": "python3",
      "display_name": "Python 3"
    },
    "language_info": {
      "name": "python"
    },
    "accelerator": "GPU",
    "widgets": {
      "application/vnd.jupyter.widget-state+json": {
        "bdc1ea0e58d74419a933a0f60c32ae65": {
          "model_module": "@jupyter-widgets/controls",
          "model_name": "VBoxModel",
          "state": {
            "_view_name": "VBoxView",
            "_dom_classes": [],
            "_model_name": "VBoxModel",
            "_view_module": "@jupyter-widgets/controls",
            "_model_module_version": "1.5.0",
            "_view_count": null,
            "_view_module_version": "1.5.0",
            "box_style": "",
            "layout": "IPY_MODEL_fb9d913ae06e4023bab062c991315c63",
            "_model_module": "@jupyter-widgets/controls",
            "children": [
              "IPY_MODEL_ebf32121381840e59264465f4e6daef2",
              "IPY_MODEL_6ccafa3b68e4453682a33f2b8fab9ab6"
            ]
          }
        },
        "fb9d913ae06e4023bab062c991315c63": {
          "model_module": "@jupyter-widgets/base",
          "model_name": "LayoutModel",
          "state": {
            "_view_name": "LayoutView",
            "grid_template_rows": null,
            "right": null,
            "justify_content": null,
            "_view_module": "@jupyter-widgets/base",
            "overflow": null,
            "_model_module_version": "1.2.0",
            "_view_count": null,
            "flex_flow": null,
            "width": null,
            "min_width": null,
            "border": null,
            "align_items": null,
            "bottom": null,
            "_model_module": "@jupyter-widgets/base",
            "top": null,
            "grid_column": null,
            "overflow_y": null,
            "overflow_x": null,
            "grid_auto_flow": null,
            "grid_area": null,
            "grid_template_columns": null,
            "flex": null,
            "_model_name": "LayoutModel",
            "justify_items": null,
            "grid_row": null,
            "max_height": null,
            "align_content": null,
            "visibility": null,
            "align_self": null,
            "height": null,
            "min_height": null,
            "padding": null,
            "grid_auto_rows": null,
            "grid_gap": null,
            "max_width": null,
            "order": null,
            "_view_module_version": "1.2.0",
            "grid_template_areas": null,
            "object_position": null,
            "object_fit": null,
            "grid_auto_columns": null,
            "margin": null,
            "display": null,
            "left": null
          }
        },
        "ebf32121381840e59264465f4e6daef2": {
          "model_module": "@jupyter-widgets/controls",
          "model_name": "LabelModel",
          "state": {
            "_view_name": "LabelView",
            "style": "IPY_MODEL_d7ac780fdc1d4a9fb4fbcc1d9c68dd06",
            "_dom_classes": [],
            "description": "",
            "_model_name": "LabelModel",
            "placeholder": "​",
            "_view_module": "@jupyter-widgets/controls",
            "_model_module_version": "1.5.0",
            "value": " 0.03MB of 0.03MB uploaded (0.00MB deduped)\r",
            "_view_count": null,
            "_view_module_version": "1.5.0",
            "description_tooltip": null,
            "_model_module": "@jupyter-widgets/controls",
            "layout": "IPY_MODEL_45867c0ae4af4b6ea789a537800348c4"
          }
        },
        "6ccafa3b68e4453682a33f2b8fab9ab6": {
          "model_module": "@jupyter-widgets/controls",
          "model_name": "FloatProgressModel",
          "state": {
            "_view_name": "ProgressView",
            "style": "IPY_MODEL_fd3c98d5bdef4778805b9ef9cfb0d3b2",
            "_dom_classes": [],
            "description": "",
            "_model_name": "FloatProgressModel",
            "bar_style": "",
            "max": 1,
            "_view_module": "@jupyter-widgets/controls",
            "_model_module_version": "1.5.0",
            "value": 1,
            "_view_count": null,
            "_view_module_version": "1.5.0",
            "orientation": "horizontal",
            "min": 0,
            "description_tooltip": null,
            "_model_module": "@jupyter-widgets/controls",
            "layout": "IPY_MODEL_03e5a1ed4b8944dfbc1afa0f9e7014ab"
          }
        },
        "d7ac780fdc1d4a9fb4fbcc1d9c68dd06": {
          "model_module": "@jupyter-widgets/controls",
          "model_name": "DescriptionStyleModel",
          "state": {
            "_view_name": "StyleView",
            "_model_name": "DescriptionStyleModel",
            "description_width": "",
            "_view_module": "@jupyter-widgets/base",
            "_model_module_version": "1.5.0",
            "_view_count": null,
            "_view_module_version": "1.2.0",
            "_model_module": "@jupyter-widgets/controls"
          }
        },
        "45867c0ae4af4b6ea789a537800348c4": {
          "model_module": "@jupyter-widgets/base",
          "model_name": "LayoutModel",
          "state": {
            "_view_name": "LayoutView",
            "grid_template_rows": null,
            "right": null,
            "justify_content": null,
            "_view_module": "@jupyter-widgets/base",
            "overflow": null,
            "_model_module_version": "1.2.0",
            "_view_count": null,
            "flex_flow": null,
            "width": null,
            "min_width": null,
            "border": null,
            "align_items": null,
            "bottom": null,
            "_model_module": "@jupyter-widgets/base",
            "top": null,
            "grid_column": null,
            "overflow_y": null,
            "overflow_x": null,
            "grid_auto_flow": null,
            "grid_area": null,
            "grid_template_columns": null,
            "flex": null,
            "_model_name": "LayoutModel",
            "justify_items": null,
            "grid_row": null,
            "max_height": null,
            "align_content": null,
            "visibility": null,
            "align_self": null,
            "height": null,
            "min_height": null,
            "padding": null,
            "grid_auto_rows": null,
            "grid_gap": null,
            "max_width": null,
            "order": null,
            "_view_module_version": "1.2.0",
            "grid_template_areas": null,
            "object_position": null,
            "object_fit": null,
            "grid_auto_columns": null,
            "margin": null,
            "display": null,
            "left": null
          }
        },
        "fd3c98d5bdef4778805b9ef9cfb0d3b2": {
          "model_module": "@jupyter-widgets/controls",
          "model_name": "ProgressStyleModel",
          "state": {
            "_view_name": "StyleView",
            "_model_name": "ProgressStyleModel",
            "description_width": "",
            "_view_module": "@jupyter-widgets/base",
            "_model_module_version": "1.5.0",
            "_view_count": null,
            "_view_module_version": "1.2.0",
            "bar_color": null,
            "_model_module": "@jupyter-widgets/controls"
          }
        },
        "03e5a1ed4b8944dfbc1afa0f9e7014ab": {
          "model_module": "@jupyter-widgets/base",
          "model_name": "LayoutModel",
          "state": {
            "_view_name": "LayoutView",
            "grid_template_rows": null,
            "right": null,
            "justify_content": null,
            "_view_module": "@jupyter-widgets/base",
            "overflow": null,
            "_model_module_version": "1.2.0",
            "_view_count": null,
            "flex_flow": null,
            "width": null,
            "min_width": null,
            "border": null,
            "align_items": null,
            "bottom": null,
            "_model_module": "@jupyter-widgets/base",
            "top": null,
            "grid_column": null,
            "overflow_y": null,
            "overflow_x": null,
            "grid_auto_flow": null,
            "grid_area": null,
            "grid_template_columns": null,
            "flex": null,
            "_model_name": "LayoutModel",
            "justify_items": null,
            "grid_row": null,
            "max_height": null,
            "align_content": null,
            "visibility": null,
            "align_self": null,
            "height": null,
            "min_height": null,
            "padding": null,
            "grid_auto_rows": null,
            "grid_gap": null,
            "max_width": null,
            "order": null,
            "_view_module_version": "1.2.0",
            "grid_template_areas": null,
            "object_position": null,
            "object_fit": null,
            "grid_auto_columns": null,
            "margin": null,
            "display": null,
            "left": null
          }
        }
      }
    }
  },
  "cells": [
    {
      "cell_type": "markdown",
      "metadata": {
        "id": "view-in-github",
        "colab_type": "text"
      },
      "source": [
        "<a href=\"https://colab.research.google.com/github/ProtossDragoon/paper_implementation_and_testing_tf2/blob/main/utils/Convert_TFTRT.ipynb\" target=\"_parent\"><img src=\"https://colab.research.google.com/assets/colab-badge.svg\" alt=\"Open In Colab\"/></a>"
      ]
    },
    {
      "cell_type": "markdown",
      "metadata": {
        "id": "C0vCdrvNmuUN"
      },
      "source": [
        "# Convert TFTRT\n",
        "\n",
        "## Author\n",
        "\n",
        "name : Janghoo Lee <br>\n",
        "github : https://github.com/ProtossDragoon <br>\n",
        "contact : dlwkdgn1@naver.com <br>\n",
        "circle : https://github.com/sju-coml <br>\n",
        "organization : https://web.deering.co/ <br>\n",
        "published date : June, 2021\n",
        "\n",
        "## ThridParty\n",
        "\n",
        "- wandb\n",
        "- albumentations\n",
        "- segmentation library\n",
        "\n",
        "\n",
        "## Related Notebook\n",
        "\n",
        "[Notebook](https://github.com/ProtossDragoon/paper_implementation_and_testing_tf2/blob/main/notebooks/sm_unet_test.ipynb)"
      ]
    },
    {
      "cell_type": "markdown",
      "metadata": {
        "id": "awlMRWnjnRQI"
      },
      "source": [
        "# Environment"
      ]
    },
    {
      "cell_type": "markdown",
      "metadata": {
        "id": "Spg_6UI_nYet"
      },
      "source": [
        "## Import"
      ]
    },
    {
      "cell_type": "code",
      "metadata": {
        "colab": {
          "base_uri": "https://localhost:8080/"
        },
        "id": "ySlyiqXNAGfo",
        "outputId": "3ce833ae-82c3-4768-fb71-f8dff67547f1"
      },
      "source": [
        "import tensorflow as tf\n",
        "print(tf.__version__)\n",
        "%load_ext tensorboard"
      ],
      "execution_count": 67,
      "outputs": [
        {
          "output_type": "stream",
          "text": [
            "2.5.0\n",
            "The tensorboard extension is already loaded. To reload it, use:\n",
            "  %reload_ext tensorboard\n"
          ],
          "name": "stdout"
        }
      ]
    },
    {
      "cell_type": "code",
      "metadata": {
        "id": "DB3rf_OmAKHa"
      },
      "source": [
        "import numpy as np\n",
        "import matplotlib.pyplot as plt\n",
        "import os, sys\n",
        "import cv2\n",
        "import time"
      ],
      "execution_count": 68,
      "outputs": []
    },
    {
      "cell_type": "markdown",
      "metadata": {
        "id": "KDQklS-VBMqI"
      },
      "source": [
        "## Show HW Spec and Setup HW"
      ]
    },
    {
      "cell_type": "markdown",
      "metadata": {
        "id": "9JbHP9WHBU06"
      },
      "source": [
        "### COLAB CPU"
      ]
    },
    {
      "cell_type": "code",
      "metadata": {
        "colab": {
          "base_uri": "https://localhost:8080/"
        },
        "id": "wav2XezEBVHz",
        "outputId": "52b05fec-a3d5-4d49-c88e-42b6a672cbe6"
      },
      "source": [
        "!cat /proc/cpuinfo"
      ],
      "execution_count": 69,
      "outputs": [
        {
          "output_type": "stream",
          "text": [
            "processor\t: 0\n",
            "vendor_id\t: GenuineIntel\n",
            "cpu family\t: 6\n",
            "model\t\t: 85\n",
            "model name\t: Intel(R) Xeon(R) CPU @ 2.00GHz\n",
            "stepping\t: 3\n",
            "microcode\t: 0x1\n",
            "cpu MHz\t\t: 2000.174\n",
            "cache size\t: 39424 KB\n",
            "physical id\t: 0\n",
            "siblings\t: 4\n",
            "core id\t\t: 0\n",
            "cpu cores\t: 2\n",
            "apicid\t\t: 0\n",
            "initial apicid\t: 0\n",
            "fpu\t\t: yes\n",
            "fpu_exception\t: yes\n",
            "cpuid level\t: 13\n",
            "wp\t\t: yes\n",
            "flags\t\t: fpu vme de pse tsc msr pae mce cx8 apic sep mtrr pge mca cmov pat pse36 clflush mmx fxsr sse sse2 ss ht syscall nx pdpe1gb rdtscp lm constant_tsc rep_good nopl xtopology nonstop_tsc cpuid tsc_known_freq pni pclmulqdq ssse3 fma cx16 pcid sse4_1 sse4_2 x2apic movbe popcnt aes xsave avx f16c rdrand hypervisor lahf_lm abm 3dnowprefetch invpcid_single ssbd ibrs ibpb stibp fsgsbase tsc_adjust bmi1 hle avx2 smep bmi2 erms invpcid rtm mpx avx512f avx512dq rdseed adx smap clflushopt clwb avx512cd avx512bw avx512vl xsaveopt xsavec xgetbv1 xsaves arat md_clear arch_capabilities\n",
            "bugs\t\t: cpu_meltdown spectre_v1 spectre_v2 spec_store_bypass l1tf mds swapgs taa\n",
            "bogomips\t: 4000.34\n",
            "clflush size\t: 64\n",
            "cache_alignment\t: 64\n",
            "address sizes\t: 46 bits physical, 48 bits virtual\n",
            "power management:\n",
            "\n",
            "processor\t: 1\n",
            "vendor_id\t: GenuineIntel\n",
            "cpu family\t: 6\n",
            "model\t\t: 85\n",
            "model name\t: Intel(R) Xeon(R) CPU @ 2.00GHz\n",
            "stepping\t: 3\n",
            "microcode\t: 0x1\n",
            "cpu MHz\t\t: 2000.174\n",
            "cache size\t: 39424 KB\n",
            "physical id\t: 0\n",
            "siblings\t: 4\n",
            "core id\t\t: 1\n",
            "cpu cores\t: 2\n",
            "apicid\t\t: 2\n",
            "initial apicid\t: 2\n",
            "fpu\t\t: yes\n",
            "fpu_exception\t: yes\n",
            "cpuid level\t: 13\n",
            "wp\t\t: yes\n",
            "flags\t\t: fpu vme de pse tsc msr pae mce cx8 apic sep mtrr pge mca cmov pat pse36 clflush mmx fxsr sse sse2 ss ht syscall nx pdpe1gb rdtscp lm constant_tsc rep_good nopl xtopology nonstop_tsc cpuid tsc_known_freq pni pclmulqdq ssse3 fma cx16 pcid sse4_1 sse4_2 x2apic movbe popcnt aes xsave avx f16c rdrand hypervisor lahf_lm abm 3dnowprefetch invpcid_single ssbd ibrs ibpb stibp fsgsbase tsc_adjust bmi1 hle avx2 smep bmi2 erms invpcid rtm mpx avx512f avx512dq rdseed adx smap clflushopt clwb avx512cd avx512bw avx512vl xsaveopt xsavec xgetbv1 xsaves arat md_clear arch_capabilities\n",
            "bugs\t\t: cpu_meltdown spectre_v1 spectre_v2 spec_store_bypass l1tf mds swapgs taa\n",
            "bogomips\t: 4000.34\n",
            "clflush size\t: 64\n",
            "cache_alignment\t: 64\n",
            "address sizes\t: 46 bits physical, 48 bits virtual\n",
            "power management:\n",
            "\n",
            "processor\t: 2\n",
            "vendor_id\t: GenuineIntel\n",
            "cpu family\t: 6\n",
            "model\t\t: 85\n",
            "model name\t: Intel(R) Xeon(R) CPU @ 2.00GHz\n",
            "stepping\t: 3\n",
            "microcode\t: 0x1\n",
            "cpu MHz\t\t: 2000.174\n",
            "cache size\t: 39424 KB\n",
            "physical id\t: 0\n",
            "siblings\t: 4\n",
            "core id\t\t: 0\n",
            "cpu cores\t: 2\n",
            "apicid\t\t: 1\n",
            "initial apicid\t: 1\n",
            "fpu\t\t: yes\n",
            "fpu_exception\t: yes\n",
            "cpuid level\t: 13\n",
            "wp\t\t: yes\n",
            "flags\t\t: fpu vme de pse tsc msr pae mce cx8 apic sep mtrr pge mca cmov pat pse36 clflush mmx fxsr sse sse2 ss ht syscall nx pdpe1gb rdtscp lm constant_tsc rep_good nopl xtopology nonstop_tsc cpuid tsc_known_freq pni pclmulqdq ssse3 fma cx16 pcid sse4_1 sse4_2 x2apic movbe popcnt aes xsave avx f16c rdrand hypervisor lahf_lm abm 3dnowprefetch invpcid_single ssbd ibrs ibpb stibp fsgsbase tsc_adjust bmi1 hle avx2 smep bmi2 erms invpcid rtm mpx avx512f avx512dq rdseed adx smap clflushopt clwb avx512cd avx512bw avx512vl xsaveopt xsavec xgetbv1 xsaves arat md_clear arch_capabilities\n",
            "bugs\t\t: cpu_meltdown spectre_v1 spectre_v2 spec_store_bypass l1tf mds swapgs taa\n",
            "bogomips\t: 4000.34\n",
            "clflush size\t: 64\n",
            "cache_alignment\t: 64\n",
            "address sizes\t: 46 bits physical, 48 bits virtual\n",
            "power management:\n",
            "\n",
            "processor\t: 3\n",
            "vendor_id\t: GenuineIntel\n",
            "cpu family\t: 6\n",
            "model\t\t: 85\n",
            "model name\t: Intel(R) Xeon(R) CPU @ 2.00GHz\n",
            "stepping\t: 3\n",
            "microcode\t: 0x1\n",
            "cpu MHz\t\t: 2000.174\n",
            "cache size\t: 39424 KB\n",
            "physical id\t: 0\n",
            "siblings\t: 4\n",
            "core id\t\t: 1\n",
            "cpu cores\t: 2\n",
            "apicid\t\t: 3\n",
            "initial apicid\t: 3\n",
            "fpu\t\t: yes\n",
            "fpu_exception\t: yes\n",
            "cpuid level\t: 13\n",
            "wp\t\t: yes\n",
            "flags\t\t: fpu vme de pse tsc msr pae mce cx8 apic sep mtrr pge mca cmov pat pse36 clflush mmx fxsr sse sse2 ss ht syscall nx pdpe1gb rdtscp lm constant_tsc rep_good nopl xtopology nonstop_tsc cpuid tsc_known_freq pni pclmulqdq ssse3 fma cx16 pcid sse4_1 sse4_2 x2apic movbe popcnt aes xsave avx f16c rdrand hypervisor lahf_lm abm 3dnowprefetch invpcid_single ssbd ibrs ibpb stibp fsgsbase tsc_adjust bmi1 hle avx2 smep bmi2 erms invpcid rtm mpx avx512f avx512dq rdseed adx smap clflushopt clwb avx512cd avx512bw avx512vl xsaveopt xsavec xgetbv1 xsaves arat md_clear arch_capabilities\n",
            "bugs\t\t: cpu_meltdown spectre_v1 spectre_v2 spec_store_bypass l1tf mds swapgs taa\n",
            "bogomips\t: 4000.34\n",
            "clflush size\t: 64\n",
            "cache_alignment\t: 64\n",
            "address sizes\t: 46 bits physical, 48 bits virtual\n",
            "power management:\n",
            "\n"
          ],
          "name": "stdout"
        }
      ]
    },
    {
      "cell_type": "markdown",
      "metadata": {
        "id": "PSTH-sp2BRml"
      },
      "source": [
        "### COLAB GPU"
      ]
    },
    {
      "cell_type": "code",
      "metadata": {
        "colab": {
          "base_uri": "https://localhost:8080/"
        },
        "id": "bBLJa73rBM3p",
        "outputId": "a1b25482-c268-43b1-8cbc-962c85d875a9"
      },
      "source": [
        "!nvidia-smi -L\n",
        "device_name = tf.test.gpu_device_name()\n",
        "if not device_name:\n",
        "  raise SystemError('GPU device not found')\n",
        "print('total {} GPU devices: {}'.format(len(tf.config.list_logical_devices('GPU')), tf.config.list_logical_devices('GPU')))"
      ],
      "execution_count": 70,
      "outputs": [
        {
          "output_type": "stream",
          "text": [
            "GPU 0: Tesla P100-PCIE-16GB (UUID: GPU-af06844a-b619-f2ba-817b-f814dadf8dda)\n",
            "total 1 GPU devices: [LogicalDevice(name='/device:GPU:0', device_type='GPU')]\n"
          ],
          "name": "stdout"
        }
      ]
    },
    {
      "cell_type": "markdown",
      "metadata": {
        "id": "v9yfz26as0J2"
      },
      "source": [
        "### HW usage monitoring tool"
      ]
    },
    {
      "cell_type": "code",
      "metadata": {
        "colab": {
          "base_uri": "https://localhost:8080/",
          "height": 784,
          "referenced_widgets": [
            "bdc1ea0e58d74419a933a0f60c32ae65",
            "fb9d913ae06e4023bab062c991315c63",
            "ebf32121381840e59264465f4e6daef2",
            "6ccafa3b68e4453682a33f2b8fab9ab6",
            "d7ac780fdc1d4a9fb4fbcc1d9c68dd06",
            "45867c0ae4af4b6ea789a537800348c4",
            "fd3c98d5bdef4778805b9ef9cfb0d3b2",
            "03e5a1ed4b8944dfbc1afa0f9e7014ab"
          ]
        },
        "id": "pzMgqfhQszul",
        "outputId": "8bd1c226-ece8-41b6-f77b-d53cb0fd83de"
      },
      "source": [
        "%cd /content/\n",
        "!pip install wandb -q\n",
        "import wandb\n",
        "wandb.init()\n",
        "# clik link below"
      ],
      "execution_count": 71,
      "outputs": [
        {
          "output_type": "stream",
          "text": [
            "/content\n"
          ],
          "name": "stdout"
        },
        {
          "output_type": "display_data",
          "data": {
            "text/html": [
              "Finishing last run (ID:9916scln) before initializing another..."
            ],
            "text/plain": [
              "<IPython.core.display.HTML object>"
            ]
          },
          "metadata": {
            "tags": []
          }
        },
        {
          "output_type": "display_data",
          "data": {
            "text/html": [
              "<br/>Waiting for W&B process to finish, PID 2280<br/>Program ended successfully."
            ],
            "text/plain": [
              "<IPython.core.display.HTML object>"
            ]
          },
          "metadata": {
            "tags": []
          }
        },
        {
          "output_type": "display_data",
          "data": {
            "application/vnd.jupyter.widget-view+json": {
              "model_id": "bdc1ea0e58d74419a933a0f60c32ae65",
              "version_minor": 0,
              "version_major": 2
            },
            "text/plain": [
              "VBox(children=(Label(value=' 0.00MB of 0.00MB uploaded (0.00MB deduped)\\r'), FloatProgress(value=1.0, max=1.0)…"
            ]
          },
          "metadata": {
            "tags": []
          }
        },
        {
          "output_type": "display_data",
          "data": {
            "text/html": [
              "Find user logs for this run at: <code>/content/wandb/run-20210603_043804-9916scln/logs/debug.log</code>"
            ],
            "text/plain": [
              "<IPython.core.display.HTML object>"
            ]
          },
          "metadata": {
            "tags": []
          }
        },
        {
          "output_type": "display_data",
          "data": {
            "text/html": [
              "Find internal logs for this run at: <code>/content/wandb/run-20210603_043804-9916scln/logs/debug-internal.log</code>"
            ],
            "text/plain": [
              "<IPython.core.display.HTML object>"
            ]
          },
          "metadata": {
            "tags": []
          }
        },
        {
          "output_type": "display_data",
          "data": {
            "text/html": [
              "Synced 5 W&B file(s), 0 media file(s), 0 artifact file(s) and 0 other file(s)"
            ],
            "text/plain": [
              "<IPython.core.display.HTML object>"
            ]
          },
          "metadata": {
            "tags": []
          }
        },
        {
          "output_type": "display_data",
          "data": {
            "text/html": [
              "\n",
              "                    <br/>Synced <strong style=\"color:#cdcd00\">breezy-snowball-8</strong>: <a href=\"https://wandb.ai/protossdragoon/uncategorized/runs/9916scln\" target=\"_blank\">https://wandb.ai/protossdragoon/uncategorized/runs/9916scln</a><br/>\n",
              "                "
            ],
            "text/plain": [
              "<IPython.core.display.HTML object>"
            ]
          },
          "metadata": {
            "tags": []
          }
        },
        {
          "output_type": "display_data",
          "data": {
            "text/html": [
              "...Successfully finished last run (ID:9916scln). Initializing new run:<br/><br/>"
            ],
            "text/plain": [
              "<IPython.core.display.HTML object>"
            ]
          },
          "metadata": {
            "tags": []
          }
        },
        {
          "output_type": "display_data",
          "data": {
            "text/html": [
              "\n",
              "                Tracking run with wandb version 0.10.31<br/>\n",
              "                Syncing run <strong style=\"color:#cdcd00\">electric-silence-9</strong> to <a href=\"https://wandb.ai\" target=\"_blank\">Weights & Biases</a> <a href=\"https://docs.wandb.com/integrations/jupyter.html\" target=\"_blank\">(Documentation)</a>.<br/>\n",
              "                Project page: <a href=\"https://wandb.ai/protossdragoon/uncategorized\" target=\"_blank\">https://wandb.ai/protossdragoon/uncategorized</a><br/>\n",
              "                Run page: <a href=\"https://wandb.ai/protossdragoon/uncategorized/runs/sgvfbz9t\" target=\"_blank\">https://wandb.ai/protossdragoon/uncategorized/runs/sgvfbz9t</a><br/>\n",
              "                Run data is saved locally in <code>/content/wandb/run-20210603_061512-sgvfbz9t</code><br/><br/>\n",
              "            "
            ],
            "text/plain": [
              "<IPython.core.display.HTML object>"
            ]
          },
          "metadata": {
            "tags": []
          }
        },
        {
          "output_type": "execute_result",
          "data": {
            "text/plain": [
              "<wandb.sdk.wandb_run.Run at 0x7f97eb4b2050>"
            ],
            "text/html": [
              "<h1>Run(sgvfbz9t)</h1><iframe src=\"https://wandb.ai/protossdragoon/uncategorized/runs/sgvfbz9t\" style=\"border:none;width:100%;height:400px\"></iframe>"
            ]
          },
          "metadata": {
            "tags": []
          },
          "execution_count": 71
        }
      ]
    },
    {
      "cell_type": "markdown",
      "metadata": {
        "id": "f8zIF_M3nZh8"
      },
      "source": [
        "## Global Hyper Parameters"
      ]
    },
    {
      "cell_type": "code",
      "metadata": {
        "id": "ZYdregV7Bbrj"
      },
      "source": [
        "HOME_DIR = \"/content/gdrive/MyDrive\"\n",
        "WS = os.path.join(HOME_DIR, \"ColabWorkspace\")\n",
        "DATA_DIR = os.path.join(HOME_DIR, 'data')\n",
        "\n",
        "GIT_REPO_NAME = 'paper_implementation_and_testing_tf2'\n",
        "GIT_WS = os.path.join(WS, GIT_REPO_NAME)\n",
        "\n",
        "LOG_DIR = os.path.join(GIT_WS, 'tboard')\n",
        "MODEL_PLOT_DIR = os.path.join(GIT_WS, 'plotmodel')\n",
        "MODELS_DIR = os.path.join(GIT_WS, 'models')\n",
        "TRTMODELS_DIR = os.path.join(GIT_WS, 'trtmodels')"
      ],
      "execution_count": 72,
      "outputs": []
    },
    {
      "cell_type": "code",
      "metadata": {
        "id": "KuZu493SIphb"
      },
      "source": [
        "GIT_BRANCH = 'tftrt'\n",
        "GIT_USERNAME = None # Add here\n",
        "GIT_EMAIL = None\n",
        "GIT_PASSWORD = None # Add here"
      ],
      "execution_count": 73,
      "outputs": []
    },
    {
      "cell_type": "markdown",
      "metadata": {
        "id": "c_HANv0gneGj"
      },
      "source": [
        "## Google Drive / Git"
      ]
    },
    {
      "cell_type": "code",
      "metadata": {
        "colab": {
          "base_uri": "https://localhost:8080/"
        },
        "id": "ugsHx1bGIXIq",
        "outputId": "5f55c201-24f9-470e-ab69-0c84286c0365"
      },
      "source": [
        "#!rm -r /content/gdrive/\n",
        "from google.colab import drive\n",
        "drive.mount('/content/gdrive')"
      ],
      "execution_count": 74,
      "outputs": [
        {
          "output_type": "stream",
          "text": [
            "Drive already mounted at /content/gdrive; to attempt to forcibly remount, call drive.mount(\"/content/gdrive\", force_remount=True).\n"
          ],
          "name": "stdout"
        }
      ]
    },
    {
      "cell_type": "code",
      "metadata": {
        "colab": {
          "base_uri": "https://localhost:8080/"
        },
        "id": "tjQsaZ4HIY8A",
        "outputId": "83960403-3bbe-4197-a8cd-35e511aabcff"
      },
      "source": [
        "%cd {GIT_WS}\n",
        "!git config --global user.name {GIT_USERNAME}\n",
        "!git config --global user.email {GIT_EMAIL}\n",
        "!git checkout -b {GIT_BRANCH}\n",
        "!git push origin {GIT_BRANCH}\n",
        "!git branch --set-upstream-to origin/{GIT_BRANCH}"
      ],
      "execution_count": 75,
      "outputs": [
        {
          "output_type": "stream",
          "text": [
            "/content/gdrive/MyDrive/ColabWorkspace/paper_implementation_and_testing_tf2\n",
            "fatal: A branch named 'tftrt' already exists.\n",
            "fatal: could not read Username for 'https://github.com': No such device or address\n",
            "error: the requested upstream branch 'origin/tftrt' does not exist\n",
            "hint: \n",
            "hint: If you are planning on basing your work on an upstream\n",
            "hint: branch that already exists at the remote, you may need to\n",
            "hint: run \"git fetch\" to retrieve it.\n",
            "hint: \n",
            "hint: If you are planning to push out a new local branch that\n",
            "hint: will track its remote counterpart, you may want to use\n",
            "hint: \"git push -u\" to set the upstream config as you push.\n"
          ],
          "name": "stdout"
        }
      ]
    },
    {
      "cell_type": "code",
      "metadata": {
        "colab": {
          "base_uri": "https://localhost:8080/"
        },
        "id": "YuJY7gfaIbJB",
        "outputId": "f76d7657-728f-422b-bc2f-cda44a3378ac"
      },
      "source": [
        "!mkdir -p {WS}\n",
        "%cd {WS}\n",
        "!git clone https://github.com/ProtossDragoon/{GIT_REPO_NAME}.git\n",
        "\n",
        "!mkdir -p {LOG_DIR}\n",
        "!mkdir -p {MODEL_PLOT_DIR}\n",
        "!mkdir -p {WEIGHTS_DIR}\n",
        "!mkdir -p {MODELS_DIR}\n",
        "!mkdir -p {TRTMODELS_DIR}"
      ],
      "execution_count": 76,
      "outputs": [
        {
          "output_type": "stream",
          "text": [
            "/content/gdrive/MyDrive/ColabWorkspace\n",
            "fatal: destination path 'paper_implementation_and_testing_tf2' already exists and is not an empty directory.\n"
          ],
          "name": "stdout"
        }
      ]
    },
    {
      "cell_type": "markdown",
      "metadata": {
        "id": "zwl3a7BvnoR3"
      },
      "source": [
        "# Convert"
      ]
    },
    {
      "cell_type": "markdown",
      "metadata": {
        "id": "CbQWAgjOnqpe"
      },
      "source": [
        "## Your Model"
      ]
    },
    {
      "cell_type": "markdown",
      "metadata": {
        "id": "q5gbWELJn26u"
      },
      "source": [
        "### Hyper Parameters\n",
        "\n",
        "In my case,"
      ]
    },
    {
      "cell_type": "markdown",
      "metadata": {
        "id": "aEZkXnDiV5s9"
      },
      "source": [
        "![image.png](data:image/png;base64,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)"
      ]
    },
    {
      "cell_type": "code",
      "metadata": {
        "id": "dp08px36e7YF",
        "colab": {
          "base_uri": "https://localhost:8080/"
        },
        "outputId": "b64b125a-8a87-41e6-ddfa-169aae6d2f78"
      },
      "source": [
        "DATASET_NAME = 'CAMVID' #@param {type:\"string\"}\n",
        "MODEL_INFO = 'UNET_EFFICIENTNETB3' #@param {type:\"string\"}\n",
        "MODEL_NAME = 'b16_6c' #@param {type:\"string\"}\n",
        "\n",
        "SAVEDMODEL_DIR = os.path.join(MODELS_DIR,upper(), DATASET_NAME.upper(), MODEL_NAME.upper())\n",
        "\n",
        "GPU_DEVICE_NAME = 'tesla_p100' #@param {type:\"string\"}\n",
        "QUANTIZATION_MODE = 'FP16' #@param ['INT8', 'FP32', 'FP16']\n",
        "MAX_GPU_SIZE_MB = 2*1024 #@param\n",
        "INPUT_BATCH = 1 #@param\n",
        "INPUT_WIDTH =  480 #@param\n",
        "INPUT_HEIGHT =  320 #@param\n",
        "INPUT_CHANNEL =  3 #@param\n",
        "IS_THERE_DYNAMIC_ELEMENT = 'Yes' #@param ['Yes'] # 'no' does not support on TF2\n",
        "\n",
        "# Keras Model 은 일반적으로 'serve' 로 내보내짐.\n",
        "# Keras Model 은 'serving_default' 이라는 시그니처 키값을 사용하여 model.call() 을 등록함.\n",
        "SAVEDMODEL_TAG_SET = 'serve' #@param {type:\"string\"}\n",
        "SAVEDMODEL_SIGNATURE_DEF = 'serving_default' #@param {type:\"string\"} \n",
        "\n",
        "def fake_dataset():\n",
        "    input_shape = (INPUT_BATCH, INPUT_HEIGHT, INPUT_WIDTH, INPUT_CHANNEL)\n",
        "    for x in input_shape:\n",
        "        yield np.zeros(x).astype(np.float32) \n",
        "\n",
        "# about tensorrt optimizer\n",
        "MINIMUN_SEGMENT_SIZE = 3 #@param\n",
        "MAXIMUM_CACHED_ENGINE = 5 #@param\n",
        "\n",
        "ADDITIONAL_DIR = os.path.join(DATASET_NAME.upper(), MODEL_INFO.upper(), MODEL_NAME)\n",
        "optimized_savedmodel_fulldir = os.path.join(TRTMODELS_DIR, \n",
        "                                            GPU_DEVICE_NAME,\n",
        "                                            ADDITIONAL_DIR,\n",
        "                                            '{}_{:.2f}gb_b{}h{}w{}c{}_seg{}_cach{}'.format(QUANTIZATION_MODE, MAX_GPU_SIZE_MB/2**10, INPUT_BATCH, INPUT_HEIGHT, INPUT_WIDTH, INPUT_CHANNEL, MINIMUN_SEGMENT_SIZE, MAXIMUM_CACHED_ENGINE).lower())\n",
        "print('Savefile Name : {}'.format(optimized_savedmodel_fulldir))"
      ],
      "execution_count": 77,
      "outputs": [
        {
          "output_type": "stream",
          "text": [
            "Savefile Name : /content/gdrive/MyDrive/ColabWorkspace/paper_implementation_and_testing_tf2/trtmodels/tesla_p100/CAMVID/UNET_EFFICIENTNETB3/b16_6c/fp16_2.00gb_b1h320w480c3_seg3_cach5\n"
          ],
          "name": "stdout"
        }
      ]
    },
    {
      "cell_type": "markdown",
      "metadata": {
        "id": "gtjOhepmn1OM"
      },
      "source": [
        "### Check Savedmodel"
      ]
    },
    {
      "cell_type": "code",
      "metadata": {
        "id": "G5unm0Uhn4db",
        "colab": {
          "base_uri": "https://localhost:8080/"
        },
        "outputId": "4fcd9fd1-1838-427c-95eb-4bd7088c330f"
      },
      "source": [
        "!saved_model_cli show --dir {SAVEDMODEL_DIR} --tag_set {SAVEDMODEL_TAG_SET} --signature_def {SAVEDMODEL_SIGNATURE_DEF}"
      ],
      "execution_count": 78,
      "outputs": [
        {
          "output_type": "stream",
          "text": [
            "The given SavedModel SignatureDef contains the following input(s):\n",
            "  inputs['input_3'] tensor_info:\n",
            "      dtype: DT_FLOAT\n",
            "      shape: (-1, -1, -1, 3)\n",
            "      name: serving_default_input_3:0\n",
            "The given SavedModel SignatureDef contains the following output(s):\n",
            "  outputs['softmax'] tensor_info:\n",
            "      dtype: DT_FLOAT\n",
            "      shape: (-1, -1, -1, 6)\n",
            "      name: StatefulPartitionedCall:0\n",
            "Method name is: tensorflow/serving/predict\n"
          ],
          "name": "stdout"
        }
      ]
    },
    {
      "cell_type": "markdown",
      "metadata": {
        "id": "7jooLPJRpued"
      },
      "source": [
        "### Data Loader\n",
        "\n",
        "Drity code. Just think simply."
      ]
    },
    {
      "cell_type": "code",
      "metadata": {
        "colab": {
          "base_uri": "https://localhost:8080/"
        },
        "id": "6fCzAap8pup3",
        "outputId": "0483ef93-fd62-4e61-e6b5-100ed818f80b"
      },
      "source": [
        "GIT_REPO_THIRDPARTY_NAME = 'segmentation_models'\n",
        "GIT_WS_THIRDPARTY = os.path.join(WS, GIT_REPO_THIRDPARTY_NAME)\n",
        "GIT_REPO_THIRDPARTY_NAME_2 = 'efficientnet'\n",
        "GIT_WS_THIRDPARTY_2 = os.path.join(WS, GIT_REPO_THIRDPARTY_NAME_2)\n",
        "%cd {GIT_WS_THIRDPARTY}\n",
        "%cd {GIT_WS_THIRDPARTY_2}\n",
        "%set_env PYTHONPATH={'/env/python'+':'+GIT_WS_THIRDPARTY+':'+GIT_WS_THIRDPARTY_2} # way1\n",
        "# 등록까지 약간의 시간이 소요됨. ModuleNotFoundError: No module named 'segmentation_models'\n",
        "# 강제 등록\n",
        "for path in [GIT_WS_THIRDPARTY, GIT_WS_THIRDPARTY_2]: #way2\n",
        "    if path not in sys.path:\n",
        "        sys.path.append(path)\n",
        "print(sys.path)\n",
        "import albumentations as A\n",
        "!pip install keras_applications>=1.0.7,<=1.0.8 -q\n",
        "!pip install image-classifiers==1.0.0 -q\n",
        "import segmentation_models as sm\n",
        "sm.set_framework('tf.keras')\n",
        "class PretrainedSpecificPreprocessing(A.core.transforms_interface.DualTransform):\n",
        "    def __init__(self, fn):\n",
        "        \"\"\"\n",
        "        Args:\n",
        "            fn (callbale): data normalization function (can be specific for each pretrained neural network)\n",
        "        \"\"\"\n",
        "        super().__init__(self)\n",
        "        self.fn = fn\n",
        "    def apply(self, img, **params): # target : img\n",
        "        return self.fn(img)\n",
        "    def apply_to_mask(self, img, **params): # target : mask\n",
        "        return img\n",
        "def get_preprocessing(preprocessing_fn):\n",
        "    \"\"\"Construct preprocessing transform\n",
        "    \n",
        "    Args:\n",
        "        preprocessing_fn (callbale): data normalization function \n",
        "            (can be specific for each pretrained neural network)\n",
        "    Return:\n",
        "        transform: albumentations.Compose\n",
        "    \n",
        "    \"\"\"\n",
        "    _transform = [\n",
        "        PretrainedSpecificPreprocessing(preprocessing_fn)\n",
        "    ]\n",
        "    return A.Compose(_transform)\n",
        "\n",
        "def get_validation_augmentation(\n",
        "    dataset_w=None, \n",
        "    dataset_h=None,\n",
        "    model_input_w_for_valid=None,\n",
        "    model_input_h_for_valid=None\n",
        "    ):\n",
        "    assert dataset_w is not None\n",
        "    assert dataset_h is not None\n",
        "    #assert model_input_w_for_valid is not None\n",
        "    #assert model_input_h_for_valid is not None\n",
        "\n",
        "    \"\"\"Add paddings to make image shape divisible by 32\"\"\" #FIXME\n",
        "    test_transform = [\n",
        "        A.PadIfNeeded(min_height=dataset_h, min_width=dataset_w)\n",
        "    ]\n",
        "\n",
        "    if (model_input_w_for_valid is not None) and (model_input_h_for_valid is not None):\n",
        "        test_transform.append(\n",
        "            A.RandomCrop(height=model_input_h_for_valid, \n",
        "                         width=model_input_w_for_valid, \n",
        "                         always_apply=True))\n",
        "        #assert model_input_w_for_valid//32 == 0, 'For EfficientNet'\n",
        "        #assert model_input_h_for_valid//32 == 0, 'For EfficientNet'\n",
        "    else:\n",
        "        pass\n",
        "        #assert dataset_w//32 == 0, 'For EfficientNet'\n",
        "        #assert dataset_h//32 == 0, 'For EfficientNet'\n",
        "        \n",
        "    return A.Compose(test_transform)\n",
        "    \n",
        "# classes for data loading and preprocessing\n",
        "class SegmentationDataset:\n",
        "\n",
        "    \"\"\"Segmentation Dataset. Read images, apply augmentation and preprocessing transformations.\n",
        "    \n",
        "    Args:\n",
        "        images_dir (str): path to images folder\n",
        "        masks_dir (str): path to segmentation masks folder\n",
        "        class_ids (list): values of classes ids\n",
        "        augmentation (albumentations.Compose): data transfromation pipeline \n",
        "            (e.g. flip, scale, etc.)\n",
        "        preprocessing (albumentations.Compose): data preprocessing \n",
        "            (e.g. noralization, shape manipulation, etc.)\n",
        "    \n",
        "    \"\"\"\n",
        "    \n",
        "    def __init__(self, images_dir, masks_dir, class_ids=None, augmentation=None, preprocessing=None):\n",
        "        \n",
        "        self.ids = os.listdir(images_dir)\n",
        "        self.images_fps = [os.path.join(images_dir, image_id) for image_id in self.ids] # image file paths\n",
        "        self.masks_fps = [os.path.join(masks_dir, image_id) for image_id in self.ids] # mask (label) file paths\n",
        "        \n",
        "        self.class_ids = class_ids\n",
        "\n",
        "        # flags\n",
        "        self.augmentation = augmentation\n",
        "        self.preprocessing = preprocessing\n",
        "\n",
        "\n",
        "    def __getitem__(self, i): # batch\n",
        "        \n",
        "        # read data\n",
        "        image = cv2.imread(self.images_fps[i])\n",
        "        image = cv2.cvtColor(image, cv2.COLOR_BGR2RGB)\n",
        "        mask = cv2.imread(self.masks_fps[i], 0)\n",
        "        \n",
        "        # extract certain classes from mask (e.g. cars)\n",
        "        masks = [(mask == v) for v in self.class_ids]\n",
        "        mask = np.stack(masks, axis=-1).astype('float')\n",
        "        \n",
        "        # add background if mask is not binary\n",
        "        if mask.shape[-1] != 1:\n",
        "            background = 1 - mask.sum(axis=-1, keepdims=True)\n",
        "            mask = np.concatenate((mask, background), axis=-1)\n",
        "        \n",
        "        # apply augmentations\n",
        "        if self.augmentation:\n",
        "            sample = self.augmentation(image=image, mask=mask)\n",
        "            image, mask = sample['image'], sample['mask']\n",
        "        \n",
        "        # apply preprocessing\n",
        "        if self.preprocessing:\n",
        "            sample = self.preprocessing(image=image, mask=mask)\n",
        "            image, mask = sample['image'], sample['mask']\n",
        "            \n",
        "        return image, mask\n",
        "        \n",
        "        \n",
        "    def __len__(self):\n",
        "        return len(self.ids)\n",
        "\n",
        "class CamVidDataset(SegmentationDataset):\n",
        "    \"\"\"CamVid Segmentation Dataset. Read images, apply augmentation and preprocessing transformations.\n",
        "    \n",
        "    Args:\n",
        "        images_dir (str): path to images folder\n",
        "        masks_dir (str): path to segmentation masks folder\n",
        "        name_interested_classes (list): values of interested classes names\n",
        "        augmentation (albumentations.Compose): data transfromation pipeline \n",
        "            (e.g. flip, scale, etc.)\n",
        "        preprocessing (albumentations.Compose): data preprocessing \n",
        "            (e.g. noralization, shape manipulation, etc.)\n",
        "    \n",
        "    \"\"\"\n",
        "\n",
        "    CLASSES = ['sky', 'building', 'pole', 'road', 'pavement', \n",
        "               'tree', 'signsymbol', 'fence', 'car', \n",
        "               'pedestrian', 'bicyclist', 'unlabelled']\n",
        "    \n",
        "    def __init__(self, images_dir, masks_dir, name_interested_classes=None, augmentation=None, preprocessing=None):\n",
        "        # convert str names to class values on masks\n",
        "        class_ids = [self.CLASSES.index(cls.lower()) for cls in name_interested_classes]\n",
        "        super(CamVidDataset, self).__init__(images_dir, masks_dir, class_ids=class_ids, augmentation=augmentation, preprocessing=preprocessing)\n",
        "\n",
        "class DataLoader(tf.keras.utils.Sequence):\n",
        "\n",
        "    \"\"\"Load data from dataset and form batches\n",
        "    \n",
        "    Args:\n",
        "        dataset: instance of Dataset class for image loading and preprocessing.\n",
        "        batch_size: Integet number of images in batch.\n",
        "        shuffle: Boolean, if `True` shuffle image indexes each epoch.\n",
        "    \"\"\"\n",
        "    \n",
        "    def __init__(self, dataset, batch_size=1, shuffle=False):\n",
        "        self.dataset = dataset\n",
        "        self.batch_size = batch_size\n",
        "        self.shuffle = shuffle\n",
        "        self.indexes = np.arange(len(dataset))\n",
        "\n",
        "        self.on_epoch_end()\n",
        "\n",
        "\n",
        "    def __getitem__(self, i):\n",
        "        \n",
        "        # collect batch data\n",
        "        start = i * self.batch_size\n",
        "        stop = (i + 1) * self.batch_size\n",
        "        data = []\n",
        "        for j in range(start, stop):\n",
        "            data.append(self.dataset[j])\n",
        "        \n",
        "        # transpose tuple of lists (fixed)\n",
        "        batch = [np.stack(samples, axis=0) for samples in zip(*data)]\n",
        "        \n",
        "        return tuple(batch)\n",
        "    \n",
        "\n",
        "    def __len__(self):\n",
        "        \"\"\"Denotes the number of batches per epoch\"\"\"\n",
        "        return len(self.indexes) // self.batch_size\n",
        "    \n",
        "\n",
        "    def on_epoch_end(self):\n",
        "        \"\"\"Callback function to shuffle indexes each epoch\"\"\"\n",
        "        if self.shuffle:\n",
        "            self.indexes = np.random.permutation(self.indexes)\n",
        "\n",
        "BACKBONE = 'efficientnetb4' #select model\n",
        "preprocess_input = sm.get_preprocessing(BACKBONE)\n",
        "DATASET_DIR_CAMVID = os.path.join(DATA_DIR, 'camvid')\n",
        "DATASET_TEST_X_DIR_CAMVID = os.path.join(DATASET_DIR_CAMVID, 'test')\n",
        "DATASET_TEST_Y_DIR_CAMVID = os.path.join(DATASET_DIR_CAMVID, 'testannot')\n",
        "NAME_INTERESTED_CLASSES = ['car', 'road', 'pavement', 'pedestrian', 'bicyclist']\n",
        "DATASET_WIDTH = 480\n",
        "DATASET_HEIGHT = 320\n",
        "MODEL_INPUT_WIDTH_FOR_VALID = DATASET_WIDTH\n",
        "MODEL_INPUT_HEIGHT_FOR_VALID = DATASET_HEIGHT\n",
        "XY_test = CamVidDataset(\n",
        "    DATASET_TEST_X_DIR_CAMVID,\n",
        "    DATASET_TEST_Y_DIR_CAMVID, \n",
        "    name_interested_classes=NAME_INTERESTED_CLASSES, \n",
        "    augmentation=get_validation_augmentation(dataset_w=DATASET_WIDTH,\n",
        "                                             dataset_h=DATASET_HEIGHT,\n",
        "                                             model_input_w_for_valid=MODEL_INPUT_WIDTH_FOR_VALID,\n",
        "                                             model_input_h_for_valid=MODEL_INPUT_HEIGHT_FOR_VALID),\n",
        "    preprocessing=get_preprocessing(preprocess_input),\n",
        ")\n",
        "test_dataloader = DataLoader(XY_test, batch_size=1, shuffle=True)\n",
        "def input_fn():\n",
        "    for i in range(len(test_dataloader)):\n",
        "        img, mask = test_dataloader[i]\n",
        "        print('step', i+1, 'img :', img.shape, 'label :', mask.shape)\n",
        "        yield [img.astype(np.float32)] # each element : signature input. So, len(return) == number of inputs\n",
        "        if i > 30:\n",
        "            break"
      ],
      "execution_count": 79,
      "outputs": [
        {
          "output_type": "stream",
          "text": [
            "/content/gdrive/MyDrive/ColabWorkspace/segmentation_models\n",
            "/content/gdrive/MyDrive/ColabWorkspace/efficientnet\n",
            "env: PYTHONPATH=/env/python:/content/gdrive/MyDrive/ColabWorkspace/segmentation_models:/content/gdrive/MyDrive/ColabWorkspace/efficientnet # way1\n",
            "['', '/content', '/env/python', '/usr/lib/python37.zip', '/usr/lib/python3.7', '/usr/lib/python3.7/lib-dynload', '/usr/local/lib/python3.7/dist-packages', '/usr/lib/python3/dist-packages', '/usr/local/lib/python3.7/dist-packages/IPython/extensions', '/root/.ipython', '/content/gdrive/MyDrive/ColabWorkspace/segmentation_models', '/content/gdrive/MyDrive/ColabWorkspace/efficientnet']\n",
            "/bin/bash: =1.0.8: No such file or directory\n"
          ],
          "name": "stdout"
        }
      ]
    },
    {
      "cell_type": "markdown",
      "metadata": {
        "id": "vbRzavXQS59s"
      },
      "source": [
        "### Run Conversion"
      ]
    },
    {
      "cell_type": "code",
      "metadata": {
        "colab": {
          "base_uri": "https://localhost:8080/"
        },
        "id": "EsXO3HfBS6X9",
        "outputId": "f713f3eb-390c-4de4-b043-a32c0848bf64"
      },
      "source": [
        "from tensorflow.python.compiler.tensorrt import trt_convert as trt\n",
        "\n",
        "# Conversion Parameters \n",
        "conversion_params = trt.TrtConversionParams(\n",
        "    precision_mode=QUANTIZATION_MODE,\n",
        "    # is_dynamic_op=False if IS_THERE_DYNAMIC_ELEMENT == 'No' else True,\n",
        "    max_workspace_size_bytes=MAX_GPU_SIZE_MB<<20,\n",
        "    minimum_segment_size=MINIMUN_SEGMENT_SIZE,\n",
        "    maximum_cached_engines=MAXIMUM_CACHED_ENGINE,\n",
        "    use_calibration=True # This argument is ignored if precision_mode is not INT8.\n",
        "    )\n",
        "\n",
        "# Converter method used to partition and optimize TensorRT compatible segments\n",
        "if QUANTIZATION_MODE.lower() == 'int8':\n",
        "    if IS_THERE_DYNAMIC_ELEMENT == 'No':\n",
        "        print('Static mode does not support post-training quantization (INT8 calibration).')\n",
        "    #conversion_params._replace(is_dynamic_op=True)\n",
        "\n",
        "converter = trt.TrtGraphConverterV2(\n",
        "    input_saved_model_dir=SAVEDMODEL_DIR,\n",
        "    input_saved_model_tags=SAVEDMODEL_TAG_SET,\n",
        "    input_saved_model_signature_key=SAVEDMODEL_SIGNATURE_DEF,\n",
        "    conversion_params=conversion_params\n",
        "    )\n",
        "\n",
        "if QUANTIZATION_MODE.lower() == 'int8':\n",
        "    converter.convert(\n",
        "        calibration_input_fn=input_fn\n",
        "        )\n",
        "else:\n",
        "    converter.convert()\n",
        "\n",
        "# Optionally, build TensorRT engines before deployment to save time at runtime\n",
        "# Note that this is GPU specific, and as a rule of thumb, we recommend building at runtime\n",
        "converter.build(input_fn=input_fn)\n",
        "\n",
        "# Save the model to the disk\n",
        "converter.save(optimized_savedmodel_fulldir)"
      ],
      "execution_count": 80,
      "outputs": [
        {
          "output_type": "stream",
          "text": [
            "INFO:tensorflow:Linked TensorRT version: (0, 0, 0)\n",
            "INFO:tensorflow:Loaded TensorRT version: (0, 0, 0)\n",
            "step 1 img : (1, 320, 480, 3) label : (1, 320, 480, 6)\n",
            "step 2 img : (1, 320, 480, 3) label : (1, 320, 480, 6)\n",
            "step 3 img : (1, 320, 480, 3) label : (1, 320, 480, 6)\n",
            "step 4 img : (1, 320, 480, 3) label : (1, 320, 480, 6)\n",
            "step 5 img : (1, 320, 480, 3) label : (1, 320, 480, 6)\n",
            "step 6 img : (1, 320, 480, 3) label : (1, 320, 480, 6)\n",
            "step 7 img : (1, 320, 480, 3) label : (1, 320, 480, 6)\n",
            "step 8 img : (1, 320, 480, 3) label : (1, 320, 480, 6)\n",
            "step 9 img : (1, 320, 480, 3) label : (1, 320, 480, 6)\n",
            "step 10 img : (1, 320, 480, 3) label : (1, 320, 480, 6)\n",
            "step 11 img : (1, 320, 480, 3) label : (1, 320, 480, 6)\n",
            "step 12 img : (1, 320, 480, 3) label : (1, 320, 480, 6)\n",
            "step 13 img : (1, 320, 480, 3) label : (1, 320, 480, 6)\n",
            "step 14 img : (1, 320, 480, 3) label : (1, 320, 480, 6)\n",
            "step 15 img : (1, 320, 480, 3) label : (1, 320, 480, 6)\n",
            "step 16 img : (1, 320, 480, 3) label : (1, 320, 480, 6)\n",
            "step 17 img : (1, 320, 480, 3) label : (1, 320, 480, 6)\n",
            "step 18 img : (1, 320, 480, 3) label : (1, 320, 480, 6)\n",
            "step 19 img : (1, 320, 480, 3) label : (1, 320, 480, 6)\n",
            "step 20 img : (1, 320, 480, 3) label : (1, 320, 480, 6)\n",
            "step 21 img : (1, 320, 480, 3) label : (1, 320, 480, 6)\n",
            "step 22 img : (1, 320, 480, 3) label : (1, 320, 480, 6)\n",
            "step 23 img : (1, 320, 480, 3) label : (1, 320, 480, 6)\n",
            "step 24 img : (1, 320, 480, 3) label : (1, 320, 480, 6)\n",
            "step 25 img : (1, 320, 480, 3) label : (1, 320, 480, 6)\n",
            "step 26 img : (1, 320, 480, 3) label : (1, 320, 480, 6)\n",
            "step 27 img : (1, 320, 480, 3) label : (1, 320, 480, 6)\n",
            "step 28 img : (1, 320, 480, 3) label : (1, 320, 480, 6)\n",
            "step 29 img : (1, 320, 480, 3) label : (1, 320, 480, 6)\n",
            "step 30 img : (1, 320, 480, 3) label : (1, 320, 480, 6)\n",
            "step 31 img : (1, 320, 480, 3) label : (1, 320, 480, 6)\n",
            "step 32 img : (1, 320, 480, 3) label : (1, 320, 480, 6)\n",
            "INFO:tensorflow:Assets written to: /content/gdrive/MyDrive/ColabWorkspace/paper_implementation_and_testing_tf2/trtmodels/tesla_p100/CAMVID/UNET_EFFICIENTNETB3/b16_6c/fp16_2.00gb_b1h320w480c3_seg3_cach5/assets\n"
          ],
          "name": "stdout"
        }
      ]
    },
    {
      "cell_type": "code",
      "metadata": {
        "colab": {
          "base_uri": "https://localhost:8080/"
        },
        "id": "0LCtw3-c84Zz",
        "outputId": "c0de54fb-5008-498a-c771-8de3a0e736d6"
      },
      "source": [
        "!saved_model_cli show --dir {optimized_savedmodel_fulldir} --tag_set {SAVEDMODEL_TAG_SET} --signature_def {SAVEDMODEL_SIGNATURE_DEF}"
      ],
      "execution_count": 81,
      "outputs": [
        {
          "output_type": "stream",
          "text": [
            "The given SavedModel SignatureDef contains the following input(s):\n",
            "  inputs['input_3'] tensor_info:\n",
            "      dtype: DT_FLOAT\n",
            "      shape: (-1, -1, -1, 3)\n",
            "      name: serving_default_input_3:0\n",
            "The given SavedModel SignatureDef contains the following output(s):\n",
            "  outputs['softmax'] tensor_info:\n",
            "      dtype: DT_FLOAT\n",
            "      shape: (-1, -1, -1, 6)\n",
            "      name: PartitionedCall:0\n",
            "Method name is: tensorflow/serving/predict\n"
          ],
          "name": "stdout"
        }
      ]
    },
    {
      "cell_type": "markdown",
      "metadata": {
        "id": "tADWCBiWnsHd"
      },
      "source": [
        "### Speed Benchmark"
      ]
    },
    {
      "cell_type": "code",
      "metadata": {
        "id": "I4SpdfBhGwV8"
      },
      "source": [
        "def benchnmark_model_speed(model, benchmark_dtype=['fp32'], model_name='default'):\n",
        "    for e in benchmark_dtype:\n",
        "        assert e in ['uint8', 'fp16', 'fp32'] \n",
        "    ret = {}\n",
        "    for dtype in benchmark_dtype:\n",
        "        time_li = []\n",
        "        if dtype == 'uint8':\n",
        "            np_dtype = np.int8\n",
        "            tf_dtype = tf.int8\n",
        "        elif dtype == 'fp16':\n",
        "            np_dtype = np.float16\n",
        "            tf_dtype = tf.int16\n",
        "        elif dtype == 'fp32':\n",
        "            np_dtype = np.float32\n",
        "            tf_dtype = tf.float32\n",
        "        else:\n",
        "            raise NotImplementedError\n",
        "        for i in range(10):\n",
        "            data = np.random.normal(size=(INPUT_BATCH, INPUT_HEIGHT, INPUT_WIDTH, INPUT_CHANNEL)).astype(np_dtype)\n",
        "            x = tf.constant(data, dtype=tf_dtype)\n",
        "\n",
        "            s = time.time()\n",
        "            model_org(x) # inference\n",
        "            e = time.time()\n",
        "            time_li.append(e - s)\n",
        "\n",
        "        time_li = np.array(time_li)\n",
        "        avg_time = np.average(time_li)\n",
        "        ret[dtype] = avg_time\n",
        "        print('{} {} : {:2f} fps. (inference time average : {:3f})'.format(model_name, dtype, 1/avg_time, avg_time))\n",
        "    return ret"
      ],
      "execution_count": 106,
      "outputs": []
    },
    {
      "cell_type": "markdown",
      "metadata": {
        "id": "G5eBe0kYG3UG"
      },
      "source": [
        "#### [Choice] Keras API"
      ]
    },
    {
      "cell_type": "code",
      "metadata": {
        "id": "uNdxnxChnshi",
        "colab": {
          "base_uri": "https://localhost:8080/"
        },
        "outputId": "057cb5bd-3ef9-412c-b529-19f4bbdea27f"
      },
      "source": [
        "# load with keras api\n",
        "print('a :', SAVEDMODEL_DIR)\n",
        "print('b :', optimized_savedmodel_fulldir)\n",
        "model_org = tf.keras.models.load_model(SAVEDMODEL_DIR, compile=False)\n",
        "model_trt = tf.keras.models.load_model(optimized_savedmodel_fulldir, compile=False)\n",
        "print('a : {} - sigkey : {}\\nb : {} - sigkey : {}'.format(type(model_org), list(model_org.signatures.keys()), \n",
        "                                                          type(model_trt), list(model_trt.signatures.keys())))\n",
        "\n",
        "benchnmark_model_speed(model_org, ['uint8', 'fp16', 'fp32'], 'pure')\n",
        "benchnmark_model_speed(model_trt, ['uint8', 'fp16', 'fp32'], 'trt')"
      ],
      "execution_count": 108,
      "outputs": [
        {
          "output_type": "stream",
          "text": [
            "a : /content/gdrive/MyDrive/ColabWorkspace/paper_implementation_and_testing_tf2/models/CAMVID/UNET_EFFICIENTNETB3/b16_6c\n",
            "b : /content/gdrive/MyDrive/ColabWorkspace/paper_implementation_and_testing_tf2/trtmodels/tesla_p100/CAMVID/UNET_EFFICIENTNETB3/b16_6c/fp16_2.00gb_b1h320w480c3_seg3_cach5\n",
            "WARNING:tensorflow:Unable to restore custom metric. Please ensure that the layer implements `get_config` and `from_config` when saving. In addition, please use the `custom_objects` arg when calling `load_model()`.\n",
            "WARNING:tensorflow:Unable to restore custom metric. Please ensure that the layer implements `get_config` and `from_config` when saving. In addition, please use the `custom_objects` arg when calling `load_model()`.\n",
            "WARNING:tensorflow:SavedModel saved prior to TF 2.5 detected when loading Keras model. Please ensure that you are saving the model with model.save() or tf.keras.models.save_model(), *NOT* tf.saved_model.save(). To confirm, there should be a file named \"keras_metadata.pb\" in the SavedModel directory.\n",
            "a : <class 'tensorflow.python.keras.engine.functional.Functional'> - sigkey : ['serving_default']\n",
            "b : <class 'tensorflow.python.saved_model.load.Loader._recreate_base_user_object.<locals>._UserObject'> - sigkey : ['serving_default']\n",
            "pure uint8 : 6.503563 fps. (inference time average : 0.153762)\n",
            "pure fp16 : 6.705049 fps. (inference time average : 0.149141)\n",
            "pure fp32 : 6.662305 fps. (inference time average : 0.150098)\n",
            "trt uint8 : 6.622795 fps. (inference time average : 0.150994)\n",
            "trt fp16 : 6.581252 fps. (inference time average : 0.151947)\n",
            "trt fp32 : 6.579345 fps. (inference time average : 0.151991)\n"
          ],
          "name": "stdout"
        },
        {
          "output_type": "execute_result",
          "data": {
            "text/plain": [
              "{'fp16': 0.1519467830657959,\n",
              " 'fp32': 0.15199081897735595,\n",
              " 'uint8': 0.1509936571121216}"
            ]
          },
          "metadata": {
            "tags": []
          },
          "execution_count": 108
        }
      ]
    },
    {
      "cell_type": "markdown",
      "metadata": {
        "id": "pdUYD0D3G57Q"
      },
      "source": [
        "#### [Choice] TensorFlow API"
      ]
    },
    {
      "cell_type": "code",
      "metadata": {
        "colab": {
          "base_uri": "https://localhost:8080/"
        },
        "id": "40U5yE86ys4U",
        "outputId": "71939e86-cf3c-40d3-cf9b-ba3bab4eb2c5"
      },
      "source": [
        "# If the model does not saved with tf.keras.save_model()\n",
        "print('a :', SAVEDMODEL_DIR)\n",
        "print('b :', optimized_savedmodel_fulldir)\n",
        "model_org_tf = tf.saved_model.load(SAVEDMODEL_DIR, tags=SAVEDMODEL_TAG_SET)\n",
        "model_trt_tf = tf.saved_model.load(optimized_savedmodel_fulldir, tags=SAVEDMODEL_TAG_SET)\n",
        "print('a : {} - sigkey : {}\\nb : {} - sigkey : {}'.format(type(model_org_tf), list(model_org_tf.signatures.keys()), \n",
        "                                                          type(model_trt_tf), list(model_trt_tf.signatures.keys())))\n",
        "\n",
        "f = model_org_tf.signatures[SAVEDMODEL_SIGNATURE_DEF]\n",
        "benchnmark_model_speed(f, ['uint8', 'fp16', 'fp32'], 'pure')\n",
        "f = model_trt_tf.signatures[SAVEDMODEL_SIGNATURE_DEF]\n",
        "benchnmark_model_speed(f, ['uint8', 'fp16', 'fp32'], 'trt')"
      ],
      "execution_count": 109,
      "outputs": [
        {
          "output_type": "stream",
          "text": [
            "a : /content/gdrive/MyDrive/ColabWorkspace/paper_implementation_and_testing_tf2/models/CAMVID/UNET_EFFICIENTNETB3/b16_6c\n",
            "b : /content/gdrive/MyDrive/ColabWorkspace/paper_implementation_and_testing_tf2/trtmodels/tesla_p100/CAMVID/UNET_EFFICIENTNETB3/b16_6c/fp16_2.00gb_b1h320w480c3_seg3_cach5\n",
            "a : <class 'tensorflow.python.saved_model.load.Loader._recreate_base_user_object.<locals>._UserObject'> - sigkey : ['serving_default']\n",
            "b : <class 'tensorflow.python.saved_model.load.Loader._recreate_base_user_object.<locals>._UserObject'> - sigkey : ['serving_default']\n",
            "pure uint8 : 6.736145 fps. (inference time average : 0.148453)\n",
            "pure fp16 : 6.861797 fps. (inference time average : 0.145734)\n",
            "pure fp32 : 6.829431 fps. (inference time average : 0.146425)\n",
            "trt uint8 : 6.961314 fps. (inference time average : 0.143651)\n",
            "trt fp16 : 6.760927 fps. (inference time average : 0.147909)\n",
            "trt fp32 : 6.894028 fps. (inference time average : 0.145053)\n"
          ],
          "name": "stdout"
        },
        {
          "output_type": "execute_result",
          "data": {
            "text/plain": [
              "{'fp16': 0.14790871143341064,\n",
              " 'fp32': 0.14505307674407958,\n",
              " 'uint8': 0.14365103244781494}"
            ]
          },
          "metadata": {
            "tags": []
          },
          "execution_count": 109
        }
      ]
    },
    {
      "cell_type": "markdown",
      "metadata": {
        "id": "hcbpKWC3gtGl"
      },
      "source": [
        "# Debug and trial Area"
      ]
    },
    {
      "cell_type": "code",
      "metadata": {
        "colab": {
          "base_uri": "https://localhost:8080/"
        },
        "id": "cOmWEfPSgs7W",
        "outputId": "f7a8c38a-b372-4274-a5c5-41593c79a130"
      },
      "source": [
        "%cd ~\n",
        "\"\"\"\n",
        "model_org_tf.v = tf.Variable(3.)\n",
        "model_org_tf.f = tf.function(\n",
        "    lambda x: model_org_tf.v * x,\n",
        "    input_signature=[tf.TensorSpec(shape=None, dtype=tf.float32)]\n",
        "    )\n",
        "\"\"\"\n",
        "@tf.function(input_signature=[tf.TensorSpec(shape=None, dtype=tf.float32)])\n",
        "def maxpooling(x):\n",
        "    shape = tf.shape(x)\n",
        "    output = tf.nn.max_pool2d(\n",
        "        x, (2,2), 1, 'VALID', data_format='NHWC', name=None\n",
        "        )\n",
        "    \n",
        "    \"\"\"\n",
        "    h_lin = tf.linspace(0, shape[1]+1, shape[1], name='h_lin') # h\n",
        "    w_lin = tf.linspace(0, shape[2]+1, shape[2], name='w_lin') # w\n",
        "\n",
        "\n",
        "    output = (y * width + x) * channels + c \n",
        "    # [b, y, x, c]\n",
        "    output - (y * width + x) * channels\n",
        "    \"\"\"\n",
        "    return output\n",
        "model_org_tf.maxpooling = maxpooling\n",
        "\n",
        "ADDITIONAL_MAXPOOL_SIGNATURE_DEF = 'maxpooling'\n",
        "signatures = {SAVEDMODEL_SIGNATURE_DEF: model_org_tf.signatures[SAVEDMODEL_SIGNATURE_DEF],\n",
        "              ADDITIONAL_MAXPOOL_SIGNATURE_DEF: model_org_tf.maxpooling,\n",
        "              #ADDITIONAL_MAXPOOL_SIGNATURE_DEF: model_org_tf.f\n",
        "              }\n",
        "\n",
        "tf.saved_model.save(model_org_tf, 'temp_model', signatures=signatures)\n",
        "!saved_model_cli show --dir {'temp_model'} --tag_set {SAVEDMODEL_TAG_SET}\n",
        "!saved_model_cli show --dir {'temp_model'} --tag_set {SAVEDMODEL_TAG_SET} --signature_def {SAVEDMODEL_SIGNATURE_DEF}\n",
        "!saved_model_cli show --dir {'temp_model'} --tag_set {SAVEDMODEL_TAG_SET} --signature_def {ADDITIONAL_MAXPOOL_SIGNATURE_DEF}\n",
        "\n",
        "model_reloaded = tf.saved_model.load('temp_model')\n",
        "print(model_reloaded.signatures.keys())\n",
        "model_reloaded.signatures[ADDITIONAL_MAXPOOL_SIGNATURE_DEF](\n",
        "    tf.constant(\n",
        "        #np.random.normal(size=(INPUT_BATCH, INPUT_HEIGHT, INPUT_WIDTH, INPUT_CHANNEL)),\n",
        "        np.random.normal(size=(1, 3, 3, 2)),\n",
        "        dtype=tf.float32\n",
        "        )\n",
        "    )"
      ],
      "execution_count": 131,
      "outputs": [
        {
          "output_type": "stream",
          "text": [
            "/root\n",
            "INFO:tensorflow:Assets written to: temp_model/assets\n",
            "The given SavedModel MetaGraphDef contains SignatureDefs with the following keys:\n",
            "SignatureDef key: \"__saved_model_init_op\"\n",
            "SignatureDef key: \"maxpooling\"\n",
            "SignatureDef key: \"serving_default\"\n",
            "The given SavedModel SignatureDef contains the following input(s):\n",
            "  inputs['input_3'] tensor_info:\n",
            "      dtype: DT_FLOAT\n",
            "      shape: (-1, -1, -1, 3)\n",
            "      name: serving_default_input_3:0\n",
            "The given SavedModel SignatureDef contains the following output(s):\n",
            "  outputs['softmax'] tensor_info:\n",
            "      dtype: DT_FLOAT\n",
            "      shape: (-1, -1, -1, 6)\n",
            "      name: StatefulPartitionedCall:0\n",
            "Method name is: tensorflow/serving/predict\n",
            "The given SavedModel SignatureDef contains the following input(s):\n",
            "  inputs['x'] tensor_info:\n",
            "      dtype: DT_FLOAT\n",
            "      shape: unknown_rank\n",
            "      name: maxpooling_x:0\n",
            "The given SavedModel SignatureDef contains the following output(s):\n",
            "  outputs['output_0'] tensor_info:\n",
            "      dtype: DT_FLOAT\n",
            "      shape: (-1, -1, -1, -1)\n",
            "      name: PartitionedCall:0\n",
            "Method name is: tensorflow/serving/predict\n",
            "KeysView(_SignatureMap({'serving_default': <ConcreteFunction signature_wrapper(*, input_3) at 0x7F97C1A90F90>, 'maxpooling': <ConcreteFunction signature_wrapper(*, x) at 0x7F97DE83F650>}))\n"
          ],
          "name": "stdout"
        },
        {
          "output_type": "execute_result",
          "data": {
            "text/plain": [
              "{'output_0': <tf.Tensor: shape=(1, 2, 2, 2), dtype=float32, numpy=\n",
              " array([[[[0.6830427 , 2.5973103 ],\n",
              "          [0.6830427 , 0.40352967]],\n",
              " \n",
              "         [[0.6830427 , 0.40352967],\n",
              "          [0.6830427 , 0.40352967]]]], dtype=float32)>}"
            ]
          },
          "metadata": {
            "tags": []
          },
          "execution_count": 131
        }
      ]
    },
    {
      "cell_type": "code",
      "metadata": {
        "id": "s-fncvFziU_N"
      },
      "source": [
        ""
      ],
      "execution_count": 125,
      "outputs": []
    }
  ]
}