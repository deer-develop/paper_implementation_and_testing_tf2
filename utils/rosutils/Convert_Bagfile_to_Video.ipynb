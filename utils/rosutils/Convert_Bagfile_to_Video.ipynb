{
  "nbformat": 4,
  "nbformat_minor": 0,
  "metadata": {
    "colab": {
      "name": "Convert Bagfile to Video.ipynb",
      "provenance": [],
      "toc_visible": true,
      "authorship_tag": "ABX9TyNgrFgHXHzb94gzwhUjsvPV",
      "include_colab_link": true
    },
    "kernelspec": {
      "name": "python3",
      "display_name": "Python 3"
    },
    "language_info": {
      "name": "python"
    }
  },
  "cells": [
    {
      "cell_type": "markdown",
      "metadata": {
        "id": "view-in-github",
        "colab_type": "text"
      },
      "source": [
        "<a href=\"https://colab.research.google.com/github/ProtossDragoon/paper_implementation_and_testing_tf2/blob/main/utils/rosutils/Convert_Bagfile_to_Video.ipynb\" target=\"_parent\"><img src=\"https://colab.research.google.com/assets/colab-badge.svg\" alt=\"Open In Colab\"/></a>"
      ]
    },
    {
      "cell_type": "markdown",
      "metadata": {
        "id": "MR7El9pBTuK6"
      },
      "source": [
        "# Convert ROS Bagfile to Video\n",
        "\n",
        "## Author\n",
        "\n",
        "name : Janghoo Lee <br>\n",
        "github : https://github.com/ProtossDragoon <br>\n",
        "contact : dlwkdgn1@naver.com <br>\n",
        "circle : https://github.com/sju-coml <br>\n",
        "organization : https://web.deering.co/ <br>\n",
        "published date : June, 2021\n",
        "\n",
        "\n",
        "## Related Notebook\n",
        "\n",
        "[Notebooks](https://github.com/ProtossDragoon/paper_implementation_and_testing_tf2/tree/main/notebooks)\n"
      ]
    },
    {
      "cell_type": "markdown",
      "metadata": {
        "id": "qM0Cw2qsUd73"
      },
      "source": [
        "# Environment"
      ]
    },
    {
      "cell_type": "code",
      "metadata": {
        "id": "ZwcSF_v8UjII"
      },
      "source": [
        "import os, sys\n",
        "import matplotlib.pyplot as plt\n",
        "from sklearn.model_selection import train_test_split\n",
        "import numpy as np\n",
        "from tqdm.notebook import tqdm as tqdm"
      ],
      "execution_count": 35,
      "outputs": []
    },
    {
      "cell_type": "markdown",
      "metadata": {
        "id": "iguBTZxlUest"
      },
      "source": [
        "## Install ROS (Melodic)"
      ]
    },
    {
      "cell_type": "code",
      "metadata": {
        "colab": {
          "base_uri": "https://localhost:8080/"
        },
        "id": "Uby4oCEETjKd",
        "outputId": "55462534-17a0-4fc0-fce5-edda9c5ac79c"
      },
      "source": [
        "!sudo sh -c 'echo \"deb http://packages.ros.org/ros/ubuntu $(lsb_release -sc) main\" > /etc/apt/sources.list.d/ros-latest.list'\n",
        "\n",
        "!sudo apt-key adv --keyserver 'hkp://keyserver.ubuntu.com:80' --recv-key C1CF6E31E6BADE8868B172B4F42ED6FBAB17C654\n",
        "\n",
        "!sudo apt update\n",
        "\n",
        "!sudo apt install ros-melodic-desktop-full\n",
        "\n",
        "!pip install --extra-index-url https://rospypi.github.io/simple/ rospy\n",
        "\n",
        "import rospy\n",
        "### wait, we need a master:\n",
        "\n",
        "!printf -- '#!/bin/bash\\n' > ros_start.sh\n",
        "!printf -- 'source /opt/ros/melodic/setup.bash\\n' >> ros_start.sh\n",
        "!printf -- '/opt/ros/melodic/bin/roscore' >> ros_start.sh\n",
        "!chmod +x ros_start.sh\n",
        "!cat ros_start.sh\n",
        "\n",
        "import subprocess\n",
        "import os\n",
        "prc = subprocess.Popen([os.getcwd()+\"/ros_start.sh\"])"
      ],
      "execution_count": 36,
      "outputs": [
        {
          "output_type": "stream",
          "text": [
            "Executing: /tmp/apt-key-gpghome.T7kTrk0jyG/gpg.1.sh --keyserver hkp://keyserver.ubuntu.com:80 --recv-key C1CF6E31E6BADE8868B172B4F42ED6FBAB17C654\n",
            "gpg: key F42ED6FBAB17C654: \"Open Robotics <info@osrfoundation.org>\" not changed\n",
            "gpg: Total number processed: 1\n",
            "gpg:              unchanged: 1\n",
            "Hit:1 https://cloud.r-project.org/bin/linux/ubuntu bionic-cran40/ InRelease\n",
            "Get:2 http://security.ubuntu.com/ubuntu bionic-security InRelease [88.7 kB]\n",
            "Hit:3 http://packages.ros.org/ros/ubuntu bionic InRelease\n",
            "Ign:4 https://developer.download.nvidia.com/compute/cuda/repos/ubuntu1804/x86_64  InRelease\n",
            "Get:5 http://ppa.launchpad.net/c2d4u.team/c2d4u4.0+/ubuntu bionic InRelease [15.9 kB]\n",
            "Ign:6 https://developer.download.nvidia.com/compute/machine-learning/repos/ubuntu1804/x86_64  InRelease\n",
            "Hit:7 https://developer.download.nvidia.com/compute/cuda/repos/ubuntu1804/x86_64  Release\n",
            "Hit:8 https://developer.download.nvidia.com/compute/machine-learning/repos/ubuntu1804/x86_64  Release\n",
            "Hit:9 http://archive.ubuntu.com/ubuntu bionic InRelease\n",
            "Get:10 http://archive.ubuntu.com/ubuntu bionic-updates InRelease [88.7 kB]\n",
            "Hit:11 http://ppa.launchpad.net/cran/libgit2/ubuntu bionic InRelease\n",
            "Hit:13 http://ppa.launchpad.net/deadsnakes/ppa/ubuntu bionic InRelease\n",
            "Get:15 http://archive.ubuntu.com/ubuntu bionic-backports InRelease [74.6 kB]\n",
            "Hit:16 http://ppa.launchpad.net/graphics-drivers/ppa/ubuntu bionic InRelease\n",
            "Get:17 http://ppa.launchpad.net/c2d4u.team/c2d4u4.0+/ubuntu bionic/main amd64 Packages [909 kB]\n",
            "Fetched 1,177 kB in 1s (844 kB/s)\n",
            "Reading package lists... Done\n",
            "Building dependency tree       \n",
            "Reading state information... Done\n",
            "78 packages can be upgraded. Run 'apt list --upgradable' to see them.\n",
            "Reading package lists... Done\n",
            "Building dependency tree       \n",
            "Reading state information... Done\n",
            "ros-melodic-desktop-full is already the newest version (1.4.1-0bionic.20210601.163047).\n",
            "0 upgraded, 0 newly installed, 0 to remove and 78 not upgraded.\n",
            "Looking in indexes: https://pypi.org/simple, https://rospypi.github.io/simple/\n",
            "Requirement already satisfied: rospy in /usr/local/lib/python3.7/dist-packages (1.15.11)\n",
            "Requirement already satisfied: genpy<2000 in /usr/local/lib/python3.7/dist-packages (from rospy) (0.6.14)\n",
            "Requirement already satisfied: rospkg in /usr/local/lib/python3.7/dist-packages (from rospy) (1.3.0)\n",
            "Requirement already satisfied: roslib in /usr/local/lib/python3.7/dist-packages (from rospy) (1.14.7.post0)\n",
            "Requirement already satisfied: std-msgs in /usr/local/lib/python3.7/dist-packages (from rospy) (0.5.13.post0)\n",
            "Requirement already satisfied: rosgraph-msgs in /usr/local/lib/python3.7/dist-packages (from rospy) (1.11.3.post2)\n",
            "Requirement already satisfied: rosgraph in /usr/local/lib/python3.7/dist-packages (from rospy) (1.15.11)\n",
            "Requirement already satisfied: numpy in /usr/local/lib/python3.7/dist-packages (from rospy) (1.19.5)\n",
            "Requirement already satisfied: roscpp in /usr/local/lib/python3.7/dist-packages (from rospy) (1.15.11)\n",
            "Requirement already satisfied: genmsg in /usr/local/lib/python3.7/dist-packages (from genpy<2000->rospy) (0.5.12)\n",
            "Requirement already satisfied: distro in /usr/local/lib/python3.7/dist-packages (from rospkg->rospy) (1.5.0)\n",
            "Requirement already satisfied: catkin-pkg in /usr/local/lib/python3.7/dist-packages (from rospkg->rospy) (0.4.23)\n",
            "Requirement already satisfied: PyYAML in /usr/local/lib/python3.7/dist-packages (from rospkg->rospy) (3.13)\n",
            "Requirement already satisfied: catkin in /usr/local/lib/python3.7/dist-packages (from roslib->rospy) (0.7.18)\n",
            "Requirement already satisfied: python-dateutil in /usr/local/lib/python3.7/dist-packages (from catkin-pkg->rospkg->rospy) (2.8.1)\n",
            "Requirement already satisfied: pyparsing in /usr/local/lib/python3.7/dist-packages (from catkin-pkg->rospkg->rospy) (2.4.7)\n",
            "Requirement already satisfied: docutils in /usr/local/lib/python3.7/dist-packages (from catkin-pkg->rospkg->rospy) (0.17.1)\n",
            "Requirement already satisfied: six>=1.5 in /usr/local/lib/python3.7/dist-packages (from python-dateutil->catkin-pkg->rospkg->rospy) (1.15.0)\n",
            "#!/bin/bash\n",
            "source /opt/ros/melodic/setup.bash\n",
            "/opt/ros/melodic/bin/roscore"
          ],
          "name": "stdout"
        }
      ]
    },
    {
      "cell_type": "markdown",
      "metadata": {
        "id": "nLfKxV3FUlbL"
      },
      "source": [
        "## Google Drive / Git"
      ]
    },
    {
      "cell_type": "code",
      "metadata": {
        "colab": {
          "base_uri": "https://localhost:8080/"
        },
        "id": "vwZe6L4oUnPX",
        "outputId": "1a241bc4-d841-4363-d40c-fd4ae7679c1b"
      },
      "source": [
        "#!rm -r /content/gdrive/\n",
        "from google.colab import drive\n",
        "drive.mount('/content/gdrive')"
      ],
      "execution_count": 37,
      "outputs": [
        {
          "output_type": "stream",
          "text": [
            "Drive already mounted at /content/gdrive; to attempt to forcibly remount, call drive.mount(\"/content/gdrive\", force_remount=True).\n"
          ],
          "name": "stdout"
        }
      ]
    },
    {
      "cell_type": "code",
      "metadata": {
        "id": "h3cSi5KSUm_J"
      },
      "source": [
        "HOME_DIR = \"/content/gdrive/MyDrive\"\n",
        "WS = os.path.join(HOME_DIR, \"ColabWorkspace\")\n",
        "DATA_DIR = os.path.join(HOME_DIR, 'data')\n",
        "DATA_ROSBAG_DIR = os.path.join(DATA_DIR, 'rosbag')\n",
        "DATA_VIDEO_DIR = os.path.join(DATA_DIR, 'video')\n",
        "\n",
        "GIT_REPO_NAME = 'paper_implementation_and_testing_tf2'\n",
        "GIT_WS = os.path.join(WS, GIT_REPO_NAME)\n",
        "\n",
        "GIT_BRANCH = 'master'\n",
        "GIT_USERNAME = None # Add herea\n",
        "GIT_EMAIL = None\n",
        "GIT_PASSWORD = None # Add here"
      ],
      "execution_count": 38,
      "outputs": []
    },
    {
      "cell_type": "code",
      "metadata": {
        "colab": {
          "base_uri": "https://localhost:8080/"
        },
        "id": "rzmdmLJnU5pm",
        "outputId": "946ca4dd-7414-42f0-fec9-2692bd63e008"
      },
      "source": [
        "!mkdir -p {WS}\n",
        "%cd {WS}\n",
        "!git clone https://github.com/ProtossDragoon/{GIT_REPO_NAME}.git\n",
        "%cd {GIT_WS}\n",
        "!git config --global user.name {GIT_USERNAME}\n",
        "!git config --global user.email {GIT_EMAIL}\n",
        "!git checkout -b {GIT_BRANCH}\n",
        "!git checkout {GIT_BRANCH}\n",
        "!git pull origin {GIT_BRANCH}\n",
        "!git push origin {GIT_BRANCH}\n",
        "!git branch\n",
        "!git branch --set-upstream-to origin/{GIT_BRANCH}"
      ],
      "execution_count": 39,
      "outputs": [
        {
          "output_type": "stream",
          "text": [
            "/content/gdrive/MyDrive/ColabWorkspace\n",
            "fatal: destination path 'paper_implementation_and_testing_tf2' already exists and is not an empty directory.\n",
            "/content/gdrive/MyDrive/ColabWorkspace/paper_implementation_and_testing_tf2\n",
            "fatal: A branch named 'master' already exists.\n",
            "Already on 'master'\n",
            "fatal: Couldn't find remote ref master\n",
            "fatal: could not read Username for 'https://github.com': No such device or address\n",
            "  list\u001b[m\n",
            "  main\u001b[m\n",
            "* \u001b[32mmaster\u001b[m\n",
            "  resnet\u001b[m\n",
            "  tftrt\u001b[m\n",
            "  unet\u001b[m\n",
            "error: the requested upstream branch 'origin/master' does not exist\n",
            "hint: \n",
            "hint: If you are planning on basing your work on an upstream\n",
            "hint: branch that already exists at the remote, you may need to\n",
            "hint: run \"git fetch\" to retrieve it.\n",
            "hint: \n",
            "hint: If you are planning to push out a new local branch that\n",
            "hint: will track its remote counterpart, you may want to use\n",
            "hint: \"git push -u\" to set the upstream config as you push.\n"
          ],
          "name": "stdout"
        }
      ]
    },
    {
      "cell_type": "markdown",
      "metadata": {
        "id": "K5FbZ6iVAICn"
      },
      "source": [
        "# Convert"
      ]
    },
    {
      "cell_type": "markdown",
      "metadata": {
        "id": "uuPv0IR1AGo9"
      },
      "source": [
        "## Hyper Parameters"
      ]
    },
    {
      "cell_type": "code",
      "metadata": {
        "colab": {
          "base_uri": "https://localhost:8080/"
        },
        "id": "hIudZQ7YALBJ",
        "outputId": "69c1ee38-58d0-4640-f1de-f9d0cb66c223"
      },
      "source": [
        "DATA_BAGFILE_NAME = \"ku1.bag\" #@param {type:\"string\"}\n",
        "DATA_BAGFILE_PATH  = os.path.join(DATA_ROSBAG_DIR, DATA_BAGFILE_NAME)#@param\n",
        "OUTPUT_PATH = os.path.join(DATA_VIDEO_DIR, DATA_BAGFILE_NAME) #@param\n",
        "\n",
        "print('{} -> {}'.format(DATA_BAGFILE_PATH, OUTPUT_PATH))"
      ],
      "execution_count": 42,
      "outputs": [
        {
          "output_type": "stream",
          "text": [
            "/content/gdrive/MyDrive/data/rosbag/ku1.bag -> /content/gdrive/MyDrive/data/video/ku1.bag\n"
          ],
          "name": "stdout"
        }
      ]
    },
    {
      "cell_type": "markdown",
      "metadata": {
        "id": "nfuSF1b1AK2C"
      },
      "source": [
        "## Run"
      ]
    },
    {
      "cell_type": "code",
      "metadata": {
        "id": "qi68gq4Lg1ae"
      },
      "source": [
        "print(bagfile)\n",
        "outfile = args.outfile\n",
        "\n",
        "if not outfile:\n",
        "    outfile = os.path.join(*os.path.split(bagfile)[-1].split('.')[:-1]) + '.avi'\n",
        "\n",
        "bag = rosbag.Bag(bagfile, 'r')\n",
        "print('Calculating video properties')\n",
        "rate, minrate, maxrate, size, times = get_info(bag, args.topic, start_time=args.start, stop_time=args.end)\n",
        "nframes = calc_n_frames(times, args.precision)\n",
        "# writer = cv2.VideoWriter(outfile, cv2.cv.CV_FOURCC(*'DIVX'), rate, size)\n",
        "writer = cv2.VideoWriter(outfile, cv2.VideoWriter_fourcc(*'DIVX'), np.ceil(maxrate*args.precision), size)\n",
        "print('Writing video')\n",
        "write_frames(bag, writer, len(times), topic=args.topic, nframes=nframes, start_time=args.start, stop_time=args.end, encoding=args.encoding)\n",
        "writer.release()\n",
        "print('\\n')"
      ],
      "execution_count": null,
      "outputs": []
    }
  ]
}