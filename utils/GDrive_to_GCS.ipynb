{
  "nbformat": 4,
  "nbformat_minor": 0,
  "metadata": {
    "colab": {
      "name": "GDrive to GCS.ipynb",
      "provenance": [],
      "collapsed_sections": [],
      "toc_visible": true,
      "machine_shape": "hm",
      "authorship_tag": "ABX9TyPaqZ2yRvt1OTPNCxdXo8+i",
      "include_colab_link": true
    },
    "kernelspec": {
      "name": "python3",
      "display_name": "Python 3"
    },
    "language_info": {
      "name": "python"
    },
    "accelerator": "GPU"
  },
  "cells": [
    {
      "cell_type": "markdown",
      "metadata": {
        "id": "view-in-github",
        "colab_type": "text"
      },
      "source": [
        "<a href=\"https://colab.research.google.com/github/ProtossDragoon/paper_implementation_and_testing_tf2/blob/main/utils/GDrive_to_GCS.ipynb\" target=\"_parent\"><img src=\"https://colab.research.google.com/assets/colab-badge.svg\" alt=\"Open In Colab\"/></a>"
      ]
    },
    {
      "cell_type": "markdown",
      "metadata": {
        "id": "TfVY3z52Gm_p"
      },
      "source": [
        "# GDrive to GCS\n",
        "\n",
        "## Author\n",
        "\n",
        "name : Janghoo Lee <br>\n",
        "github : https://github.com/ProtossDragoon <br>\n",
        "contact : dlwkdgn1@naver.com <br>\n",
        "circle : https://github.com/sju-coml <br>\n",
        "organization : https://web.deering.co/ <br>\n",
        "published date : June, 2021\n",
        "\n",
        "## Related Notebook\n",
        "\n",
        "[Notebooks](https://github.com/ProtossDragoon/paper_implementation_and_testing_tf2/tree/main/notebooks)\n"
      ]
    },
    {
      "cell_type": "markdown",
      "metadata": {
        "id": "3dO6rwIiLkEJ"
      },
      "source": [
        "# Environment"
      ]
    },
    {
      "cell_type": "markdown",
      "metadata": {
        "id": "8ECfcZJh2657"
      },
      "source": [
        "## Import"
      ]
    },
    {
      "cell_type": "code",
      "metadata": {
        "id": "QCcjt-Ch24q-"
      },
      "source": [
        "import os"
      ],
      "execution_count": 1,
      "outputs": []
    },
    {
      "cell_type": "markdown",
      "metadata": {
        "id": "xUWc1NFU1-Cy"
      },
      "source": [
        "## Global Hyper parameters"
      ]
    },
    {
      "cell_type": "code",
      "metadata": {
        "id": "TZeQOH6n1-OS"
      },
      "source": [
        "HOME_DIR = \"/content/gdrive/MyDrive\"\n",
        "DATA_DIR = os.path.join(HOME_DIR, 'data')\n",
        "\n",
        "GIT_USERNAME = None\n",
        "GIT_EMAIL = None\n",
        "GIT_PASSWORD = None"
      ],
      "execution_count": 2,
      "outputs": []
    },
    {
      "cell_type": "markdown",
      "metadata": {
        "id": "O7pBh2Kuy42T"
      },
      "source": [
        "## Google Drive"
      ]
    },
    {
      "cell_type": "code",
      "metadata": {
        "colab": {
          "base_uri": "https://localhost:8080/"
        },
        "id": "MgtMdjRTy8aF",
        "outputId": "7f11cf85-33cd-47f7-f2d0-1674855f73a7"
      },
      "source": [
        "from google.colab import drive\n",
        "drive.mount('/content/gdrive')"
      ],
      "execution_count": 4,
      "outputs": [
        {
          "output_type": "stream",
          "text": [
            "Mounted at /content/gdrive\n"
          ],
          "name": "stdout"
        }
      ]
    },
    {
      "cell_type": "markdown",
      "metadata": {
        "id": "3oThQWfAy7ue"
      },
      "source": [
        "## GCP"
      ]
    },
    {
      "cell_type": "code",
      "metadata": {
        "colab": {
          "base_uri": "https://localhost:8080/"
        },
        "id": "dMsnQVbXy-8j",
        "outputId": "4b3d4fb1-d29a-4d62-c9a6-8a926c8f4188"
      },
      "source": [
        "GCP_BUCKET_NAME = \"deer-rudolph\" #@param {type:\"string\"}\n",
        "GCP_BUCKET_DATA_FOLDER_NAME = 'data' #@param {type:\"string\"}\n",
        "GCP_PROJECT_NAME = 'deer-deep-learning-project'#@param {type:\"string\"}\n",
        "GCP_PROJECT_ID = 'linear-freehold-314804' #@param {type:\"string\"}\n",
        "GCP_HOME_DIR = os.path.join('gs://', GCP_BUCKET_NAME)\n",
        "\n",
        "from google.colab import auth\n",
        "auth.authenticate_user()\n",
        "!gcloud config set project {GCP_PROJECT_ID}"
      ],
      "execution_count": 10,
      "outputs": [
        {
          "output_type": "stream",
          "text": [
            "Updated property [core/project].\n"
          ],
          "name": "stdout"
        }
      ]
    },
    {
      "cell_type": "code",
      "metadata": {
        "colab": {
          "base_uri": "https://localhost:8080/"
        },
        "id": "E2Zb5upi1QhD",
        "outputId": "c3be30d8-d58e-4739-840d-b9c7c95520f4"
      },
      "source": [
        "!gsutil ls -al"
      ],
      "execution_count": 7,
      "outputs": [
        {
          "output_type": "stream",
          "text": [
            "gs://deer-rudolph/\n"
          ],
          "name": "stdout"
        }
      ]
    },
    {
      "cell_type": "code",
      "metadata": {
        "colab": {
          "base_uri": "https://localhost:8080/"
        },
        "id": "-RrCAMiG1SPd",
        "outputId": "695ab7f8-d93b-4963-9e58-b0e6afa79a4d"
      },
      "source": [
        "!ls -al"
      ],
      "execution_count": 8,
      "outputs": [
        {
          "output_type": "stream",
          "text": [
            "total 36\n",
            "drwxr-xr-x 1 root root 4096 Jun 28 06:28 .\n",
            "drwxr-xr-x 1 root root 4096 Jun 28 06:25 ..\n",
            "-rw-r--r-- 1 root root  720 Jun 28 06:28 adc.json\n",
            "drwxr-xr-x 1 root root 4096 Jun 28 06:28 .config\n",
            "drwx------ 6 root root 4096 Jun 28 06:26 gdrive\n",
            "drwxr-xr-x 1 root root 4096 Jun 15 13:37 sample_data\n",
            "drwxr-xr-x 2 root root 4096 Jun 28 06:26 {WS}\n"
          ],
          "name": "stdout"
        }
      ]
    },
    {
      "cell_type": "markdown",
      "metadata": {
        "id": "iFTkHmkJz6fG"
      },
      "source": [
        "# Copy GDrive data to GCS"
      ]
    },
    {
      "cell_type": "code",
      "metadata": {
        "colab": {
          "base_uri": "https://localhost:8080/"
        },
        "id": "A80LefOu6oR5",
        "outputId": "c944e467-3bff-43c1-fda4-74ac0f31cfe3"
      },
      "source": [
        "%cd {DATA_DIR}\n",
        "!ls"
      ],
      "execution_count": null,
      "outputs": [
        {
          "output_type": "stream",
          "text": [
            "/content/gdrive/MyDrive/data\n",
            "aihubsidewalk  Surface_1.zip  Surface_3.zip  Surface_5.zip\n",
            "imagenet       Surface_2.zip  Surface_4.zip\n"
          ],
          "name": "stdout"
        }
      ]
    },
    {
      "cell_type": "markdown",
      "metadata": {
        "id": "AwHGUtuKl25E"
      },
      "source": [
        "## [Caution] Specific Dataset Example"
      ]
    },
    {
      "cell_type": "code",
      "metadata": {
        "colab": {
          "base_uri": "https://localhost:8080/"
        },
        "id": "_mwww3w6Vc-M",
        "outputId": "f0f0a601-d6c7-4cac-cecc-bbf07f8d2111"
      },
      "source": [
        "DATASET_NAME = 'camvid' #@param {type:\"string\"}\n",
        "print('from (Gdrive) - {}\\nto (GCS) - {}'.format(os.path.join(DATA_DIR, DATASET_NAME), \n",
        "                                                 os.path.join(GCP_HOME_DIR, GCP_BUCKET_DATA_FOLDER_NAME, DATASET_NAME)))\n",
        "print('\\nGoogle drive :: ')\n",
        "%ls {DATA_DIR}/{DATASET_NAME}/\n",
        "print('\\nGoogle Cloud Storage :: ')\n",
        "!gsutil ls gs://{GCP_BUCKET_NAME}/{GCP_BUCKET_DATA_FOLDER_NAME}/{DATASET_NAME}\n",
        "# If CLI raise CommandException: No URLs matched: <path>, go to GCS console and make directory for <path>."
      ],
      "execution_count": 22,
      "outputs": [
        {
          "output_type": "stream",
          "text": [
            "from (Gdrive) - /content/gdrive/MyDrive/data/camvid\n",
            "to (GCS) - gs://deer-rudolph/data/camvid\n",
            "\n",
            "Google drive :: \n",
            "\u001b[0m\u001b[01;34mtest\u001b[0m/       test.txt  \u001b[01;34mtrainannot\u001b[0m/  \u001b[01;34mval\u001b[0m/       val.txt\n",
            "\u001b[01;34mtestannot\u001b[0m/  \u001b[01;34mtrain\u001b[0m/    train.txt    \u001b[01;34mvalannot\u001b[0m/\n",
            "\n",
            "Google Cloud Storage :: \n",
            "CommandException: One or more URLs matched no objects.\n"
          ],
          "name": "stdout"
        }
      ]
    },
    {
      "cell_type": "code",
      "metadata": {
        "id": "qq7NAkIsSKAC"
      },
      "source": [
        "# If you have a large number of files to transfer, you can perform a parallel multi-threaded/multi-processing copy using the top-level gsutil -m option\n",
        "!gsutil -m cp -r {DATA_DIR}/{DATASET_NAME} gs://{GCP_BUCKET_NAME}/{GCP_BUCKET_DATA_FOLDER_NAME}/{DATASET_NAME}"
      ],
      "execution_count": null,
      "outputs": []
    },
    {
      "cell_type": "markdown",
      "metadata": {
        "id": "OI0hRCFKl3U3"
      },
      "source": [
        "## [Caution] All datasets"
      ]
    },
    {
      "cell_type": "code",
      "metadata": {
        "colab": {
          "base_uri": "https://localhost:8080/"
        },
        "id": "ASZytaZqz6Rb",
        "outputId": "9e29f83e-8096-4317-f2e1-bed721331433"
      },
      "source": [
        "# If you have a large number of files to transfer, you can perform a parallel multi-threaded/multi-processing copy using the top-level gsutil -m option\n",
        "!gsutil -m cp -r {DATA_DIR} gs://{GCS_BUCKET_NAME}/{GCS_BUCKET_DATA_FOLDER_NAME}"
      ],
      "execution_count": null,
      "outputs": [
        {
          "output_type": "stream",
          "text": [
            "Copying file:///content/gdrive/MyDrive/data/imagenet/train/n02537525.tar [Content-Type=application/x-tar]...\n",
            "Copying file:///content/gdrive/MyDrive/data/imagenet/train/n02514041.tar [Content-Type=application/x-tar]...\n",
            "Copying file:///content/gdrive/MyDrive/data/imagenet/train/n01728572.tar [Content-Type=application/x-tar]...\n",
            "Copying file:///content/gdrive/MyDrive/data/imagenet/train/n01630670.tar [Content-Type=application/x-tar]...\n",
            "Copying file:///content/gdrive/MyDrive/data/imagenet/train/n01669191.tar [Content-Type=application/x-tar]...\n"
          ],
          "name": "stdout"
        }
      ]
    }
  ]
}