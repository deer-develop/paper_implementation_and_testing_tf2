{
  "nbformat": 4,
  "nbformat_minor": 0,
  "metadata": {
    "colab": {
      "name": "GDrive to GCS.ipynb",
      "provenance": [],
      "collapsed_sections": [],
      "machine_shape": "hm",
      "authorship_tag": "ABX9TyMf9xYwSFjjJ50hZwldFvVi",
      "include_colab_link": true
    },
    "kernelspec": {
      "name": "python3",
      "display_name": "Python 3"
    },
    "language_info": {
      "name": "python"
    },
    "accelerator": "GPU"
  },
  "cells": [
    {
      "cell_type": "markdown",
      "metadata": {
        "id": "view-in-github",
        "colab_type": "text"
      },
      "source": [
        "<a href=\"https://colab.research.google.com/github/ProtossDragoon/paper_implementation_and_testing_tf2/blob/main/utils/GDrive_to_GCS.ipynb\" target=\"_parent\"><img src=\"https://colab.research.google.com/assets/colab-badge.svg\" alt=\"Open In Colab\"/></a>"
      ]
    },
    {
      "cell_type": "markdown",
      "metadata": {
        "id": "TfVY3z52Gm_p"
      },
      "source": [
        "# GDrive to GCS\n",
        "\n",
        "## Author\n",
        "\n",
        "name : Janghoo Lee <br>\n",
        "github : https://github.com/ProtossDragoon <br>\n",
        "contact : dlwkdgn1@naver.com <br>\n",
        "circle : https://github.com/sju-coml <br>\n",
        "organization : https://web.deering.co/ <br>\n",
        "published date : June, 2021"
      ]
    },
    {
      "cell_type": "markdown",
      "metadata": {
        "id": "3dO6rwIiLkEJ"
      },
      "source": [
        "# Environment"
      ]
    },
    {
      "cell_type": "markdown",
      "metadata": {
        "id": "8ECfcZJh2657"
      },
      "source": [
        "## Import"
      ]
    },
    {
      "cell_type": "code",
      "metadata": {
        "id": "QCcjt-Ch24q-"
      },
      "source": [
        "import os"
      ],
      "execution_count": 2,
      "outputs": []
    },
    {
      "cell_type": "markdown",
      "metadata": {
        "id": "xUWc1NFU1-Cy"
      },
      "source": [
        "## Global Hyper parameters"
      ]
    },
    {
      "cell_type": "code",
      "metadata": {
        "id": "TZeQOH6n1-OS"
      },
      "source": [
        "HOME_DIR = \"/content/gdrive/MyDrive\"\n",
        "DATA_DIR = os.path.join(HOME_DIR, 'data')\n",
        "\n",
        "GIT_USERNAME = None\n",
        "GIT_EMAIL = None\n",
        "GIT_PASSWORD = None"
      ],
      "execution_count": 3,
      "outputs": []
    },
    {
      "cell_type": "markdown",
      "metadata": {
        "id": "O7pBh2Kuy42T"
      },
      "source": [
        "## 1 - Google Drive"
      ]
    },
    {
      "cell_type": "code",
      "metadata": {
        "colab": {
          "base_uri": "https://localhost:8080/"
        },
        "id": "MgtMdjRTy8aF",
        "outputId": "97836f37-9519-40e7-da85-43fa3f6435dc"
      },
      "source": [
        "from google.colab import drive\n",
        "drive.mount('/content/gdrive')"
      ],
      "execution_count": 6,
      "outputs": [
        {
          "output_type": "stream",
          "text": [
            "Mounted at /content/gdrive\n"
          ],
          "name": "stdout"
        }
      ]
    },
    {
      "cell_type": "code",
      "metadata": {
        "id": "EdELxznT2TZq"
      },
      "source": [
        "!mkdir -p {WS}"
      ],
      "execution_count": 7,
      "outputs": []
    },
    {
      "cell_type": "markdown",
      "metadata": {
        "id": "3oThQWfAy7ue"
      },
      "source": [
        "## 2 - GCP"
      ]
    },
    {
      "cell_type": "code",
      "metadata": {
        "colab": {
          "base_uri": "https://localhost:8080/"
        },
        "id": "dMsnQVbXy-8j",
        "outputId": "8f4430b6-c0d7-4f9c-ca7f-f5ecddf99468"
      },
      "source": [
        "GCS_BUCKET_NAME = 'deer-rudolph'\n",
        "GCS_BUCKET_DATA_FOLDER_NAME = 'data'\n",
        "GCS_PROJECT_NAME = 'deer-deep-learning-project'\n",
        "GCS_PROJECT_ID = 'linear-freehold-314804'\n",
        "\n",
        "from google.colab import auth\n",
        "auth.authenticate_user()\n",
        "!gcloud config set project {GCS_PROJECT_ID}"
      ],
      "execution_count": 10,
      "outputs": [
        {
          "output_type": "stream",
          "text": [
            "Updated property [core/project].\n",
            "\n",
            "\n",
            "To take a quick anonymous survey, run:\n",
            "  $ gcloud survey\n",
            "\n"
          ],
          "name": "stdout"
        }
      ]
    },
    {
      "cell_type": "code",
      "metadata": {
        "colab": {
          "base_uri": "https://localhost:8080/"
        },
        "id": "E2Zb5upi1QhD",
        "outputId": "1edd1778-681f-472e-d902-47c1f1348aa5"
      },
      "source": [
        "!gsutil ls -al"
      ],
      "execution_count": 11,
      "outputs": [
        {
          "output_type": "stream",
          "text": [
            "gs://deer-rudolph/\n"
          ],
          "name": "stdout"
        }
      ]
    },
    {
      "cell_type": "code",
      "metadata": {
        "colab": {
          "base_uri": "https://localhost:8080/"
        },
        "id": "-RrCAMiG1SPd",
        "outputId": "8f0e677a-8c60-4a8b-bfd8-0907a24b99f5"
      },
      "source": [
        "!ls -al"
      ],
      "execution_count": 12,
      "outputs": [
        {
          "output_type": "stream",
          "text": [
            "total 32\n",
            "drwxr-xr-x 1 root root 4096 May 26 04:29 .\n",
            "drwxr-xr-x 1 root root 4096 May 26 04:25 ..\n",
            "-rw-r--r-- 1 root root  720 May 26 04:29 adc.json\n",
            "drwxr-xr-x 1 root root 4096 May 26 04:29 .config\n",
            "drwx------ 6 root root 4096 May 26 04:29 gdrive\n",
            "drwxr-xr-x 1 root root 4096 May  6 13:44 sample_data\n"
          ],
          "name": "stdout"
        }
      ]
    },
    {
      "cell_type": "markdown",
      "metadata": {
        "id": "iFTkHmkJz6fG"
      },
      "source": [
        "### [Caution] Copy GDrive data to GCS"
      ]
    },
    {
      "cell_type": "code",
      "metadata": {
        "colab": {
          "base_uri": "https://localhost:8080/"
        },
        "id": "A80LefOu6oR5",
        "outputId": "c944e467-3bff-43c1-fda4-74ac0f31cfe3"
      },
      "source": [
        "%cd {DATA_DIR}\n",
        "!ls"
      ],
      "execution_count": 13,
      "outputs": [
        {
          "output_type": "stream",
          "text": [
            "/content/gdrive/MyDrive/data\n",
            "aihubsidewalk  Surface_1.zip  Surface_3.zip  Surface_5.zip\n",
            "imagenet       Surface_2.zip  Surface_4.zip\n"
          ],
          "name": "stdout"
        }
      ]
    },
    {
      "cell_type": "markdown",
      "metadata": {
        "id": "AwHGUtuKl25E"
      },
      "source": [
        "### [Caution] Specific Dataset Example"
      ]
    },
    {
      "cell_type": "code",
      "metadata": {
        "colab": {
          "base_uri": "https://localhost:8080/"
        },
        "id": "qq7NAkIsSKAC",
        "outputId": "78cbb034-6feb-4acf-d455-e260bc47f6e9"
      },
      "source": [
        "DATASET_NAME = 'imagenet'\n",
        "!gsutil -m cp -r {DATA_DIR}/{DATASET_NAME}/* gs://{GCS_BUCKET_NAME}/{GCS_BUCKET_DATA_FOLDER_NAME}/{DATASET_NAME}"
      ],
      "execution_count": 13,
      "outputs": [
        {
          "output_type": "stream",
          "text": [
            "Copying file:///content/gdrive/MyDrive/data/imagenet/test/ILSVRC2010_images_test.tar [Content-Type=application/x-tar]...\n",
            "/ [0 files][    0.0 B/ 15.3 GiB]                                                \r==> NOTE: You are uploading one or more large file(s), which would run\n",
            "significantly faster if you enable parallel composite uploads. This\n",
            "feature can be enabled by editing the\n",
            "\"parallel_composite_upload_threshold\" value in your .boto\n",
            "configuration file. However, note that if you do this large files will\n",
            "be uploaded as `composite objects\n",
            "<https://cloud.google.com/storage/docs/composite-objects>`_,which\n",
            "means that any user who downloads such objects will need to have a\n",
            "compiled crcmod installed (see \"gsutil help crcmod\"). This is because\n",
            "without a compiled crcmod, computing checksums on composite objects is\n",
            "so slow that gsutil disables downloads of composite objects.\n",
            "\n",
            "Copying file:///content/gdrive/MyDrive/data/imagenet/train/ILSVRC2010_images_train.tar [Content-Type=application/x-tar]...\n",
            "Copying file:///content/gdrive/MyDrive/data/imagenet/val/ILSVRC2010_images_val.tar [Content-Type=application/x-tar]...\n",
            "Catching up md5 for file:///content/gdrive/MyDrive/data/imagenet/train/ILSVRC2010_images_train.tar...\n",
            "Catching up md5 for file:///content/gdrive/MyDrive/data/imagenet/train/ILSVRC2010_images_train.tar...\n",
            "Catching up md5 for file:///content/gdrive/MyDrive/data/imagenet/train/ILSVRC2010_images_train.tar...\n",
            "Catching up md5 for file:///content/gdrive/MyDrive/data/imagenet/train/ILSVRC2010_images_train.tar...\n",
            "Catching up md5 for file:///content/gdrive/MyDrive/data/imagenet/train/ILSVRC2010_images_train.tar...\n",
            "Catching up md5 for file:///content/gdrive/MyDrive/data/imagenet/train/ILSVRC2010_images_train.tar...\n",
            "Catching up md5 for file:///content/gdrive/MyDrive/data/imagenet/train/ILSVRC2010_images_train.tar...\n",
            "Exception in UIThread: \n",
            "Caught CTRL-C (signal 2) - exiting\n",
            "^C\n"
          ],
          "name": "stdout"
        }
      ]
    },
    {
      "cell_type": "markdown",
      "metadata": {
        "id": "OI0hRCFKl3U3"
      },
      "source": [
        "### [Caution] All datasets"
      ]
    },
    {
      "cell_type": "code",
      "metadata": {
        "colab": {
          "base_uri": "https://localhost:8080/"
        },
        "id": "ASZytaZqz6Rb",
        "outputId": "9e29f83e-8096-4317-f2e1-bed721331433"
      },
      "source": [
        "!gsutil -m cp -r {DATA_DIR}/* gs://{GCS_BUCKET_NAME}/{GCS_BUCKET_DATA_FOLDER_NAME}"
      ],
      "execution_count": null,
      "outputs": [
        {
          "output_type": "stream",
          "text": [
            "Copying file:///content/gdrive/MyDrive/data/imagenet/train/n02537525.tar [Content-Type=application/x-tar]...\n",
            "Copying file:///content/gdrive/MyDrive/data/imagenet/train/n02514041.tar [Content-Type=application/x-tar]...\n",
            "Copying file:///content/gdrive/MyDrive/data/imagenet/train/n01728572.tar [Content-Type=application/x-tar]...\n",
            "Copying file:///content/gdrive/MyDrive/data/imagenet/train/n01630670.tar [Content-Type=application/x-tar]...\n",
            "Copying file:///content/gdrive/MyDrive/data/imagenet/train/n01669191.tar [Content-Type=application/x-tar]...\n"
          ],
          "name": "stdout"
        }
      ]
    }
  ]
}