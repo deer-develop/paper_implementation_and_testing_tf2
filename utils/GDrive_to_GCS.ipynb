{
  "nbformat": 4,
  "nbformat_minor": 0,
  "metadata": {
    "colab": {
      "name": "GDrive to GCS.ipynb",
      "private_outputs": true,
      "provenance": [],
      "collapsed_sections": [],
      "toc_visible": true,
      "machine_shape": "hm",
      "authorship_tag": "ABX9TyO6YoDCiv8797nf3zWc/R1V",
      "include_colab_link": true
    },
    "kernelspec": {
      "name": "python3",
      "display_name": "Python 3"
    },
    "language_info": {
      "name": "python"
    },
    "accelerator": "GPU"
  },
  "cells": [
    {
      "cell_type": "markdown",
      "metadata": {
        "id": "view-in-github",
        "colab_type": "text"
      },
      "source": [
        "<a href=\"https://colab.research.google.com/github/ProtossDragoon/paper_implementation_and_testing_tf2/blob/main/utils/GDrive_to_GCS.ipynb\" target=\"_parent\"><img src=\"https://colab.research.google.com/assets/colab-badge.svg\" alt=\"Open In Colab\"/></a>"
      ]
    },
    {
      "cell_type": "markdown",
      "metadata": {
        "id": "TfVY3z52Gm_p"
      },
      "source": [
        "# GDrive to GCS\n",
        "\n",
        "## Author\n",
        "\n",
        "name : Janghoo Lee <br>\n",
        "github : https://github.com/ProtossDragoon <br>\n",
        "contact : dlwkdgn1@naver.com <br>\n",
        "circle : https://github.com/sju-coml <br>\n",
        "organization : https://web.deering.co/ <br>\n",
        "published date : June, 2021\n",
        "\n",
        "## Related Notebook\n",
        "\n",
        "[Notebooks](https://github.com/ProtossDragoon/paper_implementation_and_testing_tf2/tree/main/notebooks)\n"
      ]
    },
    {
      "cell_type": "markdown",
      "metadata": {
        "id": "3dO6rwIiLkEJ"
      },
      "source": [
        "# Environment"
      ]
    },
    {
      "cell_type": "markdown",
      "metadata": {
        "id": "8ECfcZJh2657"
      },
      "source": [
        "## Import"
      ]
    },
    {
      "cell_type": "code",
      "metadata": {
        "id": "QCcjt-Ch24q-"
      },
      "source": [
        "import os"
      ],
      "execution_count": null,
      "outputs": []
    },
    {
      "cell_type": "markdown",
      "metadata": {
        "id": "xUWc1NFU1-Cy"
      },
      "source": [
        "## Global Hyper parameters"
      ]
    },
    {
      "cell_type": "code",
      "metadata": {
        "id": "TZeQOH6n1-OS"
      },
      "source": [
        "HOME_DIR = \"/content/gdrive/MyDrive\"\n",
        "DATA_DIR = os.path.join(HOME_DIR, 'data')\n",
        "\n",
        "GIT_USERNAME = None\n",
        "GIT_EMAIL = None\n",
        "GIT_PASSWORD = None"
      ],
      "execution_count": null,
      "outputs": []
    },
    {
      "cell_type": "markdown",
      "metadata": {
        "id": "O7pBh2Kuy42T"
      },
      "source": [
        "## Google Drive"
      ]
    },
    {
      "cell_type": "code",
      "metadata": {
        "id": "MgtMdjRTy8aF"
      },
      "source": [
        "from google.colab import drive\n",
        "drive.mount('/content/gdrive')"
      ],
      "execution_count": null,
      "outputs": []
    },
    {
      "cell_type": "markdown",
      "metadata": {
        "id": "3oThQWfAy7ue"
      },
      "source": [
        "## GCP"
      ]
    },
    {
      "cell_type": "code",
      "metadata": {
        "id": "dMsnQVbXy-8j"
      },
      "source": [
        "GCP_BUCKET_NAME = \"deer-rudolph\" #@param {type:\"string\"}\n",
        "GCP_BUCKET_DATA_FOLDER_NAME = 'data' #@param {type:\"string\"}\n",
        "GCP_PROJECT_NAME = 'deer-deep-learning-project'#@param {type:\"string\"}\n",
        "GCP_PROJECT_ID = 'linear-freehold-314804' #@param {type:\"string\"}\n",
        "GCP_HOME_DIR = os.path.join('gs://', GCP_BUCKET_NAME)\n",
        "\n",
        "from google.colab import auth\n",
        "auth.authenticate_user()\n",
        "!gcloud config set project {GCP_PROJECT_ID}"
      ],
      "execution_count": null,
      "outputs": []
    },
    {
      "cell_type": "code",
      "metadata": {
        "id": "E2Zb5upi1QhD"
      },
      "source": [
        "!gsutil ls -al"
      ],
      "execution_count": null,
      "outputs": []
    },
    {
      "cell_type": "code",
      "metadata": {
        "id": "-RrCAMiG1SPd"
      },
      "source": [
        "!ls -al"
      ],
      "execution_count": null,
      "outputs": []
    },
    {
      "cell_type": "markdown",
      "metadata": {
        "id": "iFTkHmkJz6fG"
      },
      "source": [
        "# Copy GDrive data to GCS"
      ]
    },
    {
      "cell_type": "code",
      "metadata": {
        "id": "A80LefOu6oR5"
      },
      "source": [
        "%cd {DATA_DIR}\n",
        "!ls"
      ],
      "execution_count": null,
      "outputs": []
    },
    {
      "cell_type": "markdown",
      "metadata": {
        "id": "AwHGUtuKl25E"
      },
      "source": [
        "## [Caution] Specific Dataset Example"
      ]
    },
    {
      "cell_type": "code",
      "metadata": {
        "id": "_mwww3w6Vc-M"
      },
      "source": [
        "DATASET_NAME = 'aihubpedestrian' #@param {type:\"string\"}\n",
        "print('from (Gdrive) - {}\\nto (GCS) - {}'.format(os.path.join(DATA_DIR, DATASET_NAME), \n",
        "                                                 os.path.join(GCP_HOME_DIR, GCP_BUCKET_DATA_FOLDER_NAME, DATASET_NAME)))\n",
        "print('\\nGoogle drive :: ')\n",
        "_p = os.path.join(DATA_DIR, DATASET_NAME)\n",
        "%ls _p\n",
        "\n",
        "print('\\nGoogle Cloud Storage :: ')\n",
        "!gsutil ls gs://{GCP_BUCKET_NAME}/{GCP_BUCKET_DATA_FOLDER_NAME}/{DATASET_NAME}\n",
        "# If CLI raise CommandException: No URLs matched: <path>, go to GCS console and make directory for <path>."
      ],
      "execution_count": null,
      "outputs": []
    },
    {
      "cell_type": "code",
      "metadata": {
        "id": "qq7NAkIsSKAC"
      },
      "source": [
        "# If you have a large number of files to transfer, you can perform a parallel multi-threaded/multi-processing copy using the top-level gsutil -m option\n",
        "!gsutil -m cp -r {DATA_DIR}/{DATASET_NAME} gs://{GCP_BUCKET_NAME}/{GCP_BUCKET_DATA_FOLDER_NAME}"
      ],
      "execution_count": null,
      "outputs": []
    },
    {
      "cell_type": "markdown",
      "metadata": {
        "id": "OI0hRCFKl3U3"
      },
      "source": [
        "## [Caution] All datasets"
      ]
    },
    {
      "cell_type": "code",
      "metadata": {
        "id": "ASZytaZqz6Rb"
      },
      "source": [
        "# If you have a large number of files to transfer, you can perform a parallel multi-threaded/multi-processing copy using the top-level gsutil -m option\n",
        "!gsutil -m cp -r {DATA_DIR} gs://{GCS_BUCKET_NAME}/{GCS_BUCKET_DATA_FOLDER_NAME}"
      ],
      "execution_count": null,
      "outputs": []
    },
    {
      "cell_type": "markdown",
      "metadata": {
        "id": "k5iutaPvt2nD"
      },
      "source": [
        "## [Caution] Specific File or Directory"
      ]
    },
    {
      "cell_type": "code",
      "metadata": {
        "id": "XOkMeWWht2Zq"
      },
      "source": [
        "_validation_complete = False\n",
        "import tensorflow as tf # just to use tf.io\n",
        "\n",
        "FROM_PATH_OR_DIR = '' #@param {type:\"string\"}\n",
        "TO_DIR = '' #@param {type:\"string\"}\n",
        "MAKE_NEW_IF_TO_DIR_NOT_EXISTS = True #@param {type:\"boolean\"}\n",
        "\n",
        "print('from (Gdrive) - {}\\nto (GCS) - {}'.format(os.path.join(HOME_DIR, FROM_PATH_OR_DIR),\n",
        "                                                 os.path.join(GCP_HOME_DIR, TO_DIR)))\n",
        "\n",
        "print('\\nGoogle drive :: ')\n",
        "_f = os.path.join(HOME_DIR, FROM_PATH_OR_DIR)\n",
        "if tf.io.gfile.isdir(_f):\n",
        "    %ls {_f}\n",
        "    print('[directory] ', end='')\n",
        "else:\n",
        "    print('[file] ', end='')\n",
        "print(_f, end=' ')\n",
        "if not tf.io.gfile.exists(_f):\n",
        "    print('does not exists!')\n",
        "    raise ValueError\n",
        "\n",
        "print('\\n\\nGoogle Cloud Storage :: ')\n",
        "_t = os.path.join(GCP_HOME_DIR, TO_DIR)\n",
        "if not tf.io.gfile.exists(_t):\n",
        "    print('{} does not exists!'.format(_t))\n",
        "    if tf.io.gfile.isdir(_t):\n",
        "        print('{} is not a directory!'.format(_t))\n",
        "        raise ValueError\n",
        "    else:\n",
        "        if MAKE_NEW_IF_TO_DIR_NOT_EXISTS:\n",
        "            tf.io.gfile.makedirs(_t)\n",
        "            print('generated, ', end='')\n",
        "\n",
        "\n",
        "assert tf.io.gfile.exists(_t), '{} does not exists!'.format(_t)\n",
        "assert tf.io.gfile.isdir(_t), '{} is not a directory!'.format(_t)\n",
        "print('[directory]', _t)\n",
        "!gsutil ls {_t}\n",
        "\n",
        "_validation_complete = True\n",
        "\n",
        "print('\\nfile cp result example : {}'.format(os.path.join(_t, 'file.xx')))\n",
        "print('dir cp result example : {}'.format(os.path.join(_t, 'dir/xx')))"
      ],
      "execution_count": null,
      "outputs": []
    },
    {
      "cell_type": "code",
      "metadata": {
        "id": "Ld3dkGfUuIDN"
      },
      "source": [
        "assert _validation_complete, 'Validation check was not completed.'\n",
        "\n",
        "# If you have a large number of files to transfer, you can perform a parallel multi-threaded/multi-processing copy using the top-level gsutil -m option\n",
        "!gsutil -m cp -r {_f} {_t}"
      ],
      "execution_count": null,
      "outputs": []
    },
    {
      "cell_type": "markdown",
      "metadata": {
        "id": "JG8-HQ07aNx3"
      },
      "source": [
        "# Copy GCS data to GDrive"
      ]
    },
    {
      "cell_type": "markdown",
      "metadata": {
        "id": "4KlzON4fw2-S"
      },
      "source": [
        "## [Caution] Specific File or Directory"
      ]
    },
    {
      "cell_type": "code",
      "metadata": {
        "id": "8zlWiv8tab9o"
      },
      "source": [
        "_validation_complete_2 = False\n",
        "import tensorflow as tf # just to use tf.io\n",
        "\n",
        "FROM_PATH_OR_DIR = '' #@param {type:\"string\"}\n",
        "TO_DIR = '' #@param {type:\"string\"}\n",
        "MAKE_NEW_IF_TO_DIR_NOT_EXISTS = True #@param {type:\"boolean\"}\n",
        "print('from (Gdrive) - {}\\nto (GCS) - {}'.format(os.path.join(GCP_HOME_DIR, FROM_PATH_OR_DIR),\n",
        "                                                 os.path.join(HOME_DIR, TO_DIR)))\n",
        "\n",
        "\n",
        "print('\\nGoogle Cloud Storage :: ')\n",
        "_f = os.path.join(GCP_HOME_DIR, FROM_PATH_OR_DIR)\n",
        "if tf.io.gfile.isdir(_f):\n",
        "    !gsutil ls {_f}\n",
        "    print('[directory] ', end='')\n",
        "else:\n",
        "    print('[file] ', end='')\n",
        "print(_f, end=' ')\n",
        "if not tf.io.gfile.exists(_f):\n",
        "    print('does not exists!')\n",
        "    raise ValueError\n",
        "\n",
        "print('\\n\\nGoogle drive :: ')\n",
        "_t = os.path.join(HOME_DIR, TO_DIR)\n",
        "if not os.path.exists(_t):\n",
        "    print('{} does not exists!'.format(_t))\n",
        "    if os.path.isdir(_t):\n",
        "        print('{} is not a directory!'.format(_t))\n",
        "        raise ValueError\n",
        "    else:\n",
        "        if MAKE_NEW_IF_TO_DIR_NOT_EXISTS:\n",
        "            os.makedirs(_t)\n",
        "            print('generated, ', end='')\n",
        "\n",
        "assert os.path.exists(_t), '{} does not exists!'.format(_t)\n",
        "assert os.path.isdir(_t), '{} is not a directory!'.format(_t)\n",
        "print('[directory]', _t)\n",
        "%ls {_t}\n",
        "\n",
        "_validation_complete_2 = True\n",
        "\n",
        "print('\\nfile cp result example : {}'.format(os.path.join(_t, 'file.xx')))\n",
        "print('dir cp result example : {}'.format(os.path.join(_t, 'dir/xx')))"
      ],
      "execution_count": null,
      "outputs": []
    },
    {
      "cell_type": "code",
      "metadata": {
        "id": "zaqGPTbanpU7"
      },
      "source": [
        "assert _validation_complete_2, 'Validation check was not completed.'\n",
        "\n",
        "# If you have a large number of files to transfer, you can perform a parallel multi-threaded/multi-processing copy using the top-level gsutil -m option\n",
        "!gsutil -m cp -r {_f} {_t}"
      ],
      "execution_count": null,
      "outputs": []
    }
  ]
}