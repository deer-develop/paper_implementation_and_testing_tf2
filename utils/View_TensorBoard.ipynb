{
  "nbformat": 4,
  "nbformat_minor": 0,
  "metadata": {
    "colab": {
      "name": "View TensorBoard.ipynb",
      "provenance": [],
      "authorship_tag": "ABX9TyNpKJjUEmpc3A2E13YHzVAu",
      "include_colab_link": true
    },
    "kernelspec": {
      "name": "python3",
      "display_name": "Python 3"
    },
    "language_info": {
      "name": "python"
    }
  },
  "cells": [
    {
      "cell_type": "markdown",
      "metadata": {
        "id": "view-in-github",
        "colab_type": "text"
      },
      "source": [
        "<a href=\"https://colab.research.google.com/github/ProtossDragoon/paper_implementation_and_testing_tf2/blob/main/utils/View_TensorBoard.ipynb\" target=\"_parent\"><img src=\"https://colab.research.google.com/assets/colab-badge.svg\" alt=\"Open In Colab\"/></a>"
      ]
    },
    {
      "cell_type": "markdown",
      "metadata": {
        "id": "IPog0ecTnc3p"
      },
      "source": [
        "# View TensorBoard\n",
        "\n",
        "## Author\n",
        "\n",
        "name : Janghoo Lee <br>\n",
        "github : https://github.com/ProtossDragoon <br>\n",
        "contact : dlwkdgn1@naver.com <br>\n",
        "circle : https://github.com/sju-coml <br>\n",
        "organization : https://web.deering.co/ <br>\n",
        "published date : June, 2021\n",
        "\n",
        "\n",
        "## Related Notebook\n",
        "\n",
        "[Notebooks](https://github.com/ProtossDragoon/paper_implementation_and_testing_tf2/tree/main/notebooks)"
      ]
    },
    {
      "cell_type": "markdown",
      "metadata": {
        "id": "GyRvyHjwn6YV"
      },
      "source": [
        "# Environment"
      ]
    },
    {
      "cell_type": "code",
      "metadata": {
        "colab": {
          "base_uri": "https://localhost:8080/"
        },
        "id": "aRWo3l0pn63b",
        "outputId": "5ffdd5de-66a2-4faa-c0fc-07e69169a61d"
      },
      "source": [
        "import tensorflow as tf\n",
        "print(tf.__version__)\n",
        "!pip install tensorboard -q\n",
        "!pip install tensorboard-plugin-profile -q\n",
        "%load_ext tensorboard"
      ],
      "execution_count": 2,
      "outputs": [
        {
          "output_type": "stream",
          "text": [
            "2.5.0\n",
            "The tensorboard extension is already loaded. To reload it, use:\n",
            "  %reload_ext tensorboard\n"
          ],
          "name": "stdout"
        }
      ]
    },
    {
      "cell_type": "code",
      "metadata": {
        "id": "2ck6cnPNoOA9"
      },
      "source": [
        "import os, sys\n",
        "from tqdm.notebook import tqdm as tqdm"
      ],
      "execution_count": 4,
      "outputs": []
    },
    {
      "cell_type": "markdown",
      "metadata": {
        "id": "rPA6AxvYn9Ul"
      },
      "source": [
        "## Global Hyper Parameters"
      ]
    },
    {
      "cell_type": "code",
      "metadata": {
        "id": "k0Q76YZ2n9KC"
      },
      "source": [
        "HOME_DIR = \"/content/gdrive/MyDrive\"\n",
        "WS = os.path.join(HOME_DIR, \"ColabWorkspace\")\n",
        "DATA_DIR = os.path.join(HOME_DIR, 'data')\n",
        "\n",
        "GIT_REPO_NAME = 'paper_implementation_and_testing_tf2'\n",
        "GIT_WS = os.path.join(WS, GIT_REPO_NAME)\n",
        "LOG_DIR = os.path.join(GIT_WS, 'tboard')\n",
        "\n",
        "GIT_BRANCH = 'master'\n",
        "GIT_USERNAME = None # Add herea\n",
        "GIT_EMAIL = None\n",
        "GIT_PASSWORD = None # Add here"
      ],
      "execution_count": 5,
      "outputs": []
    },
    {
      "cell_type": "markdown",
      "metadata": {
        "id": "-OXl7_acn3q6"
      },
      "source": [
        "## Google Drive / Git"
      ]
    },
    {
      "cell_type": "code",
      "metadata": {
        "colab": {
          "base_uri": "https://localhost:8080/"
        },
        "id": "8p4ZD6fsnN9N",
        "outputId": "f3b4f539-5bc8-4c23-c660-9cae2e969769"
      },
      "source": [
        "#!rm -r /content/gdrive/\n",
        "from google.colab import drive\n",
        "drive.mount('/content/gdrive')"
      ],
      "execution_count": 6,
      "outputs": [
        {
          "output_type": "stream",
          "text": [
            "Mounted at /content/gdrive\n"
          ],
          "name": "stdout"
        }
      ]
    },
    {
      "cell_type": "code",
      "metadata": {
        "id": "iG_6Rv7NoTKp"
      },
      "source": [
        "!mkdir -p {WS}\n",
        "%cd {WS}\n",
        "!git clone https://github.com/ProtossDragoon/{GIT_REPO_NAME}.git\n",
        "%cd {GIT_WS}\n",
        "!git config --global user.name {GIT_USERNAME}\n",
        "!git config --global user.email {GIT_EMAIL}\n",
        "!git checkout -b {GIT_BRANCH}\n",
        "!git push origin {GIT_BRANCH}\n",
        "!git branch --set-upstream-to origin/{GIT_BRANCH}"
      ],
      "execution_count": null,
      "outputs": []
    },
    {
      "cell_type": "markdown",
      "metadata": {
        "id": "WwLdnMFxpTWb"
      },
      "source": [
        "# TensorBoard"
      ]
    },
    {
      "cell_type": "markdown",
      "metadata": {
        "id": "Rh-SeRyEpXJL"
      },
      "source": [
        "## [Caution] Clean directory"
      ]
    },
    {
      "cell_type": "code",
      "metadata": {
        "id": "QV4dVKzUpTnz"
      },
      "source": [
        "# Warning\n",
        "\"\"\"\n",
        "# clean all tboard directory\n",
        "%cd {LOG_DIR}\n",
        "!rm -r *\n",
        "!ls\n",
        "print('cleaned successfully!')\n",
        "\"\"\"\n",
        "# log driectory cleaned"
      ],
      "execution_count": null,
      "outputs": []
    },
    {
      "cell_type": "markdown",
      "metadata": {
        "id": "-n8lJ9VqpbFs"
      },
      "source": [
        "## Launch TensorBoard"
      ]
    },
    {
      "cell_type": "markdown",
      "metadata": {
        "id": "cmrRMzVlqSgJ"
      },
      "source": [
        "### Root Log Directory"
      ]
    },
    {
      "cell_type": "code",
      "metadata": {
        "id": "TRqdbRPkpbae"
      },
      "source": [
        "%tensorboard --logdir {LOG_DIR}\n",
        "%reload_ext tensorboard"
      ],
      "execution_count": null,
      "outputs": []
    },
    {
      "cell_type": "code",
      "metadata": {
        "id": "fHNoXsfqqL7y"
      },
      "source": [
        "%tensorboard --logdir {LOG_DIR}"
      ],
      "execution_count": null,
      "outputs": []
    },
    {
      "cell_type": "markdown",
      "metadata": {
        "id": "aW-UqDj6qP3p"
      },
      "source": [
        "### Specific Log Directory"
      ]
    },
    {
      "cell_type": "code",
      "metadata": {
        "id": "w72_HZoqqPri"
      },
      "source": [
        "LOG_SPECIFIC_DIR = os.path.join(LOG_DIR, \n",
        "                                #FILLME, \n",
        "                                #FILLME, \n",
        "                                #...\n",
        "                                )\n",
        "%tensorboard --logdir {LOG_SPECIFIC_DIR}"
      ],
      "execution_count": null,
      "outputs": []
    }
  ]
}