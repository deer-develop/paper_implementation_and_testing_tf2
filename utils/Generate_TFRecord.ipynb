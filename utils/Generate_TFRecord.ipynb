{
  "nbformat": 4,
  "nbformat_minor": 0,
  "metadata": {
    "colab": {
      "name": "Generate TFRecord.ipynb",
      "provenance": [],
      "collapsed_sections": [],
      "toc_visible": true,
      "authorship_tag": "ABX9TyP7S6zvDW/xu+xUaDsi3pbx",
      "include_colab_link": true
    },
    "kernelspec": {
      "display_name": "Python 3",
      "name": "python3"
    },
    "language_info": {
      "name": "python"
    },
    "widgets": {
      "application/vnd.jupyter.widget-state+json": {
        "378e317ab992483589491df69e1ff702": {
          "model_module": "@jupyter-widgets/controls",
          "model_name": "HBoxModel",
          "state": {
            "_view_name": "HBoxView",
            "_dom_classes": [],
            "_model_name": "HBoxModel",
            "_view_module": "@jupyter-widgets/controls",
            "_model_module_version": "1.5.0",
            "_view_count": null,
            "_view_module_version": "1.5.0",
            "box_style": "",
            "layout": "IPY_MODEL_a22dcd28a09b43769c719bd1f70b0c60",
            "_model_module": "@jupyter-widgets/controls",
            "children": [
              "IPY_MODEL_819fcbb7bf7c45ee993e9d30782d85df",
              "IPY_MODEL_aaf95563d1234ec3ba2f2bc02ad92112"
            ]
          }
        },
        "a22dcd28a09b43769c719bd1f70b0c60": {
          "model_module": "@jupyter-widgets/base",
          "model_name": "LayoutModel",
          "state": {
            "_view_name": "LayoutView",
            "grid_template_rows": null,
            "right": null,
            "justify_content": null,
            "_view_module": "@jupyter-widgets/base",
            "overflow": null,
            "_model_module_version": "1.2.0",
            "_view_count": null,
            "flex_flow": null,
            "width": null,
            "min_width": null,
            "border": null,
            "align_items": null,
            "bottom": null,
            "_model_module": "@jupyter-widgets/base",
            "top": null,
            "grid_column": null,
            "overflow_y": null,
            "overflow_x": null,
            "grid_auto_flow": null,
            "grid_area": null,
            "grid_template_columns": null,
            "flex": null,
            "_model_name": "LayoutModel",
            "justify_items": null,
            "grid_row": null,
            "max_height": null,
            "align_content": null,
            "visibility": null,
            "align_self": null,
            "height": null,
            "min_height": null,
            "padding": null,
            "grid_auto_rows": null,
            "grid_gap": null,
            "max_width": null,
            "order": null,
            "_view_module_version": "1.2.0",
            "grid_template_areas": null,
            "object_position": null,
            "object_fit": null,
            "grid_auto_columns": null,
            "margin": null,
            "display": null,
            "left": null
          }
        },
        "819fcbb7bf7c45ee993e9d30782d85df": {
          "model_module": "@jupyter-widgets/controls",
          "model_name": "FloatProgressModel",
          "state": {
            "_view_name": "ProgressView",
            "style": "IPY_MODEL_36e1d5d3985a4da3a848cfcdbcaf3fe7",
            "_dom_classes": [],
            "description": "100%",
            "_model_name": "FloatProgressModel",
            "bar_style": "success",
            "max": 367,
            "_view_module": "@jupyter-widgets/controls",
            "_model_module_version": "1.5.0",
            "value": 367,
            "_view_count": null,
            "_view_module_version": "1.5.0",
            "orientation": "horizontal",
            "min": 0,
            "description_tooltip": null,
            "_model_module": "@jupyter-widgets/controls",
            "layout": "IPY_MODEL_b0ec11cce87444ba8254bbf2e78f36d5"
          }
        },
        "aaf95563d1234ec3ba2f2bc02ad92112": {
          "model_module": "@jupyter-widgets/controls",
          "model_name": "HTMLModel",
          "state": {
            "_view_name": "HTMLView",
            "style": "IPY_MODEL_a5b6df3fa1da4d1b8af2f2216510f4f4",
            "_dom_classes": [],
            "description": "",
            "_model_name": "HTMLModel",
            "placeholder": "​",
            "_view_module": "@jupyter-widgets/controls",
            "_model_module_version": "1.5.0",
            "value": " 367/367 [01:27&lt;00:00,  4.19it/s]",
            "_view_count": null,
            "_view_module_version": "1.5.0",
            "description_tooltip": null,
            "_model_module": "@jupyter-widgets/controls",
            "layout": "IPY_MODEL_57b9e7c4c46f4f05bed15d5c11de60f2"
          }
        },
        "36e1d5d3985a4da3a848cfcdbcaf3fe7": {
          "model_module": "@jupyter-widgets/controls",
          "model_name": "ProgressStyleModel",
          "state": {
            "_view_name": "StyleView",
            "_model_name": "ProgressStyleModel",
            "description_width": "initial",
            "_view_module": "@jupyter-widgets/base",
            "_model_module_version": "1.5.0",
            "_view_count": null,
            "_view_module_version": "1.2.0",
            "bar_color": null,
            "_model_module": "@jupyter-widgets/controls"
          }
        },
        "b0ec11cce87444ba8254bbf2e78f36d5": {
          "model_module": "@jupyter-widgets/base",
          "model_name": "LayoutModel",
          "state": {
            "_view_name": "LayoutView",
            "grid_template_rows": null,
            "right": null,
            "justify_content": null,
            "_view_module": "@jupyter-widgets/base",
            "overflow": null,
            "_model_module_version": "1.2.0",
            "_view_count": null,
            "flex_flow": null,
            "width": null,
            "min_width": null,
            "border": null,
            "align_items": null,
            "bottom": null,
            "_model_module": "@jupyter-widgets/base",
            "top": null,
            "grid_column": null,
            "overflow_y": null,
            "overflow_x": null,
            "grid_auto_flow": null,
            "grid_area": null,
            "grid_template_columns": null,
            "flex": null,
            "_model_name": "LayoutModel",
            "justify_items": null,
            "grid_row": null,
            "max_height": null,
            "align_content": null,
            "visibility": null,
            "align_self": null,
            "height": null,
            "min_height": null,
            "padding": null,
            "grid_auto_rows": null,
            "grid_gap": null,
            "max_width": null,
            "order": null,
            "_view_module_version": "1.2.0",
            "grid_template_areas": null,
            "object_position": null,
            "object_fit": null,
            "grid_auto_columns": null,
            "margin": null,
            "display": null,
            "left": null
          }
        },
        "a5b6df3fa1da4d1b8af2f2216510f4f4": {
          "model_module": "@jupyter-widgets/controls",
          "model_name": "DescriptionStyleModel",
          "state": {
            "_view_name": "StyleView",
            "_model_name": "DescriptionStyleModel",
            "description_width": "",
            "_view_module": "@jupyter-widgets/base",
            "_model_module_version": "1.5.0",
            "_view_count": null,
            "_view_module_version": "1.2.0",
            "_model_module": "@jupyter-widgets/controls"
          }
        },
        "57b9e7c4c46f4f05bed15d5c11de60f2": {
          "model_module": "@jupyter-widgets/base",
          "model_name": "LayoutModel",
          "state": {
            "_view_name": "LayoutView",
            "grid_template_rows": null,
            "right": null,
            "justify_content": null,
            "_view_module": "@jupyter-widgets/base",
            "overflow": null,
            "_model_module_version": "1.2.0",
            "_view_count": null,
            "flex_flow": null,
            "width": null,
            "min_width": null,
            "border": null,
            "align_items": null,
            "bottom": null,
            "_model_module": "@jupyter-widgets/base",
            "top": null,
            "grid_column": null,
            "overflow_y": null,
            "overflow_x": null,
            "grid_auto_flow": null,
            "grid_area": null,
            "grid_template_columns": null,
            "flex": null,
            "_model_name": "LayoutModel",
            "justify_items": null,
            "grid_row": null,
            "max_height": null,
            "align_content": null,
            "visibility": null,
            "align_self": null,
            "height": null,
            "min_height": null,
            "padding": null,
            "grid_auto_rows": null,
            "grid_gap": null,
            "max_width": null,
            "order": null,
            "_view_module_version": "1.2.0",
            "grid_template_areas": null,
            "object_position": null,
            "object_fit": null,
            "grid_auto_columns": null,
            "margin": null,
            "display": null,
            "left": null
          }
        },
        "b226f3eaf1c4480fabcc083aa8be7a4e": {
          "model_module": "@jupyter-widgets/controls",
          "model_name": "HBoxModel",
          "state": {
            "_view_name": "HBoxView",
            "_dom_classes": [],
            "_model_name": "HBoxModel",
            "_view_module": "@jupyter-widgets/controls",
            "_model_module_version": "1.5.0",
            "_view_count": null,
            "_view_module_version": "1.5.0",
            "box_style": "",
            "layout": "IPY_MODEL_74d73ae2185f4808a7976b35934eec04",
            "_model_module": "@jupyter-widgets/controls",
            "children": [
              "IPY_MODEL_b2b774b4ea4f4870927f60da5b1c8cc6",
              "IPY_MODEL_7de752a970a34e00ae646cc6b6821f59"
            ]
          }
        },
        "74d73ae2185f4808a7976b35934eec04": {
          "model_module": "@jupyter-widgets/base",
          "model_name": "LayoutModel",
          "state": {
            "_view_name": "LayoutView",
            "grid_template_rows": null,
            "right": null,
            "justify_content": null,
            "_view_module": "@jupyter-widgets/base",
            "overflow": null,
            "_model_module_version": "1.2.0",
            "_view_count": null,
            "flex_flow": null,
            "width": null,
            "min_width": null,
            "border": null,
            "align_items": null,
            "bottom": null,
            "_model_module": "@jupyter-widgets/base",
            "top": null,
            "grid_column": null,
            "overflow_y": null,
            "overflow_x": null,
            "grid_auto_flow": null,
            "grid_area": null,
            "grid_template_columns": null,
            "flex": null,
            "_model_name": "LayoutModel",
            "justify_items": null,
            "grid_row": null,
            "max_height": null,
            "align_content": null,
            "visibility": null,
            "align_self": null,
            "height": null,
            "min_height": null,
            "padding": null,
            "grid_auto_rows": null,
            "grid_gap": null,
            "max_width": null,
            "order": null,
            "_view_module_version": "1.2.0",
            "grid_template_areas": null,
            "object_position": null,
            "object_fit": null,
            "grid_auto_columns": null,
            "margin": null,
            "display": null,
            "left": null
          }
        },
        "b2b774b4ea4f4870927f60da5b1c8cc6": {
          "model_module": "@jupyter-widgets/controls",
          "model_name": "FloatProgressModel",
          "state": {
            "_view_name": "ProgressView",
            "style": "IPY_MODEL_53c3e6c6667f41a7baf6da2888280e5b",
            "_dom_classes": [],
            "description": "100%",
            "_model_name": "FloatProgressModel",
            "bar_style": "success",
            "max": 101,
            "_view_module": "@jupyter-widgets/controls",
            "_model_module_version": "1.5.0",
            "value": 101,
            "_view_count": null,
            "_view_module_version": "1.5.0",
            "orientation": "horizontal",
            "min": 0,
            "description_tooltip": null,
            "_model_module": "@jupyter-widgets/controls",
            "layout": "IPY_MODEL_0bb4f9c281e7414c95c946ff8e4aa9fd"
          }
        },
        "7de752a970a34e00ae646cc6b6821f59": {
          "model_module": "@jupyter-widgets/controls",
          "model_name": "HTMLModel",
          "state": {
            "_view_name": "HTMLView",
            "style": "IPY_MODEL_efa94badb23b472a92b4b98c7b9314e2",
            "_dom_classes": [],
            "description": "",
            "_model_name": "HTMLModel",
            "placeholder": "​",
            "_view_module": "@jupyter-widgets/controls",
            "_model_module_version": "1.5.0",
            "value": " 101/101 [00:17&lt;00:00,  5.66it/s]",
            "_view_count": null,
            "_view_module_version": "1.5.0",
            "description_tooltip": null,
            "_model_module": "@jupyter-widgets/controls",
            "layout": "IPY_MODEL_000ecb3b4c77489caceea52306cdaf64"
          }
        },
        "53c3e6c6667f41a7baf6da2888280e5b": {
          "model_module": "@jupyter-widgets/controls",
          "model_name": "ProgressStyleModel",
          "state": {
            "_view_name": "StyleView",
            "_model_name": "ProgressStyleModel",
            "description_width": "initial",
            "_view_module": "@jupyter-widgets/base",
            "_model_module_version": "1.5.0",
            "_view_count": null,
            "_view_module_version": "1.2.0",
            "bar_color": null,
            "_model_module": "@jupyter-widgets/controls"
          }
        },
        "0bb4f9c281e7414c95c946ff8e4aa9fd": {
          "model_module": "@jupyter-widgets/base",
          "model_name": "LayoutModel",
          "state": {
            "_view_name": "LayoutView",
            "grid_template_rows": null,
            "right": null,
            "justify_content": null,
            "_view_module": "@jupyter-widgets/base",
            "overflow": null,
            "_model_module_version": "1.2.0",
            "_view_count": null,
            "flex_flow": null,
            "width": null,
            "min_width": null,
            "border": null,
            "align_items": null,
            "bottom": null,
            "_model_module": "@jupyter-widgets/base",
            "top": null,
            "grid_column": null,
            "overflow_y": null,
            "overflow_x": null,
            "grid_auto_flow": null,
            "grid_area": null,
            "grid_template_columns": null,
            "flex": null,
            "_model_name": "LayoutModel",
            "justify_items": null,
            "grid_row": null,
            "max_height": null,
            "align_content": null,
            "visibility": null,
            "align_self": null,
            "height": null,
            "min_height": null,
            "padding": null,
            "grid_auto_rows": null,
            "grid_gap": null,
            "max_width": null,
            "order": null,
            "_view_module_version": "1.2.0",
            "grid_template_areas": null,
            "object_position": null,
            "object_fit": null,
            "grid_auto_columns": null,
            "margin": null,
            "display": null,
            "left": null
          }
        },
        "efa94badb23b472a92b4b98c7b9314e2": {
          "model_module": "@jupyter-widgets/controls",
          "model_name": "DescriptionStyleModel",
          "state": {
            "_view_name": "StyleView",
            "_model_name": "DescriptionStyleModel",
            "description_width": "",
            "_view_module": "@jupyter-widgets/base",
            "_model_module_version": "1.5.0",
            "_view_count": null,
            "_view_module_version": "1.2.0",
            "_model_module": "@jupyter-widgets/controls"
          }
        },
        "000ecb3b4c77489caceea52306cdaf64": {
          "model_module": "@jupyter-widgets/base",
          "model_name": "LayoutModel",
          "state": {
            "_view_name": "LayoutView",
            "grid_template_rows": null,
            "right": null,
            "justify_content": null,
            "_view_module": "@jupyter-widgets/base",
            "overflow": null,
            "_model_module_version": "1.2.0",
            "_view_count": null,
            "flex_flow": null,
            "width": null,
            "min_width": null,
            "border": null,
            "align_items": null,
            "bottom": null,
            "_model_module": "@jupyter-widgets/base",
            "top": null,
            "grid_column": null,
            "overflow_y": null,
            "overflow_x": null,
            "grid_auto_flow": null,
            "grid_area": null,
            "grid_template_columns": null,
            "flex": null,
            "_model_name": "LayoutModel",
            "justify_items": null,
            "grid_row": null,
            "max_height": null,
            "align_content": null,
            "visibility": null,
            "align_self": null,
            "height": null,
            "min_height": null,
            "padding": null,
            "grid_auto_rows": null,
            "grid_gap": null,
            "max_width": null,
            "order": null,
            "_view_module_version": "1.2.0",
            "grid_template_areas": null,
            "object_position": null,
            "object_fit": null,
            "grid_auto_columns": null,
            "margin": null,
            "display": null,
            "left": null
          }
        },
        "d8fd9153c5b04e3bb2b08976853b1640": {
          "model_module": "@jupyter-widgets/controls",
          "model_name": "HBoxModel",
          "state": {
            "_view_name": "HBoxView",
            "_dom_classes": [],
            "_model_name": "HBoxModel",
            "_view_module": "@jupyter-widgets/controls",
            "_model_module_version": "1.5.0",
            "_view_count": null,
            "_view_module_version": "1.5.0",
            "box_style": "",
            "layout": "IPY_MODEL_a6430d297c5a4722a89ee384b29951fe",
            "_model_module": "@jupyter-widgets/controls",
            "children": [
              "IPY_MODEL_b551fe45bfb74498bee8862b2533055b",
              "IPY_MODEL_7ed3fa07366b460a9f4e194f0ce95a29"
            ]
          }
        },
        "a6430d297c5a4722a89ee384b29951fe": {
          "model_module": "@jupyter-widgets/base",
          "model_name": "LayoutModel",
          "state": {
            "_view_name": "LayoutView",
            "grid_template_rows": null,
            "right": null,
            "justify_content": null,
            "_view_module": "@jupyter-widgets/base",
            "overflow": null,
            "_model_module_version": "1.2.0",
            "_view_count": null,
            "flex_flow": null,
            "width": null,
            "min_width": null,
            "border": null,
            "align_items": null,
            "bottom": null,
            "_model_module": "@jupyter-widgets/base",
            "top": null,
            "grid_column": null,
            "overflow_y": null,
            "overflow_x": null,
            "grid_auto_flow": null,
            "grid_area": null,
            "grid_template_columns": null,
            "flex": null,
            "_model_name": "LayoutModel",
            "justify_items": null,
            "grid_row": null,
            "max_height": null,
            "align_content": null,
            "visibility": null,
            "align_self": null,
            "height": null,
            "min_height": null,
            "padding": null,
            "grid_auto_rows": null,
            "grid_gap": null,
            "max_width": null,
            "order": null,
            "_view_module_version": "1.2.0",
            "grid_template_areas": null,
            "object_position": null,
            "object_fit": null,
            "grid_auto_columns": null,
            "margin": null,
            "display": null,
            "left": null
          }
        },
        "b551fe45bfb74498bee8862b2533055b": {
          "model_module": "@jupyter-widgets/controls",
          "model_name": "FloatProgressModel",
          "state": {
            "_view_name": "ProgressView",
            "style": "IPY_MODEL_21acfa3e27f5404ab4903b10bdc84aa2",
            "_dom_classes": [],
            "description": "100%",
            "_model_name": "FloatProgressModel",
            "bar_style": "success",
            "max": 233,
            "_view_module": "@jupyter-widgets/controls",
            "_model_module_version": "1.5.0",
            "value": 233,
            "_view_count": null,
            "_view_module_version": "1.5.0",
            "orientation": "horizontal",
            "min": 0,
            "description_tooltip": null,
            "_model_module": "@jupyter-widgets/controls",
            "layout": "IPY_MODEL_bbfabccb43274ac3b2706dd2c819e00b"
          }
        },
        "7ed3fa07366b460a9f4e194f0ce95a29": {
          "model_module": "@jupyter-widgets/controls",
          "model_name": "HTMLModel",
          "state": {
            "_view_name": "HTMLView",
            "style": "IPY_MODEL_0ec817be66f444cdad4175592202cfba",
            "_dom_classes": [],
            "description": "",
            "_model_name": "HTMLModel",
            "placeholder": "​",
            "_view_module": "@jupyter-widgets/controls",
            "_model_module_version": "1.5.0",
            "value": " 233/233 [00:17&lt;00:00, 13.10it/s]",
            "_view_count": null,
            "_view_module_version": "1.5.0",
            "description_tooltip": null,
            "_model_module": "@jupyter-widgets/controls",
            "layout": "IPY_MODEL_d5decade2b7a4cad854cc466b4fd6fb7"
          }
        },
        "21acfa3e27f5404ab4903b10bdc84aa2": {
          "model_module": "@jupyter-widgets/controls",
          "model_name": "ProgressStyleModel",
          "state": {
            "_view_name": "StyleView",
            "_model_name": "ProgressStyleModel",
            "description_width": "initial",
            "_view_module": "@jupyter-widgets/base",
            "_model_module_version": "1.5.0",
            "_view_count": null,
            "_view_module_version": "1.2.0",
            "bar_color": null,
            "_model_module": "@jupyter-widgets/controls"
          }
        },
        "bbfabccb43274ac3b2706dd2c819e00b": {
          "model_module": "@jupyter-widgets/base",
          "model_name": "LayoutModel",
          "state": {
            "_view_name": "LayoutView",
            "grid_template_rows": null,
            "right": null,
            "justify_content": null,
            "_view_module": "@jupyter-widgets/base",
            "overflow": null,
            "_model_module_version": "1.2.0",
            "_view_count": null,
            "flex_flow": null,
            "width": null,
            "min_width": null,
            "border": null,
            "align_items": null,
            "bottom": null,
            "_model_module": "@jupyter-widgets/base",
            "top": null,
            "grid_column": null,
            "overflow_y": null,
            "overflow_x": null,
            "grid_auto_flow": null,
            "grid_area": null,
            "grid_template_columns": null,
            "flex": null,
            "_model_name": "LayoutModel",
            "justify_items": null,
            "grid_row": null,
            "max_height": null,
            "align_content": null,
            "visibility": null,
            "align_self": null,
            "height": null,
            "min_height": null,
            "padding": null,
            "grid_auto_rows": null,
            "grid_gap": null,
            "max_width": null,
            "order": null,
            "_view_module_version": "1.2.0",
            "grid_template_areas": null,
            "object_position": null,
            "object_fit": null,
            "grid_auto_columns": null,
            "margin": null,
            "display": null,
            "left": null
          }
        },
        "0ec817be66f444cdad4175592202cfba": {
          "model_module": "@jupyter-widgets/controls",
          "model_name": "DescriptionStyleModel",
          "state": {
            "_view_name": "StyleView",
            "_model_name": "DescriptionStyleModel",
            "description_width": "",
            "_view_module": "@jupyter-widgets/base",
            "_model_module_version": "1.5.0",
            "_view_count": null,
            "_view_module_version": "1.2.0",
            "_model_module": "@jupyter-widgets/controls"
          }
        },
        "d5decade2b7a4cad854cc466b4fd6fb7": {
          "model_module": "@jupyter-widgets/base",
          "model_name": "LayoutModel",
          "state": {
            "_view_name": "LayoutView",
            "grid_template_rows": null,
            "right": null,
            "justify_content": null,
            "_view_module": "@jupyter-widgets/base",
            "overflow": null,
            "_model_module_version": "1.2.0",
            "_view_count": null,
            "flex_flow": null,
            "width": null,
            "min_width": null,
            "border": null,
            "align_items": null,
            "bottom": null,
            "_model_module": "@jupyter-widgets/base",
            "top": null,
            "grid_column": null,
            "overflow_y": null,
            "overflow_x": null,
            "grid_auto_flow": null,
            "grid_area": null,
            "grid_template_columns": null,
            "flex": null,
            "_model_name": "LayoutModel",
            "justify_items": null,
            "grid_row": null,
            "max_height": null,
            "align_content": null,
            "visibility": null,
            "align_self": null,
            "height": null,
            "min_height": null,
            "padding": null,
            "grid_auto_rows": null,
            "grid_gap": null,
            "max_width": null,
            "order": null,
            "_view_module_version": "1.2.0",
            "grid_template_areas": null,
            "object_position": null,
            "object_fit": null,
            "grid_auto_columns": null,
            "margin": null,
            "display": null,
            "left": null
          }
        },
        "936330c5526144d19823065897811825": {
          "model_module": "@jupyter-widgets/controls",
          "model_name": "HBoxModel",
          "state": {
            "_view_name": "HBoxView",
            "_dom_classes": [],
            "_model_name": "HBoxModel",
            "_view_module": "@jupyter-widgets/controls",
            "_model_module_version": "1.5.0",
            "_view_count": null,
            "_view_module_version": "1.5.0",
            "box_style": "",
            "layout": "IPY_MODEL_d741aa405bff423d94d926d8f421b4d3",
            "_model_module": "@jupyter-widgets/controls",
            "children": [
              "IPY_MODEL_6eb616603d1a4568802f6861e4993967",
              "IPY_MODEL_82594a7f3463456982a20d6517eb6c36"
            ]
          }
        },
        "d741aa405bff423d94d926d8f421b4d3": {
          "model_module": "@jupyter-widgets/base",
          "model_name": "LayoutModel",
          "state": {
            "_view_name": "LayoutView",
            "grid_template_rows": null,
            "right": null,
            "justify_content": null,
            "_view_module": "@jupyter-widgets/base",
            "overflow": null,
            "_model_module_version": "1.2.0",
            "_view_count": null,
            "flex_flow": null,
            "width": null,
            "min_width": null,
            "border": null,
            "align_items": null,
            "bottom": null,
            "_model_module": "@jupyter-widgets/base",
            "top": null,
            "grid_column": null,
            "overflow_y": null,
            "overflow_x": null,
            "grid_auto_flow": null,
            "grid_area": null,
            "grid_template_columns": null,
            "flex": null,
            "_model_name": "LayoutModel",
            "justify_items": null,
            "grid_row": null,
            "max_height": null,
            "align_content": null,
            "visibility": null,
            "align_self": null,
            "height": null,
            "min_height": null,
            "padding": null,
            "grid_auto_rows": null,
            "grid_gap": null,
            "max_width": null,
            "order": null,
            "_view_module_version": "1.2.0",
            "grid_template_areas": null,
            "object_position": null,
            "object_fit": null,
            "grid_auto_columns": null,
            "margin": null,
            "display": null,
            "left": null
          }
        },
        "6eb616603d1a4568802f6861e4993967": {
          "model_module": "@jupyter-widgets/controls",
          "model_name": "FloatProgressModel",
          "state": {
            "_view_name": "ProgressView",
            "style": "IPY_MODEL_54560bae20a2467ea2b9eb7d68aca7c3",
            "_dom_classes": [],
            "description": "100%",
            "_model_name": "FloatProgressModel",
            "bar_style": "success",
            "max": 233,
            "_view_module": "@jupyter-widgets/controls",
            "_model_module_version": "1.5.0",
            "value": 233,
            "_view_count": null,
            "_view_module_version": "1.5.0",
            "orientation": "horizontal",
            "min": 0,
            "description_tooltip": null,
            "_model_module": "@jupyter-widgets/controls",
            "layout": "IPY_MODEL_22b4537bb16c4831bb460903a3d74482"
          }
        },
        "82594a7f3463456982a20d6517eb6c36": {
          "model_module": "@jupyter-widgets/controls",
          "model_name": "HTMLModel",
          "state": {
            "_view_name": "HTMLView",
            "style": "IPY_MODEL_a8801599b4524ea6a8770eaa8519deef",
            "_dom_classes": [],
            "description": "",
            "_model_name": "HTMLModel",
            "placeholder": "​",
            "_view_module": "@jupyter-widgets/controls",
            "_model_module_version": "1.5.0",
            "value": " 233/233 [01:58&lt;00:00,  1.97it/s]",
            "_view_count": null,
            "_view_module_version": "1.5.0",
            "description_tooltip": null,
            "_model_module": "@jupyter-widgets/controls",
            "layout": "IPY_MODEL_5f7fbaf2957c4cde9f50e7846c0331e4"
          }
        },
        "54560bae20a2467ea2b9eb7d68aca7c3": {
          "model_module": "@jupyter-widgets/controls",
          "model_name": "ProgressStyleModel",
          "state": {
            "_view_name": "StyleView",
            "_model_name": "ProgressStyleModel",
            "description_width": "initial",
            "_view_module": "@jupyter-widgets/base",
            "_model_module_version": "1.5.0",
            "_view_count": null,
            "_view_module_version": "1.2.0",
            "bar_color": null,
            "_model_module": "@jupyter-widgets/controls"
          }
        },
        "22b4537bb16c4831bb460903a3d74482": {
          "model_module": "@jupyter-widgets/base",
          "model_name": "LayoutModel",
          "state": {
            "_view_name": "LayoutView",
            "grid_template_rows": null,
            "right": null,
            "justify_content": null,
            "_view_module": "@jupyter-widgets/base",
            "overflow": null,
            "_model_module_version": "1.2.0",
            "_view_count": null,
            "flex_flow": null,
            "width": null,
            "min_width": null,
            "border": null,
            "align_items": null,
            "bottom": null,
            "_model_module": "@jupyter-widgets/base",
            "top": null,
            "grid_column": null,
            "overflow_y": null,
            "overflow_x": null,
            "grid_auto_flow": null,
            "grid_area": null,
            "grid_template_columns": null,
            "flex": null,
            "_model_name": "LayoutModel",
            "justify_items": null,
            "grid_row": null,
            "max_height": null,
            "align_content": null,
            "visibility": null,
            "align_self": null,
            "height": null,
            "min_height": null,
            "padding": null,
            "grid_auto_rows": null,
            "grid_gap": null,
            "max_width": null,
            "order": null,
            "_view_module_version": "1.2.0",
            "grid_template_areas": null,
            "object_position": null,
            "object_fit": null,
            "grid_auto_columns": null,
            "margin": null,
            "display": null,
            "left": null
          }
        },
        "a8801599b4524ea6a8770eaa8519deef": {
          "model_module": "@jupyter-widgets/controls",
          "model_name": "DescriptionStyleModel",
          "state": {
            "_view_name": "StyleView",
            "_model_name": "DescriptionStyleModel",
            "description_width": "",
            "_view_module": "@jupyter-widgets/base",
            "_model_module_version": "1.5.0",
            "_view_count": null,
            "_view_module_version": "1.2.0",
            "_model_module": "@jupyter-widgets/controls"
          }
        },
        "5f7fbaf2957c4cde9f50e7846c0331e4": {
          "model_module": "@jupyter-widgets/base",
          "model_name": "LayoutModel",
          "state": {
            "_view_name": "LayoutView",
            "grid_template_rows": null,
            "right": null,
            "justify_content": null,
            "_view_module": "@jupyter-widgets/base",
            "overflow": null,
            "_model_module_version": "1.2.0",
            "_view_count": null,
            "flex_flow": null,
            "width": null,
            "min_width": null,
            "border": null,
            "align_items": null,
            "bottom": null,
            "_model_module": "@jupyter-widgets/base",
            "top": null,
            "grid_column": null,
            "overflow_y": null,
            "overflow_x": null,
            "grid_auto_flow": null,
            "grid_area": null,
            "grid_template_columns": null,
            "flex": null,
            "_model_name": "LayoutModel",
            "justify_items": null,
            "grid_row": null,
            "max_height": null,
            "align_content": null,
            "visibility": null,
            "align_self": null,
            "height": null,
            "min_height": null,
            "padding": null,
            "grid_auto_rows": null,
            "grid_gap": null,
            "max_width": null,
            "order": null,
            "_view_module_version": "1.2.0",
            "grid_template_areas": null,
            "object_position": null,
            "object_fit": null,
            "grid_auto_columns": null,
            "margin": null,
            "display": null,
            "left": null
          }
        },
        "22e90d5bcc754ac9a96b90021509e564": {
          "model_module": "@jupyter-widgets/controls",
          "model_name": "HBoxModel",
          "state": {
            "_view_name": "HBoxView",
            "_dom_classes": [],
            "_model_name": "HBoxModel",
            "_view_module": "@jupyter-widgets/controls",
            "_model_module_version": "1.5.0",
            "_view_count": null,
            "_view_module_version": "1.5.0",
            "box_style": "",
            "layout": "IPY_MODEL_a94e3fce5b2242018592a8d25d7471c5",
            "_model_module": "@jupyter-widgets/controls",
            "children": [
              "IPY_MODEL_eef987d5dc2540c79929fbf719007e93",
              "IPY_MODEL_1b8a9444101e4fcf8ba8b72b1dad0b9f"
            ]
          }
        },
        "a94e3fce5b2242018592a8d25d7471c5": {
          "model_module": "@jupyter-widgets/base",
          "model_name": "LayoutModel",
          "state": {
            "_view_name": "LayoutView",
            "grid_template_rows": null,
            "right": null,
            "justify_content": null,
            "_view_module": "@jupyter-widgets/base",
            "overflow": null,
            "_model_module_version": "1.2.0",
            "_view_count": null,
            "flex_flow": null,
            "width": null,
            "min_width": null,
            "border": null,
            "align_items": null,
            "bottom": null,
            "_model_module": "@jupyter-widgets/base",
            "top": null,
            "grid_column": null,
            "overflow_y": null,
            "overflow_x": null,
            "grid_auto_flow": null,
            "grid_area": null,
            "grid_template_columns": null,
            "flex": null,
            "_model_name": "LayoutModel",
            "justify_items": null,
            "grid_row": null,
            "max_height": null,
            "align_content": null,
            "visibility": null,
            "align_self": null,
            "height": null,
            "min_height": null,
            "padding": null,
            "grid_auto_rows": null,
            "grid_gap": null,
            "max_width": null,
            "order": null,
            "_view_module_version": "1.2.0",
            "grid_template_areas": null,
            "object_position": null,
            "object_fit": null,
            "grid_auto_columns": null,
            "margin": null,
            "display": null,
            "left": null
          }
        },
        "eef987d5dc2540c79929fbf719007e93": {
          "model_module": "@jupyter-widgets/controls",
          "model_name": "FloatProgressModel",
          "state": {
            "_view_name": "ProgressView",
            "style": "IPY_MODEL_7b8d1e460bd0443eb5053ddaa04655c5",
            "_dom_classes": [],
            "description": "100%",
            "_model_name": "FloatProgressModel",
            "bar_style": "success",
            "max": 600,
            "_view_module": "@jupyter-widgets/controls",
            "_model_module_version": "1.5.0",
            "value": 600,
            "_view_count": null,
            "_view_module_version": "1.5.0",
            "orientation": "horizontal",
            "min": 0,
            "description_tooltip": null,
            "_model_module": "@jupyter-widgets/controls",
            "layout": "IPY_MODEL_c005dad634374dc18ffbac67c7b70f43"
          }
        },
        "1b8a9444101e4fcf8ba8b72b1dad0b9f": {
          "model_module": "@jupyter-widgets/controls",
          "model_name": "HTMLModel",
          "state": {
            "_view_name": "HTMLView",
            "style": "IPY_MODEL_7e29a55833024845b1855eb830baf4cc",
            "_dom_classes": [],
            "description": "",
            "_model_name": "HTMLModel",
            "placeholder": "​",
            "_view_module": "@jupyter-widgets/controls",
            "_model_module_version": "1.5.0",
            "value": " 600/600 [08:05&lt;00:00,  1.24it/s]",
            "_view_count": null,
            "_view_module_version": "1.5.0",
            "description_tooltip": null,
            "_model_module": "@jupyter-widgets/controls",
            "layout": "IPY_MODEL_0d8618951a0b4cb8bc4c27a3af9c3863"
          }
        },
        "7b8d1e460bd0443eb5053ddaa04655c5": {
          "model_module": "@jupyter-widgets/controls",
          "model_name": "ProgressStyleModel",
          "state": {
            "_view_name": "StyleView",
            "_model_name": "ProgressStyleModel",
            "description_width": "initial",
            "_view_module": "@jupyter-widgets/base",
            "_model_module_version": "1.5.0",
            "_view_count": null,
            "_view_module_version": "1.2.0",
            "bar_color": null,
            "_model_module": "@jupyter-widgets/controls"
          }
        },
        "c005dad634374dc18ffbac67c7b70f43": {
          "model_module": "@jupyter-widgets/base",
          "model_name": "LayoutModel",
          "state": {
            "_view_name": "LayoutView",
            "grid_template_rows": null,
            "right": null,
            "justify_content": null,
            "_view_module": "@jupyter-widgets/base",
            "overflow": null,
            "_model_module_version": "1.2.0",
            "_view_count": null,
            "flex_flow": null,
            "width": null,
            "min_width": null,
            "border": null,
            "align_items": null,
            "bottom": null,
            "_model_module": "@jupyter-widgets/base",
            "top": null,
            "grid_column": null,
            "overflow_y": null,
            "overflow_x": null,
            "grid_auto_flow": null,
            "grid_area": null,
            "grid_template_columns": null,
            "flex": null,
            "_model_name": "LayoutModel",
            "justify_items": null,
            "grid_row": null,
            "max_height": null,
            "align_content": null,
            "visibility": null,
            "align_self": null,
            "height": null,
            "min_height": null,
            "padding": null,
            "grid_auto_rows": null,
            "grid_gap": null,
            "max_width": null,
            "order": null,
            "_view_module_version": "1.2.0",
            "grid_template_areas": null,
            "object_position": null,
            "object_fit": null,
            "grid_auto_columns": null,
            "margin": null,
            "display": null,
            "left": null
          }
        },
        "7e29a55833024845b1855eb830baf4cc": {
          "model_module": "@jupyter-widgets/controls",
          "model_name": "DescriptionStyleModel",
          "state": {
            "_view_name": "StyleView",
            "_model_name": "DescriptionStyleModel",
            "description_width": "",
            "_view_module": "@jupyter-widgets/base",
            "_model_module_version": "1.5.0",
            "_view_count": null,
            "_view_module_version": "1.2.0",
            "_model_module": "@jupyter-widgets/controls"
          }
        },
        "0d8618951a0b4cb8bc4c27a3af9c3863": {
          "model_module": "@jupyter-widgets/base",
          "model_name": "LayoutModel",
          "state": {
            "_view_name": "LayoutView",
            "grid_template_rows": null,
            "right": null,
            "justify_content": null,
            "_view_module": "@jupyter-widgets/base",
            "overflow": null,
            "_model_module_version": "1.2.0",
            "_view_count": null,
            "flex_flow": null,
            "width": null,
            "min_width": null,
            "border": null,
            "align_items": null,
            "bottom": null,
            "_model_module": "@jupyter-widgets/base",
            "top": null,
            "grid_column": null,
            "overflow_y": null,
            "overflow_x": null,
            "grid_auto_flow": null,
            "grid_area": null,
            "grid_template_columns": null,
            "flex": null,
            "_model_name": "LayoutModel",
            "justify_items": null,
            "grid_row": null,
            "max_height": null,
            "align_content": null,
            "visibility": null,
            "align_self": null,
            "height": null,
            "min_height": null,
            "padding": null,
            "grid_auto_rows": null,
            "grid_gap": null,
            "max_width": null,
            "order": null,
            "_view_module_version": "1.2.0",
            "grid_template_areas": null,
            "object_position": null,
            "object_fit": null,
            "grid_auto_columns": null,
            "margin": null,
            "display": null,
            "left": null
          }
        },
        "bbb1f10a73214e5089a046342fc6b8e0": {
          "model_module": "@jupyter-widgets/controls",
          "model_name": "HBoxModel",
          "state": {
            "_view_name": "HBoxView",
            "_dom_classes": [],
            "_model_name": "HBoxModel",
            "_view_module": "@jupyter-widgets/controls",
            "_model_module_version": "1.5.0",
            "_view_count": null,
            "_view_module_version": "1.5.0",
            "box_style": "",
            "layout": "IPY_MODEL_91e8acd14ba54376bccd307d517eb8fd",
            "_model_module": "@jupyter-widgets/controls",
            "children": [
              "IPY_MODEL_c7b7a8a76420453f82a22a8e17583114",
              "IPY_MODEL_3308da35df1a43b4aeafd38d3648bf5a"
            ]
          }
        },
        "91e8acd14ba54376bccd307d517eb8fd": {
          "model_module": "@jupyter-widgets/base",
          "model_name": "LayoutModel",
          "state": {
            "_view_name": "LayoutView",
            "grid_template_rows": null,
            "right": null,
            "justify_content": null,
            "_view_module": "@jupyter-widgets/base",
            "overflow": null,
            "_model_module_version": "1.2.0",
            "_view_count": null,
            "flex_flow": null,
            "width": null,
            "min_width": null,
            "border": null,
            "align_items": null,
            "bottom": null,
            "_model_module": "@jupyter-widgets/base",
            "top": null,
            "grid_column": null,
            "overflow_y": null,
            "overflow_x": null,
            "grid_auto_flow": null,
            "grid_area": null,
            "grid_template_columns": null,
            "flex": null,
            "_model_name": "LayoutModel",
            "justify_items": null,
            "grid_row": null,
            "max_height": null,
            "align_content": null,
            "visibility": null,
            "align_self": null,
            "height": null,
            "min_height": null,
            "padding": null,
            "grid_auto_rows": null,
            "grid_gap": null,
            "max_width": null,
            "order": null,
            "_view_module_version": "1.2.0",
            "grid_template_areas": null,
            "object_position": null,
            "object_fit": null,
            "grid_auto_columns": null,
            "margin": null,
            "display": null,
            "left": null
          }
        },
        "c7b7a8a76420453f82a22a8e17583114": {
          "model_module": "@jupyter-widgets/controls",
          "model_name": "FloatProgressModel",
          "state": {
            "_view_name": "ProgressView",
            "style": "IPY_MODEL_529eafd3813942c1b019db2384716f01",
            "_dom_classes": [],
            "description": "100%",
            "_model_name": "FloatProgressModel",
            "bar_style": "success",
            "max": 701,
            "_view_module": "@jupyter-widgets/controls",
            "_model_module_version": "1.5.0",
            "value": 701,
            "_view_count": null,
            "_view_module_version": "1.5.0",
            "orientation": "horizontal",
            "min": 0,
            "description_tooltip": null,
            "_model_module": "@jupyter-widgets/controls",
            "layout": "IPY_MODEL_4f2a6c973d93409caadfb17c4032e755"
          }
        },
        "3308da35df1a43b4aeafd38d3648bf5a": {
          "model_module": "@jupyter-widgets/controls",
          "model_name": "HTMLModel",
          "state": {
            "_view_name": "HTMLView",
            "style": "IPY_MODEL_b349c566d0b84aa6a20e56233007486b",
            "_dom_classes": [],
            "description": "",
            "_model_name": "HTMLModel",
            "placeholder": "​",
            "_view_module": "@jupyter-widgets/controls",
            "_model_module_version": "1.5.0",
            "value": " 701/701 [04:10&lt;00:00,  2.80it/s]",
            "_view_count": null,
            "_view_module_version": "1.5.0",
            "description_tooltip": null,
            "_model_module": "@jupyter-widgets/controls",
            "layout": "IPY_MODEL_79174085288b4f5d9223605683cebb16"
          }
        },
        "529eafd3813942c1b019db2384716f01": {
          "model_module": "@jupyter-widgets/controls",
          "model_name": "ProgressStyleModel",
          "state": {
            "_view_name": "StyleView",
            "_model_name": "ProgressStyleModel",
            "description_width": "initial",
            "_view_module": "@jupyter-widgets/base",
            "_model_module_version": "1.5.0",
            "_view_count": null,
            "_view_module_version": "1.2.0",
            "bar_color": null,
            "_model_module": "@jupyter-widgets/controls"
          }
        },
        "4f2a6c973d93409caadfb17c4032e755": {
          "model_module": "@jupyter-widgets/base",
          "model_name": "LayoutModel",
          "state": {
            "_view_name": "LayoutView",
            "grid_template_rows": null,
            "right": null,
            "justify_content": null,
            "_view_module": "@jupyter-widgets/base",
            "overflow": null,
            "_model_module_version": "1.2.0",
            "_view_count": null,
            "flex_flow": null,
            "width": null,
            "min_width": null,
            "border": null,
            "align_items": null,
            "bottom": null,
            "_model_module": "@jupyter-widgets/base",
            "top": null,
            "grid_column": null,
            "overflow_y": null,
            "overflow_x": null,
            "grid_auto_flow": null,
            "grid_area": null,
            "grid_template_columns": null,
            "flex": null,
            "_model_name": "LayoutModel",
            "justify_items": null,
            "grid_row": null,
            "max_height": null,
            "align_content": null,
            "visibility": null,
            "align_self": null,
            "height": null,
            "min_height": null,
            "padding": null,
            "grid_auto_rows": null,
            "grid_gap": null,
            "max_width": null,
            "order": null,
            "_view_module_version": "1.2.0",
            "grid_template_areas": null,
            "object_position": null,
            "object_fit": null,
            "grid_auto_columns": null,
            "margin": null,
            "display": null,
            "left": null
          }
        },
        "b349c566d0b84aa6a20e56233007486b": {
          "model_module": "@jupyter-widgets/controls",
          "model_name": "DescriptionStyleModel",
          "state": {
            "_view_name": "StyleView",
            "_model_name": "DescriptionStyleModel",
            "description_width": "",
            "_view_module": "@jupyter-widgets/base",
            "_model_module_version": "1.5.0",
            "_view_count": null,
            "_view_module_version": "1.2.0",
            "_model_module": "@jupyter-widgets/controls"
          }
        },
        "79174085288b4f5d9223605683cebb16": {
          "model_module": "@jupyter-widgets/base",
          "model_name": "LayoutModel",
          "state": {
            "_view_name": "LayoutView",
            "grid_template_rows": null,
            "right": null,
            "justify_content": null,
            "_view_module": "@jupyter-widgets/base",
            "overflow": null,
            "_model_module_version": "1.2.0",
            "_view_count": null,
            "flex_flow": null,
            "width": null,
            "min_width": null,
            "border": null,
            "align_items": null,
            "bottom": null,
            "_model_module": "@jupyter-widgets/base",
            "top": null,
            "grid_column": null,
            "overflow_y": null,
            "overflow_x": null,
            "grid_auto_flow": null,
            "grid_area": null,
            "grid_template_columns": null,
            "flex": null,
            "_model_name": "LayoutModel",
            "justify_items": null,
            "grid_row": null,
            "max_height": null,
            "align_content": null,
            "visibility": null,
            "align_self": null,
            "height": null,
            "min_height": null,
            "padding": null,
            "grid_auto_rows": null,
            "grid_gap": null,
            "max_width": null,
            "order": null,
            "_view_module_version": "1.2.0",
            "grid_template_areas": null,
            "object_position": null,
            "object_fit": null,
            "grid_auto_columns": null,
            "margin": null,
            "display": null,
            "left": null
          }
        }
      }
    }
  },
  "cells": [
    {
      "cell_type": "markdown",
      "metadata": {
        "id": "view-in-github",
        "colab_type": "text"
      },
      "source": [
        "<a href=\"https://colab.research.google.com/github/ProtossDragoon/paper_implementation_and_testing_tf2/blob/main/utils/Generate_TFRecord.ipynb\" target=\"_parent\"><img src=\"https://colab.research.google.com/assets/colab-badge.svg\" alt=\"Open In Colab\"/></a>"
      ]
    },
    {
      "cell_type": "markdown",
      "metadata": {
        "id": "qWmU_9K2tWCi"
      },
      "source": [
        "# Generate TFRecord\n",
        "\n",
        "## Author\n",
        "\n",
        "name : Janghoo Lee <br>\n",
        "github : https://github.com/ProtossDragoon <br>\n",
        "contact : dlwkdgn1@naver.com <br>\n",
        "circle : https://github.com/sju-coml <br>\n",
        "organization : https://web.deering.co/ <br>\n",
        "published date : June, 2021\n",
        "\n",
        "\n",
        "## Related Notebook\n",
        "\n",
        "[Notebooks](https://github.com/ProtossDragoon/paper_implementation_and_testing_tf2/tree/main/notebooks)\n"
      ]
    },
    {
      "cell_type": "markdown",
      "metadata": {
        "id": "8FcztBRNa5Au"
      },
      "source": [
        "# Environment"
      ]
    },
    {
      "cell_type": "code",
      "metadata": {
        "colab": {
          "base_uri": "https://localhost:8080/"
        },
        "id": "NSJsL2FStS0y",
        "outputId": "3a6d62e7-7c0d-4079-bdca-e49af0d47eb8"
      },
      "source": [
        "import tensorflow as tf\n",
        "print(tf.__version__)"
      ],
      "execution_count": 112,
      "outputs": [
        {
          "output_type": "stream",
          "text": [
            "2.5.0\n"
          ],
          "name": "stdout"
        }
      ]
    },
    {
      "cell_type": "code",
      "metadata": {
        "id": "WUgp9ccsbAUA"
      },
      "source": [
        "import os, sys\n",
        "import matplotlib.pyplot as plt\n",
        "from sklearn.model_selection import train_test_split\n",
        "import numpy as np\n",
        "from tqdm.notebook import tqdm as tqdm\n",
        "import cv2"
      ],
      "execution_count": 113,
      "outputs": []
    },
    {
      "cell_type": "markdown",
      "metadata": {
        "id": "7_0n8J6KbDBB"
      },
      "source": [
        "## Google Drive / Git"
      ]
    },
    {
      "cell_type": "code",
      "metadata": {
        "colab": {
          "base_uri": "https://localhost:8080/"
        },
        "id": "Tt06_IrzeV-W",
        "outputId": "1380eb3b-0288-4e21-dc06-0022a9c039fd"
      },
      "source": [
        "#!rm -r /content/gdrive/\n",
        "from google.colab import drive\n",
        "drive.mount('/content/gdrive')"
      ],
      "execution_count": 114,
      "outputs": [
        {
          "output_type": "stream",
          "text": [
            "Drive already mounted at /content/gdrive; to attempt to forcibly remount, call drive.mount(\"/content/gdrive\", force_remount=True).\n"
          ],
          "name": "stdout"
        }
      ]
    },
    {
      "cell_type": "code",
      "metadata": {
        "id": "U-6jSRBSbDzl"
      },
      "source": [
        "USE_GCS = False\n",
        "HOME_DIR = \"/content/gdrive/MyDrive\"\n",
        "WS = os.path.join(HOME_DIR, \"ColabWorkspace\")\n",
        "DATA_DIR = os.path.join(HOME_DIR, 'data')\n",
        "DATA_INDEXFILE_DIR = os.path.join(DATA_DIR, 'index')\n",
        "DATA_TFRECORD_DIR = os.path.join(DATA_DIR, 'tfrecord')\n",
        "\n",
        "GIT_REPO_NAME = 'paper_implementation_and_testing_tf2'\n",
        "GIT_WS = os.path.join(WS, GIT_REPO_NAME)\n",
        "\n",
        "GIT_BRANCH = 'main'\n",
        "GIT_USERNAME = None # Add herea\n",
        "GIT_EMAIL = None\n",
        "GIT_PASSWORD = None # Add here"
      ],
      "execution_count": 127,
      "outputs": []
    },
    {
      "cell_type": "code",
      "metadata": {
        "colab": {
          "base_uri": "https://localhost:8080/"
        },
        "id": "OYialtbGbH7L",
        "outputId": "57d5e5c2-64d3-42e0-99f8-ae3c3714f903"
      },
      "source": [
        "!mkdir -p {WS}\n",
        "%cd {WS}\n",
        "!git clone https://github.com/ProtossDragoon/{GIT_REPO_NAME}.git\n",
        "%cd {GIT_WS}\n",
        "!git config --global user.name {GIT_USERNAME}\n",
        "!git config --global user.email {GIT_EMAIL}\n",
        "\n",
        "!git checkout -b {GIT_BRANCH}\n",
        "!git checkout {GIT_BRANCH}\n",
        "!git pull origin {GIT_BRANCH}\n",
        "!git branch\n",
        "!git branch --set-upstream-to origin/{GIT_BRANCH}"
      ],
      "execution_count": 128,
      "outputs": [
        {
          "output_type": "stream",
          "text": [
            "/content/gdrive/MyDrive/ColabWorkspace\n",
            "fatal: destination path 'paper_implementation_and_testing_tf2' already exists and is not an empty directory.\n",
            "/content/gdrive/MyDrive/ColabWorkspace/paper_implementation_and_testing_tf2\n",
            "fatal: A branch named 'main' already exists.\n",
            "D\tutils/Generate_TFRecord.ipynb\n",
            "D\tutils/rosutils/Convert_Bagfile_to_Video.ipynb\n",
            "Already on 'main'\n",
            "Your branch is up to date with 'origin/main'.\n",
            "From https://github.com/ProtossDragoon/paper_implementation_and_testing_tf2\n",
            " * branch            main       -> FETCH_HEAD\n",
            "Already up to date.\n",
            "  list\u001b[m\n",
            "* \u001b[32mmain\u001b[m\n",
            "  resnet\u001b[m\n",
            "  tftrt\u001b[m\n",
            "  unet\u001b[m\n",
            "Branch 'main' set up to track remote branch 'main' from 'origin'.\n"
          ],
          "name": "stdout"
        }
      ]
    },
    {
      "cell_type": "markdown",
      "metadata": {
        "id": "IBRkE79HCJRF"
      },
      "source": [
        "## [Additional] GCP & TFCloud\n",
        "\n",
        "Only run for GCP & TF-Cloud. Not for Vanilla google drive user."
      ]
    },
    {
      "cell_type": "markdown",
      "metadata": {
        "id": "KmAFdo7hCO1b"
      },
      "source": [
        "### Authenticate GCP User"
      ]
    },
    {
      "cell_type": "code",
      "metadata": {
        "colab": {
          "base_uri": "https://localhost:8080/"
        },
        "id": "K743B9iHCJum",
        "outputId": "f38affad-d698-47ed-f689-d271d799461e"
      },
      "source": [
        "# !pip install tensorflow_cloud # google colab already has tensorflow cloud\n",
        "!pip install tensorflow_cloud -q\n",
        "import tensorflow_cloud as tfc\n",
        "print(tfc.__version__)\n",
        "\n",
        "GCP_BUCKET_NAME = \"deer-rudolph\" #@param {type:\"string\"}\n",
        "GCP_PROJECT_NAME = \"deer-deep-learning-project\" #@param {type:\"string\"}\n",
        "GCP_PROJECT_ID = \"linear-freehold-314804\" #@param {type:\"string\"}\n",
        "\n",
        "IS_COLAB_BACKEND = 'COLAB_GPU' in os.environ  # this is always set on Colab, the value is 0 or 1 depending on GPU presence\n",
        "if IS_COLAB_BACKEND:\n",
        "    if \"google.colab\" in sys.modules:\n",
        "        from google.colab import auth\n",
        "        auth.authenticate_user()\n",
        "        os.environ[\"GOOGLE_CLOUD_PROJECT\"] = GCP_PROJECT_ID\n",
        "\n",
        "USE_GCS = True"
      ],
      "execution_count": 130,
      "outputs": [
        {
          "output_type": "stream",
          "text": [
            "\u001b[K     |████████████████████████████████| 102kB 3.7MB/s \n",
            "\u001b[K     |████████████████████████████████| 409kB 7.5MB/s \n",
            "\u001b[K     |████████████████████████████████| 102kB 4.8MB/s \n",
            "\u001b[K     |████████████████████████████████| 153kB 8.3MB/s \n",
            "\u001b[K     |████████████████████████████████| 17.7MB 323kB/s \n",
            "\u001b[K     |████████████████████████████████| 1.0MB 35.0MB/s \n",
            "\u001b[K     |████████████████████████████████| 51kB 5.8MB/s \n",
            "\u001b[K     |████████████████████████████████| 19.0MB 206kB/s \n",
            "\u001b[K     |████████████████████████████████| 9.6MB 34.1MB/s \n",
            "\u001b[K     |████████████████████████████████| 71kB 7.1MB/s \n",
            "\u001b[K     |████████████████████████████████| 2.3MB 29.6MB/s \n",
            "\u001b[K     |████████████████████████████████| 256kB 43.4MB/s \n",
            "\u001b[K     |████████████████████████████████| 174kB 47.6MB/s \n",
            "\u001b[K     |████████████████████████████████| 276kB 47.7MB/s \n",
            "\u001b[K     |████████████████████████████████| 174kB 46.8MB/s \n",
            "\u001b[K     |████████████████████████████████| 184kB 44.0MB/s \n",
            "\u001b[K     |████████████████████████████████| 440kB 45.5MB/s \n",
            "\u001b[K     |████████████████████████████████| 92kB 7.9MB/s \n",
            "\u001b[K     |████████████████████████████████| 153kB 44.5MB/s \n",
            "\u001b[?25h  Building wheel for kt-legacy (setup.py) ... \u001b[?25l\u001b[?25hdone\n",
            "  Building wheel for avro-python3 (setup.py) ... \u001b[?25l\u001b[?25hdone\n",
            "  Building wheel for google-apitools (setup.py) ... \u001b[?25l\u001b[?25hdone\n",
            "  Building wheel for grpc-google-iam-v1 (setup.py) ... \u001b[?25l\u001b[?25hdone\n",
            "\u001b[31mERROR: google-cloud-spanner 1.19.1 has requirement google-cloud-core<2.0dev,>=1.4.1, but you'll have google-cloud-core 1.0.3 which is incompatible.\u001b[0m\n",
            "\u001b[31mERROR: google-cloud-bigtable 1.7.0 has requirement google-cloud-core<2.0dev,>=1.4.1, but you'll have google-cloud-core 1.0.3 which is incompatible.\u001b[0m\n",
            "\u001b[31mERROR: apache-beam 2.30.0 has requirement dill<0.3.2,>=0.3.1.1, but you'll have dill 0.3.4 which is incompatible.\u001b[0m\n",
            "\u001b[31mERROR: apache-beam 2.30.0 has requirement future<1.0.0,>=0.18.2, but you'll have future 0.16.0 which is incompatible.\u001b[0m\n",
            "\u001b[31mERROR: apache-beam 2.30.0 has requirement requests<3.0.0,>=2.24.0, but you'll have requests 2.23.0 which is incompatible.\u001b[0m\n",
            "0.1.16\n"
          ],
          "name": "stdout"
        }
      ]
    },
    {
      "cell_type": "markdown",
      "metadata": {
        "id": "sBssFIaFCPc8"
      },
      "source": [
        "### Global Hyper Parameters\n",
        "\n",
        "Re-define hyper parameters we defined before."
      ]
    },
    {
      "cell_type": "code",
      "metadata": {
        "id": "1TtcGkaxCROX"
      },
      "source": [
        "HOME_DIR = os.path.join('gs://', GCP_BUCKET_NAME)\n",
        "DATA_DIR = os.path.join(HOME_DIR, 'data')\n",
        "DATA_INDEXFILE_DIR = os.path.join(DATA_DIR, 'index')\n",
        "DATA_TFRECORD_DIR = os.path.join(DATA_DIR, 'tfrecord')"
      ],
      "execution_count": 131,
      "outputs": []
    },
    {
      "cell_type": "markdown",
      "metadata": {
        "id": "iVoT-BCAwPK5"
      },
      "source": [
        "# Dataset Library"
      ]
    },
    {
      "cell_type": "markdown",
      "metadata": {
        "id": "m3lJ5gOqwRPS"
      },
      "source": [
        "## CamVid\n",
        "\n",
        "\n",
        "For this example we will use CamVid dataset. It is a set of:\n",
        "- **train** images + segmentation masks\n",
        "- **validation** images + segmentation masks\n",
        "- **test** images + segmentation masks\n",
        "- All images have 320 pixels height and 480 pixels width.\n",
        "\n",
        "<br>\n",
        "\n",
        "For more inforamtion about dataset visit \n",
        "- http://www0.cs.ucl.ac.uk/staff/G.Brostow/papers/Brostow_2009-PRL.pdf\n",
        "- http://mi.eng.cam.ac.uk/research/projects/VideoRec/CamVid/"
      ]
    },
    {
      "cell_type": "markdown",
      "metadata": {
        "id": "g29l_hg08h14"
      },
      "source": [
        "### Segmentation task"
      ]
    },
    {
      "cell_type": "code",
      "metadata": {
        "colab": {
          "base_uri": "https://localhost:8080/"
        },
        "id": "Imz_UXMWeKMC",
        "outputId": "a54cc3ec-3264-4172-e4d9-1143e53090bf"
      },
      "source": [
        "DATASET_DIR_CAMVID = os.path.join(DATA_DIR, 'camvid')\n",
        "DATASET_TRAIN_X_DIR_CAMVID = os.path.join(DATASET_DIR_CAMVID, 'train')\n",
        "DATASET_TRAIN_Y_DIR_CAMVID = os.path.join(DATASET_DIR_CAMVID, 'trainannot')\n",
        "DATASET_VAL_X_DIR_CAMVID = os.path.join(DATASET_DIR_CAMVID, 'val')\n",
        "DATASET_VAL_Y_DIR_CAMVID = os.path.join(DATASET_DIR_CAMVID, 'valannot')\n",
        "DATASET_TEST_X_DIR_CAMVID = os.path.join(DATASET_DIR_CAMVID, 'test')\n",
        "DATASET_TEST_Y_DIR_CAMVID = os.path.join(DATASET_DIR_CAMVID, 'testannot')\n",
        "\n",
        "print('parsed : {}'.format(DATASET_DIR_CAMVID))\n",
        "if USE_GCS:\n",
        "    !gsutil ls {DATASET_DIR_CAMVID}\n",
        "else:\n",
        "    %cd {DATASET_DIR_CAMVID}\n",
        "    %ls -al"
      ],
      "execution_count": 132,
      "outputs": [
        {
          "output_type": "stream",
          "text": [
            "parsed : gs://deer-rudolph/data/camvid\n",
            "gs://deer-rudolph/data/camvid/test.txt\n",
            "gs://deer-rudolph/data/camvid/train.txt\n",
            "gs://deer-rudolph/data/camvid/val.txt\n",
            "gs://deer-rudolph/data/camvid/test/\n",
            "gs://deer-rudolph/data/camvid/testannot/\n",
            "gs://deer-rudolph/data/camvid/train/\n",
            "gs://deer-rudolph/data/camvid/trainannot/\n",
            "gs://deer-rudolph/data/camvid/val/\n",
            "gs://deer-rudolph/data/camvid/valannot/\n"
          ],
          "name": "stdout"
        }
      ]
    },
    {
      "cell_type": "markdown",
      "metadata": {
        "id": "h33skqctwVH7"
      },
      "source": [
        "## Aihub Pedestrian\n",
        "\n",
        "For this example we will use Aihub Pedestrian dataset. It is a set of:\n",
        "- **images and labels** images + segmentation masks\n",
        "- All images have 1080 pixels height and 1920 pixels width.\n",
        "\n",
        "<br>\n",
        "\n",
        "For more inforamtion about dataset visit \n",
        "- https://www.aihub.or.kr/aidata/136\n",
        "\n",
        "<br>\n",
        "\n",
        "This notebook does not have dataset download link."
      ]
    },
    {
      "cell_type": "markdown",
      "metadata": {
        "id": "b5IW0AeI8kWB"
      },
      "source": [
        "### Segmentation task"
      ]
    },
    {
      "cell_type": "code",
      "metadata": {
        "colab": {
          "base_uri": "https://localhost:8080/"
        },
        "id": "3FuBBpvbeKhB",
        "outputId": "80d59038-37f1-4a60-aeb2-4fe4228ab79d"
      },
      "source": [
        "DATASET_DIR_PEDESTRIAN = os.path.join(DATA_DIR, 'aihubpedestrian')\n",
        "\n",
        "print('parsed : {}'.format(DATASET_DIR_PEDESTRIAN))\n",
        "if USE_GCS:\n",
        "    !gsutil ls {DATASET_DIR_PEDESTRIAN}\n",
        "else:\n",
        "    %cd {DATASET_DIR_PEDESTRIAN}\n",
        "    %ls -al"
      ],
      "execution_count": 133,
      "outputs": [
        {
          "output_type": "stream",
          "text": [
            "parsed : gs://deer-rudolph/data/aihubpedestrian\n",
            "CommandException: One or more URLs matched no objects.\n"
          ],
          "name": "stdout"
        }
      ]
    },
    {
      "cell_type": "markdown",
      "metadata": {
        "id": "dDqituO2gDrs"
      },
      "source": [
        "# Convert"
      ]
    },
    {
      "cell_type": "markdown",
      "metadata": {
        "id": "HyYXVyDMtthr"
      },
      "source": [
        "## Global Hyper Parameters"
      ]
    },
    {
      "cell_type": "code",
      "metadata": {
        "id": "RzdfodFqthFG"
      },
      "source": [
        "DATASETNAME = \"camvid\" #@param ['aihubpedestrian', 'camvid']\n",
        "TXT_FILE_DIR = os.path.join(DATA_INDEXFILE_DIR, DATASETNAME.upper())\n",
        "TFRECORD_FILE_DIR = os.path.join(DATA_TFRECORD_DIR, DATASETNAME.upper())\n",
        "TFRECORD_FROM_INDEXFILE = True #@param {type:\"boolean\"}"
      ],
      "execution_count": 134,
      "outputs": []
    },
    {
      "cell_type": "markdown",
      "metadata": {
        "id": "vF_jY1lvh9Dz"
      },
      "source": [
        "## Generate Index file"
      ]
    },
    {
      "cell_type": "markdown",
      "metadata": {
        "id": "zDMRW5LJf-mE"
      },
      "source": [
        "### Hyper Parameters"
      ]
    },
    {
      "cell_type": "code",
      "metadata": {
        "colab": {
          "base_uri": "https://localhost:8080/"
        },
        "id": "_5HwstNAiUfI",
        "outputId": "3e3b811d-4fd7-406e-b891-2a8c69f430e9"
      },
      "source": [
        "SEED = 10 #@param {type:\"integer\"}\n",
        "\n",
        "print(\"Indexfile generation result save  at {}\".format(TXT_FILE_DIR))\n",
        "print(\"See {}\".format(TXT_FILE_DIR))\n",
        "if USE_GCS:\n",
        "    !gsutil ls {TXT_FILE_DIR}\n",
        "else:\n",
        "    !mkdir -p {TXT_FILE_DIR}\n",
        "    %cd {TXT_FILE_DIR}\n",
        "    %ls -al"
      ],
      "execution_count": 135,
      "outputs": [
        {
          "output_type": "stream",
          "text": [
            "Indexfile generation result save  at gs://deer-rudolph/data/index/CAMVID\n",
            "See gs://deer-rudolph/data/index/CAMVID\n",
            "gs://deer-rudolph/data/index/CAMVID/\n",
            "gs://deer-rudolph/data/index/CAMVID/test\n",
            "gs://deer-rudolph/data/index/CAMVID/train\n",
            "gs://deer-rudolph/data/index/CAMVID/val\n"
          ],
          "name": "stdout"
        }
      ]
    },
    {
      "cell_type": "markdown",
      "metadata": {
        "id": "IA8MTqgDIPf2"
      },
      "source": [
        "### Run"
      ]
    },
    {
      "cell_type": "code",
      "metadata": {
        "colab": {
          "base_uri": "https://localhost:8080/",
          "height": 436,
          "referenced_widgets": [
            "378e317ab992483589491df69e1ff702",
            "a22dcd28a09b43769c719bd1f70b0c60",
            "819fcbb7bf7c45ee993e9d30782d85df",
            "aaf95563d1234ec3ba2f2bc02ad92112",
            "36e1d5d3985a4da3a848cfcdbcaf3fe7",
            "b0ec11cce87444ba8254bbf2e78f36d5",
            "a5b6df3fa1da4d1b8af2f2216510f4f4",
            "57b9e7c4c46f4f05bed15d5c11de60f2",
            "b226f3eaf1c4480fabcc083aa8be7a4e",
            "74d73ae2185f4808a7976b35934eec04",
            "b2b774b4ea4f4870927f60da5b1c8cc6",
            "7de752a970a34e00ae646cc6b6821f59",
            "53c3e6c6667f41a7baf6da2888280e5b",
            "0bb4f9c281e7414c95c946ff8e4aa9fd",
            "efa94badb23b472a92b4b98c7b9314e2",
            "000ecb3b4c77489caceea52306cdaf64",
            "d8fd9153c5b04e3bb2b08976853b1640",
            "a6430d297c5a4722a89ee384b29951fe",
            "b551fe45bfb74498bee8862b2533055b",
            "7ed3fa07366b460a9f4e194f0ce95a29",
            "21acfa3e27f5404ab4903b10bdc84aa2",
            "bbfabccb43274ac3b2706dd2c819e00b",
            "0ec817be66f444cdad4175592202cfba",
            "d5decade2b7a4cad854cc466b4fd6fb7"
          ]
        },
        "id": "OvuFKykjk7UY",
        "outputId": "123b332d-a2ce-412c-e842-48691619d316"
      },
      "source": [
        "def generate_index_camvid_segmentation(data_dir, \n",
        "                                       train_dir, \n",
        "                                       trainannot_dir, \n",
        "                                       val_dir, \n",
        "                                       valannot_dir, \n",
        "                                       test_dir, \n",
        "                                       testannot_dir, \n",
        "                                       save_dir):\n",
        "    assert tf.io.gfile.isdir(save_dir), '{} is not a directory!'.format(save_dir)\n",
        "    assert tf.io.gfile.isdir(train_dir), '{} is not a directory!'.format(train_dir)\n",
        "    assert tf.io.gfile.isdir(trainannot_dir), '{} is not a directory!'.format(trainannot_dir)\n",
        "    assert tf.io.gfile.isdir(val_dir), '{} is not a directory!'.format(val_dir)\n",
        "    assert tf.io.gfile.isdir(valannot_dir), '{} is not a directory!'.format(valannot_dir)\n",
        "    assert tf.io.gfile.isdir(test_dir), '{} is not a directory!'.format(test_dir)\n",
        "    assert tf.io.gfile.isdir(testannot_dir), '{} is not a directory!'.format(testannot_dir)\n",
        "    print('generate 3 files :\\n{}\\n{}\\n{}\\n'.format(os.path.join(save_dir, 'train.txt'),\n",
        "                                                    os.path.join(save_dir, 'val.txt'),\n",
        "                                                    os.path.join(save_dir, 'test.txt'),))\n",
        "    \n",
        "    image_train_name_li = tf.io.gfile.listdir(train_dir)\n",
        "    mask_train_name_li = tf.io.gfile.listdir(trainannot_dir)\n",
        "    image_val_name_li = tf.io.gfile.listdir(val_dir)\n",
        "    mask_val_name_li = tf.io.gfile.listdir(valannot_dir)\n",
        "    image_test_name_li = tf.io.gfile.listdir(test_dir)\n",
        "    mask_test_name_li = tf.io.gfile.listdir(testannot_dir)\n",
        "    \n",
        "    print('Number of image file {}'.format(len(image_train_name_li)+len(image_val_name_li)+len(image_test_name_li)))\n",
        "    print('Number of mask file {}'.format(len(mask_train_name_li)+len(mask_val_name_li)+len(mask_test_name_li)))\n",
        "\n",
        "    tf.io.gfile.makedirs(save_dir)\n",
        "    for f_name, (image_dir, mask_dir), (image_file_names, mask_file_names) in zip(['train', 'val', 'test'], \n",
        "                                                                                  [(train_dir, trainannot_dir),\n",
        "                                                                                   (val_dir, valannot_dir),\n",
        "                                                                                   (test_dir, testannot_dir)],\n",
        "                                                                                  [(image_train_name_li, mask_train_name_li),\n",
        "                                                                                   (image_val_name_li, mask_val_name_li),\n",
        "                                                                                   (image_test_name_li, mask_test_name_li)]):\n",
        "        save_full_path = os.path.join(save_dir, f_name)\n",
        "        print('\\nwriting :: \\n{}'.format(save_full_path))\n",
        "        with tf.io.gfile.GFile(save_full_path, mode='w') as f:\n",
        "            with tqdm(total=len(image_file_names), position=1) as pbar:\n",
        "                for image_file_name, mask_file_name in zip(image_file_names, mask_file_names):\n",
        "                    image_line = os.path.join(image_dir, image_file_name)\n",
        "                    mask_line = os.path.join(mask_dir, mask_file_name)\n",
        "                    f.write(image_line + ' ' + mask_line+'\\n')\n",
        "                    pbar.update(1)\n",
        "\n",
        "\n",
        "def generate_index_aihubpedestrian_segmentation(data_dir, save_dir):\n",
        "    global SEED\n",
        "    assert tf.io.gfile.isdir(save_dir), '{} is not a directory!'.format(save_dir)\n",
        "    print('generate 3 files :\\n{}\\n{}\\n{}\\n'.format(os.path.join(save_dir, 'train.txt'),\n",
        "                                                    os.path.join(save_dir, 'val.txt'),\n",
        "                                                    os.path.join(save_dir, 'test.txt'),))\n",
        "        \n",
        "    surface_n_li = tf.io.gfile.listdir(data_dir)\n",
        "    jpg_li = tf.io.gfile.glob(os.path.join(data_dir, '*/*.jpg'))\n",
        "    png_li = tf.io.gfile.glob(os.path.join(data_dir, '*/MASK/*.png'))\n",
        "\n",
        "    print('Number of image file {}'.format(len(jpg_li)))\n",
        "    print('Number of mask file {}'.format(len(png_li)))\n",
        "\n",
        "    images_fps = []\n",
        "    masks_fps = []\n",
        "\n",
        "    if len(jpg_li) == len(png_li):\n",
        "        images_fps = jpg_li\n",
        "        masks_fps = png_li\n",
        "    else:\n",
        "        print('Warning : Number of image file {} != number of mask file {}'.format(len(jpg_li), len(png_li)))\n",
        "        print('Info : Check data manually.')\n",
        "        with tqdm(total=len(surface_n_li), position=1) as pbar:\n",
        "            for surface_n in surface_n_li:\n",
        "                surface_n_dir = os.path.join(data_dir, surface_n)\n",
        "                if tf.io.gfile.isdir(surface_n_dir):\n",
        "                    # normal flow\n",
        "                    f_name_li = tf.io.gfile.listdir(surface_n_dir)\n",
        "                    for f_name in f_name_li:\n",
        "                        f_path = os.path.join(surface_n_dir, f_name)\n",
        "                        if not tf.io.gfile.isdir(f_path): \n",
        "                            # it is not mask dir\n",
        "                            # image file or xml.. etc.\n",
        "                            f_mask_path = os.path.join(surface_n_dir, 'MASK', f_name.split('.')[0]+'.png')\n",
        "                            if os.path.exists(f_mask_path):\n",
        "                                images_fps.append(f_path)\n",
        "                                masks_fps.append(f_mask_path)\n",
        "                            else:\n",
        "                                pass\n",
        "                        else:\n",
        "                            pass\n",
        "                else:\n",
        "                    pass\n",
        "                pbar.update(1)\n",
        "\n",
        "    print('Number of image file {}'.format(len(images_fps)))\n",
        "    print('Number of mask file {}'.format(len(masks_fps)))\n",
        "    image_train_fps, image_test_fps, mask_train_fps, mask_test_fps = train_test_split(images_fps, masks_fps, \n",
        "                                                                                      test_size=1/10, shuffle=True, random_state=SEED)\n",
        "    image_train_fps, image_val_fps, mask_train_fps, mask_val_fps = train_test_split(image_train_fps, mask_train_fps, \n",
        "                                                                                    test_size=1/9, shuffle=True, random_state=SEED)\n",
        "    print('Number of train set : {}'.format(len(image_train_fps)))\n",
        "    print('Number of val set : {}'.format(len(image_val_fps)))\n",
        "    print('Number of test set : {}'.format(len(image_test_fps)))\n",
        "    \n",
        "    tf.io.gfile.makedirs(save_dir)\n",
        "    for f_name, (images_fps, masks_fps) in zip(['train', 'val', 'test'], \n",
        "                                             [(image_train_fps, mask_train_fps),\n",
        "                                              (image_val_fps, mask_val_fps),\n",
        "                                              (image_test_fps, mask_test_fps)]):\n",
        "        save_full_path = os.path.join(save_dir, f_name)\n",
        "        print('\\nwriting :: \\n{}'.format(save_full_path))\n",
        "        with tf.io.gfile.GFile(save_full_path, mode='w') as f:\n",
        "            with tqdm(total=len(images_fps), position=1) as pbar:\n",
        "                for image_line, mask_line in zip(images_fps, masks_fps):\n",
        "                    f.write(image_line + ' ' + mask_line+'\\n')\n",
        "                    pbar.update(1)\n",
        "\n",
        "    return images_fps, masks_fps\n",
        "\n",
        "# implement your custom parser!\n",
        "\n",
        "\n",
        "if DATASETNAME.lower() == 'camvid':\n",
        "    generate_index_camvid_segmentation(DATASET_DIR_CAMVID,\n",
        "                                       DATASET_TRAIN_X_DIR_CAMVID,\n",
        "                                       DATASET_TRAIN_Y_DIR_CAMVID,\n",
        "                                       DATASET_VAL_X_DIR_CAMVID,\n",
        "                                       DATASET_VAL_Y_DIR_CAMVID,\n",
        "                                       DATASET_TEST_X_DIR_CAMVID,\n",
        "                                       DATASET_TEST_Y_DIR_CAMVID,\n",
        "                                       TXT_FILE_DIR)\n",
        "if DATASETNAME.lower() == 'aihubpedestrian':\n",
        "    generate_index_aihubpedestrian_segmentation(DATASET_DIR_PEDESTRIAN, TXT_FILE_DIR)"
      ],
      "execution_count": 64,
      "outputs": [
        {
          "output_type": "stream",
          "text": [
            "generate 3 files :\n",
            "/content/gdrive/MyDrive/data/index/CAMVID/train.txt\n",
            "/content/gdrive/MyDrive/data/index/CAMVID/val.txt\n",
            "/content/gdrive/MyDrive/data/index/CAMVID/test.txt\n",
            "\n",
            "Number of image file 701\n",
            "Number of mask file 701\n",
            "\n",
            "writing :: \n",
            "/content/gdrive/MyDrive/data/index/CAMVID/train\n"
          ],
          "name": "stdout"
        },
        {
          "output_type": "display_data",
          "data": {
            "application/vnd.jupyter.widget-view+json": {
              "model_id": "378e317ab992483589491df69e1ff702",
              "version_minor": 0,
              "version_major": 2
            },
            "text/plain": [
              "HBox(children=(FloatProgress(value=0.0, max=367.0), HTML(value='')))"
            ]
          },
          "metadata": {
            "tags": []
          }
        },
        {
          "output_type": "stream",
          "text": [
            "\n",
            "\n",
            "writing :: \n",
            "/content/gdrive/MyDrive/data/index/CAMVID/val\n"
          ],
          "name": "stdout"
        },
        {
          "output_type": "display_data",
          "data": {
            "application/vnd.jupyter.widget-view+json": {
              "model_id": "b226f3eaf1c4480fabcc083aa8be7a4e",
              "version_minor": 0,
              "version_major": 2
            },
            "text/plain": [
              "HBox(children=(FloatProgress(value=0.0, max=101.0), HTML(value='')))"
            ]
          },
          "metadata": {
            "tags": []
          }
        },
        {
          "output_type": "stream",
          "text": [
            "\n",
            "\n",
            "writing :: \n",
            "/content/gdrive/MyDrive/data/index/CAMVID/test\n"
          ],
          "name": "stdout"
        },
        {
          "output_type": "display_data",
          "data": {
            "application/vnd.jupyter.widget-view+json": {
              "model_id": "d8fd9153c5b04e3bb2b08976853b1640",
              "version_minor": 0,
              "version_major": 2
            },
            "text/plain": [
              "HBox(children=(FloatProgress(value=0.0, max=233.0), HTML(value='')))"
            ]
          },
          "metadata": {
            "tags": []
          }
        },
        {
          "output_type": "stream",
          "text": [
            "\n"
          ],
          "name": "stdout"
        }
      ]
    },
    {
      "cell_type": "markdown",
      "metadata": {
        "id": "50BArpIF-7lg"
      },
      "source": [
        "### Debug"
      ]
    },
    {
      "cell_type": "code",
      "metadata": {
        "colab": {
          "base_uri": "https://localhost:8080/"
        },
        "id": "J8WJY1Yi-7Le",
        "outputId": "a89d0fe5-bc9e-4a21-e594-ebca2eb7f851"
      },
      "source": [
        "print('parsed : {}'.format(TXT_FILE_DIR))\n",
        "if USE_GCS:\n",
        "    !gsutil ls {TXT_FILE_DIR}\n",
        "else:\n",
        "    %cd {TXT_FILE_DIR}\n",
        "    %ls -al\n",
        "\n",
        "print('Read line example')\n",
        "for name in ['train', 'val', 'test']:\n",
        "    print('file {} example'.format(os.path.join(TXT_FILE_DIR, name)))\n",
        "    with tf.io.gfile.GFile(os.path.join(TXT_FILE_DIR, name), mode='r') as f:\n",
        "        for _ in range(5):\n",
        "            line = f.readline()\n",
        "            print(line.strip('\\n'), '<line end!>')"
      ],
      "execution_count": 65,
      "outputs": [
        {
          "output_type": "stream",
          "text": [
            "parsed : /content/gdrive/MyDrive/data/index/CAMVID\n",
            "/content/gdrive/MyDrive/data/index/CAMVID\n",
            "total 85\n",
            "-rw------- 1 root root 29001 Jul  2 03:26 test\n",
            "-rw------- 1 root root 45467 Jul  2 03:26 train\n",
            "-rw------- 1 root root 12019 Jul  2 03:26 val\n",
            "Read line example\n",
            "file /content/gdrive/MyDrive/data/index/CAMVID/train example\n",
            "/content/gdrive/MyDrive/data/camvid/train/0001TP_006690.png /content/gdrive/MyDrive/data/camvid/trainannot/0001TP_006690.png <line end!>\n",
            "/content/gdrive/MyDrive/data/camvid/train/0001TP_006720.png /content/gdrive/MyDrive/data/camvid/trainannot/0001TP_006720.png <line end!>\n",
            "/content/gdrive/MyDrive/data/camvid/train/0001TP_006750.png /content/gdrive/MyDrive/data/camvid/trainannot/0001TP_006750.png <line end!>\n",
            "/content/gdrive/MyDrive/data/camvid/train/0001TP_006780.png /content/gdrive/MyDrive/data/camvid/trainannot/0001TP_006780.png <line end!>\n",
            "/content/gdrive/MyDrive/data/camvid/train/0001TP_006810.png /content/gdrive/MyDrive/data/camvid/trainannot/0001TP_006810.png <line end!>\n",
            "file /content/gdrive/MyDrive/data/index/CAMVID/val example\n",
            "/content/gdrive/MyDrive/data/camvid/val/0016E5_07959.png /content/gdrive/MyDrive/data/camvid/valannot/0016E5_07959.png <line end!>\n",
            "/content/gdrive/MyDrive/data/camvid/val/0016E5_07961.png /content/gdrive/MyDrive/data/camvid/valannot/0016E5_07961.png <line end!>\n",
            "/content/gdrive/MyDrive/data/camvid/val/0016E5_07963.png /content/gdrive/MyDrive/data/camvid/valannot/0016E5_07963.png <line end!>\n",
            "/content/gdrive/MyDrive/data/camvid/val/0016E5_07965.png /content/gdrive/MyDrive/data/camvid/valannot/0016E5_07965.png <line end!>\n",
            "/content/gdrive/MyDrive/data/camvid/val/0016E5_07967.png /content/gdrive/MyDrive/data/camvid/valannot/0016E5_07967.png <line end!>\n",
            "file /content/gdrive/MyDrive/data/index/CAMVID/test example\n",
            "/content/gdrive/MyDrive/data/camvid/test/0001TP_008550.png /content/gdrive/MyDrive/data/camvid/testannot/0001TP_008550.png <line end!>\n",
            "/content/gdrive/MyDrive/data/camvid/test/0001TP_008580.png /content/gdrive/MyDrive/data/camvid/testannot/0001TP_008580.png <line end!>\n",
            "/content/gdrive/MyDrive/data/camvid/test/0001TP_008610.png /content/gdrive/MyDrive/data/camvid/testannot/0001TP_008610.png <line end!>\n",
            "/content/gdrive/MyDrive/data/camvid/test/0001TP_008640.png /content/gdrive/MyDrive/data/camvid/testannot/0001TP_008640.png <line end!>\n",
            "/content/gdrive/MyDrive/data/camvid/test/0001TP_008670.png /content/gdrive/MyDrive/data/camvid/testannot/0001TP_008670.png <line end!>\n"
          ],
          "name": "stdout"
        }
      ]
    },
    {
      "cell_type": "markdown",
      "metadata": {
        "id": "8E-0byEmk6yO"
      },
      "source": [
        "## Generate TFRecord file"
      ]
    },
    {
      "cell_type": "markdown",
      "metadata": {
        "id": "8Z9QfF1f2MOF"
      },
      "source": [
        "### Hyper Parameters"
      ]
    },
    {
      "cell_type": "code",
      "metadata": {
        "colab": {
          "base_uri": "https://localhost:8080/"
        },
        "id": "oLC0tc91f9x5",
        "outputId": "0bb62e73-72ad-4129-ac54-c1c9e0845118"
      },
      "source": [
        "if not TFRECORD_FROM_INDEXFILE:\n",
        "    raise NotImplementedError\n",
        "\n",
        "if TFRECORD_FROM_INDEXFILE:\n",
        "    INDEX_FILE_DIR_FOR_TFRECORD = TXT_FILE_DIR #@param\n",
        "    assert tf.io.gfile.exists(INDEX_FILE_DIR_FOR_TFRECORD), '{} not exists!'.format(INDEX_FILE_FULLPATH_FOR_TFRECORD)\n",
        "    print('Source file : {}'.format(INDEX_FILE_DIR_FOR_TFRECORD))\n",
        "\n",
        "ENCODING = 'png' #@param [\"png\", \"jpeg\"]\n",
        "\n",
        "print(\"TFRecord Conversion result save at {}\".format(TFRECORD_FILE_DIR))\n",
        "print(\"See {}\".format(TFRECORD_FILE_DIR))\n",
        "if USE_GCS:\n",
        "    !gsutil ls {TFRECORD_FILE_DIR}\n",
        "else:\n",
        "    !mkdir -p {TFRECORD_FILE_DIR}\n",
        "    %cd {TFRECORD_FILE_DIR}\n",
        "    %ls -al"
      ],
      "execution_count": 136,
      "outputs": [
        {
          "output_type": "stream",
          "text": [
            "Source file : gs://deer-rudolph/data/index/CAMVID\n",
            "TFRecord Conversion result save at gs://deer-rudolph/data/tfrecord/CAMVID\n",
            "See gs://deer-rudolph/data/tfrecord/CAMVID\n",
            "gs://deer-rudolph/data/tfrecord/CAMVID/\n",
            "gs://deer-rudolph/data/tfrecord/CAMVID/test\n",
            "gs://deer-rudolph/data/tfrecord/CAMVID/train\n",
            "gs://deer-rudolph/data/tfrecord/CAMVID/val\n"
          ],
          "name": "stdout"
        }
      ]
    },
    {
      "cell_type": "markdown",
      "metadata": {
        "id": "ZUToPCViIRVK"
      },
      "source": [
        "### Run"
      ]
    },
    {
      "cell_type": "code",
      "metadata": {
        "colab": {
          "base_uri": "https://localhost:8080/",
          "height": 470,
          "referenced_widgets": [
            "936330c5526144d19823065897811825",
            "d741aa405bff423d94d926d8f421b4d3",
            "6eb616603d1a4568802f6861e4993967",
            "82594a7f3463456982a20d6517eb6c36",
            "54560bae20a2467ea2b9eb7d68aca7c3",
            "22b4537bb16c4831bb460903a3d74482",
            "a8801599b4524ea6a8770eaa8519deef",
            "5f7fbaf2957c4cde9f50e7846c0331e4",
            "22e90d5bcc754ac9a96b90021509e564",
            "a94e3fce5b2242018592a8d25d7471c5",
            "eef987d5dc2540c79929fbf719007e93",
            "1b8a9444101e4fcf8ba8b72b1dad0b9f",
            "7b8d1e460bd0443eb5053ddaa04655c5",
            "c005dad634374dc18ffbac67c7b70f43",
            "7e29a55833024845b1855eb830baf4cc",
            "0d8618951a0b4cb8bc4c27a3af9c3863",
            "bbb1f10a73214e5089a046342fc6b8e0",
            "91e8acd14ba54376bccd307d517eb8fd",
            "c7b7a8a76420453f82a22a8e17583114",
            "3308da35df1a43b4aeafd38d3648bf5a",
            "529eafd3813942c1b019db2384716f01",
            "4f2a6c973d93409caadfb17c4032e755",
            "b349c566d0b84aa6a20e56233007486b",
            "79174085288b4f5d9223605683cebb16"
          ]
        },
        "id": "goJY6Ntvh9Og",
        "outputId": "77251ba8-61e4-4f02-8b4e-1e2bfcb91e4e"
      },
      "source": [
        "def _bytes_feature(value):\n",
        "    \"\"\"Returns a bytes_list from a string / byte.\"\"\"\n",
        "    if isinstance(value, type(tf.constant(0))):\n",
        "        value = value.numpy() # BytesList won't unpack a string from an EagerTensor.\n",
        "    return tf.train.Feature(bytes_list=tf.train.BytesList(value=[value]))\n",
        "\n",
        "\n",
        "def _imread_tf(image_fp, mask_fp):\n",
        "    image = tf.io.read_file(image_fp) # output : string tensor\n",
        "    mask = tf.io.read_file(mask_fp) # output : string tensor\n",
        "    image = tf.io.decode_png(image) # 3ch [h, w, 3], default datatype : tf.uint8\n",
        "    mask = tf.io.decode_png(mask) # 1ch [h, w, 1] or 3ch [h, w, 3]\n",
        "    #image = tf.io.convert_image_dtype(image, tf.uint8)\n",
        "    #mask = tf.io.convert_image_dtype(mask, tf.uint8)\n",
        "    return image, mask\n",
        "\n",
        "\n",
        "def _image_feature(value):\n",
        "    if ENCODING == 'png':\n",
        "        return tf.train.Feature(bytes_list=tf.train.BytesList(\n",
        "            value=[tf.io.encode_png(value).numpy()]))\n",
        "    else:\n",
        "        return tf.train.Feature(bytes_list=tf.train.BytesList(\n",
        "            value=[tf.io.encode_jpeg(value).numpy()]))\n",
        "\n",
        "\n",
        "def _bytes_feature(value): \n",
        "    return tf.train.Feature(bytes_list=tf.train.BytesList(\n",
        "        value=[value.encode()]))\n",
        "\n",
        "\n",
        "def _create_example(image, mask, image_fp=None, mask_fp=None):    \n",
        "    feature = {\n",
        "        \"image\": _image_feature(image),\n",
        "        \"mask\": _image_feature(mask),\n",
        "    }\n",
        "    if (image_fp is not None) and (mask_fp is not None):\n",
        "        feature[\"image_path\"]=_bytes_feature(image_fp)\n",
        "        feature[\"mask_path\"]=_bytes_feature(mask_fp)\n",
        "    return tf.train.Example(features=tf.train.Features(feature=feature))\n",
        "\n",
        "\n",
        "def convert_to_tfrecord(images_fps, masks_fps, save_full_path):\n",
        "    print('\\nwriting :: \\n{}'.format(save_full_path))\n",
        "    with tqdm(total=len(images_fps)) as pbar:\n",
        "        with tf.io.TFRecordWriter(save_full_path, options=None) as writer:\n",
        "            for image_fp, mask_fp in zip(images_fps, masks_fps):\n",
        "                image, mask = _imread_tf(image_fp, mask_fp)            \n",
        "                record_bytes = _create_example(image, mask, image_fp, mask_fp).SerializeToString()\n",
        "                writer.write(record_bytes)\n",
        "                pbar.update(1)\n",
        "\n",
        "\n",
        "def generate_tfrecord_camvid_segmentation(index_dir, save_dir, ignore_file_names=[]):\n",
        "    index_file_name_li = tf.io.gfile.listdir(index_dir)\n",
        "    images_fps = []\n",
        "    masks_fps = []\n",
        "    for index_file_name in index_file_name_li:\n",
        "        reading_file = os.path.join(index_dir, index_file_name)\n",
        "        print('\\nreading :: \\n{}'.format(reading_file))\n",
        "        if tf.io.gfile.isdir(reading_file):\n",
        "            print('This is a directory! Conversion passed.')\n",
        "            continue\n",
        "        if index_file_name in ignore_file_names:\n",
        "            print('Ignored! Conversion passed.')\n",
        "            continue\n",
        "        with tf.io.gfile.GFile(reading_file, mode='r') as f:\n",
        "            txt = f.readlines()\n",
        "            for line in txt:\n",
        "                line = line.strip('\\n')\n",
        "                image_fp, mask_fp = line.split(' ')\n",
        "                images_fps.append(image_fp)\n",
        "                masks_fps.append(mask_fp)\n",
        "            convert_to_tfrecord(images_fps, masks_fps, os.path.join(save_dir, index_file_name))\n",
        "\n",
        "\n",
        "def generate_tfrecord_aihubpedestrian_segmentation(index_dir, save_dir, ignore_file_names=[]):\n",
        "    index_file_name_li = tf.io.gfile.listdir(index_dir)\n",
        "    images_fps = []\n",
        "    masks_fps = []\n",
        "    for index_file_name in index_file_name_li:\n",
        "        reading_file = os.path.join(index_dir, index_file_name)\n",
        "        print('\\nreading :: \\n{}'.format(reading_file))\n",
        "        if tf.io.gfile.isdir(reading_file):\n",
        "            print('This is a directory! Conversion passed.')\n",
        "            continue\n",
        "        if index_file_name in ignore_file_names:\n",
        "            print('Ignored! Conversion passed.')\n",
        "            continue\n",
        "        with tf.io.gfile.GFile(reading_file, mode='r') as f:\n",
        "            txt = f.readlines()\n",
        "            for line in txt:\n",
        "                line = line.strip('\\n')\n",
        "                image_fp, mask_fp = line.split(' ')\n",
        "                images_fps.append(image_fp)\n",
        "                masks_fps.append(mask_fp)\n",
        "            convert_to_tfrecord(images_fps, masks_fps, os.path.join(save_dir, index_file_name))\n",
        "\n",
        "# implement your custom converter!\n",
        "\n",
        "\n",
        "if not TFRECORD_FROM_INDEXFILE:\n",
        "    raise NotImplementedError\n",
        "\n",
        "if DATASETNAME.lower() == 'camvid':\n",
        "    generate_tfrecord_camvid_segmentation(INDEX_FILE_DIR_FOR_TFRECORD, TFRECORD_FILE_DIR)\n",
        "if DATASETNAME.lower() == 'aihubpedestrian':\n",
        "    generate_tfrecord_aihubpedestrian_segmentation(INDEX_FILE_DIR_FOR_TFRECORD, TFRECORD_FILE_DIR, ignore_file_names=[])\n",
        "\n",
        "# 참고 : arguemnt ignore_file_names 의 존재이유\n",
        "# tfrecord 를 생성하는 일은 상당히 오래 걸린다. 그렇기 때문에 colab 을 항상 켜놓을 수 있는 상황이 아니라면, 일부 파일씩 돌려 가면서 변환하는 수밖에 없다.\n",
        "# 또한, colab 은 시간제한이 최대 20시간정도이기 때문에 이것을 그대로 사용하면 무조건 timeout 이 나올수밖에 없다.\n",
        "# 이 때 완전히 변환이 완료된 파일은 다시 생성하지 않도록 하기 위함이다.\n",
        "# TODO : 지금은 single process 가 train test val 을 모두 처리하고 있는데, 이것을 multiprocess 로 바꾸면 좋을 것 같다."
      ],
      "execution_count": 137,
      "outputs": [
        {
          "output_type": "stream",
          "text": [
            "\n",
            "reading :: \n",
            "gs://deer-rudolph/data/index/CAMVID/test\n",
            "\n",
            "writing :: \n",
            "gs://deer-rudolph/data/tfrecord/CAMVID/test\n"
          ],
          "name": "stdout"
        },
        {
          "output_type": "display_data",
          "data": {
            "application/vnd.jupyter.widget-view+json": {
              "model_id": "936330c5526144d19823065897811825",
              "version_minor": 0,
              "version_major": 2
            },
            "text/plain": [
              "HBox(children=(FloatProgress(value=0.0, max=233.0), HTML(value='')))"
            ]
          },
          "metadata": {
            "tags": []
          }
        },
        {
          "output_type": "stream",
          "text": [
            "\n",
            "\n",
            "reading :: \n",
            "gs://deer-rudolph/data/index/CAMVID/train\n",
            "\n",
            "writing :: \n",
            "gs://deer-rudolph/data/tfrecord/CAMVID/train\n"
          ],
          "name": "stdout"
        },
        {
          "output_type": "display_data",
          "data": {
            "application/vnd.jupyter.widget-view+json": {
              "model_id": "22e90d5bcc754ac9a96b90021509e564",
              "version_minor": 0,
              "version_major": 2
            },
            "text/plain": [
              "HBox(children=(FloatProgress(value=0.0, max=600.0), HTML(value='')))"
            ]
          },
          "metadata": {
            "tags": []
          }
        },
        {
          "output_type": "stream",
          "text": [
            "\n",
            "\n",
            "reading :: \n",
            "gs://deer-rudolph/data/index/CAMVID/val\n",
            "\n",
            "writing :: \n",
            "gs://deer-rudolph/data/tfrecord/CAMVID/val\n"
          ],
          "name": "stdout"
        },
        {
          "output_type": "display_data",
          "data": {
            "application/vnd.jupyter.widget-view+json": {
              "model_id": "bbb1f10a73214e5089a046342fc6b8e0",
              "version_minor": 0,
              "version_major": 2
            },
            "text/plain": [
              "HBox(children=(FloatProgress(value=0.0, max=701.0), HTML(value='')))"
            ]
          },
          "metadata": {
            "tags": []
          }
        },
        {
          "output_type": "stream",
          "text": [
            "\n"
          ],
          "name": "stdout"
        }
      ]
    },
    {
      "cell_type": "markdown",
      "metadata": {
        "id": "C_VktdsYoNfG"
      },
      "source": [
        "### Debug"
      ]
    },
    {
      "cell_type": "code",
      "metadata": {
        "id": "35pnOchXoPT9"
      },
      "source": [
        "print('parsed : {}'.format(TFRECORD_FILE_DIR))\n",
        "if USE_GCS:\n",
        "    !gsutil ls {TFRECORD_FILE_DIR}\n",
        "else:\n",
        "    %cd {TFRECORD_FILE_DIR}\n",
        "    %ls -al\n",
        "\n",
        "\n",
        "def _parse_tfrecord(example):\n",
        "    feature_description = {\n",
        "        \"image\": tf.io.FixedLenFeature([], tf.string),\n",
        "        \"mask\": tf.io.FixedLenFeature([], tf.string),\n",
        "        \"image_path\": tf.io.FixedLenFeature([], tf.string),\n",
        "        \"mask_path\": tf.io.FixedLenFeature([], tf.string),\n",
        "    }\n",
        "\n",
        "    # case 1 : using parse_single_example parser\n",
        "    # example = tf.io.parse_single_example(example, feature_description)\n",
        "\n",
        "    # case 2 : using parse_example parser\n",
        "    example = tf.io.parse_example(example, feature_description)\n",
        "\n",
        "    # common\n",
        "    example[\"image\"] = tf.io.decode_png(example[\"image\"], channels=3)\n",
        "    example[\"mask\"] = tf.io.decode_png(example[\"mask\"])\n",
        "    return example\n",
        "\n",
        "\n",
        "for name in ['train', 'val', 'test']:\n",
        "    reading_file = os.path.join(TFRECORD_FILE_DIR, name)\n",
        "    print('reading :: {}'.format(reading_file))\n",
        "    dataset = tf.data.TFRecordDataset(reading_file).map(_parse_tfrecord)\n",
        "\n",
        "    for features in dataset.batch(1).take(1):\n",
        "        for key in features.keys():\n",
        "            print('there is key named : {}'.format(key))\n",
        "        \n",
        "        ##debugging code\n",
        "        plt.figure(figsize=(14, 14))\n",
        "        plt.subplot(1,6, 1)\n",
        "        plt.imshow(features[\"image\"].numpy().squeeze())\n",
        "        plt.title('TFRecord')\n",
        "\n",
        "        plt.subplot(1,6,2)\n",
        "        plt.imshow((features[\"mask\"].numpy().squeeze()/(features[\"mask\"].numpy().max())) , cmap='gray')\n",
        "        plt.title('TFRecord')\n",
        "        print('from tfrecord : {}'.format(np.unique((features[\"mask\"].numpy().squeeze()[270:,:70]))))\n",
        "    \n",
        "        ##debugging code\n",
        "        if not USE_GCS:\n",
        "            plt.subplot(1,6,3)\n",
        "            p_image = features[\"image_path\"].numpy()[0].decode(\"utf-8\")\n",
        "            cv_image = cv2.imread(p_image)\n",
        "            cv_image = cv2.cvtColor(cv_image, cv2.COLOR_BGR2RGB)\n",
        "            plt.imshow(cv_image)\n",
        "            plt.title('cv.imread')\n",
        "                \n",
        "            plt.subplot(1,6,4)\n",
        "            p_mask = features[\"mask_path\"].numpy()[0].decode(\"utf-8\")\n",
        "            cv_mask = cv2.imread(p_mask)\n",
        "            plt.imshow((cv_mask/cv_mask.max())[270:,:70], cmap='gray')\n",
        "            plt.title('cv.imread')\n",
        "            print('from cv.imread : {}'.format(np.unique(temp_mask[270:,:70])))\n",
        "\n",
        "        ##debugging code\n",
        "        tf_image, tf_mask = _imread_tf(p_image, p_mask)\n",
        "        plt.subplot(1,6,5)\n",
        "        plt.title('tf.io')\n",
        "        plt.imshow(tf_image.numpy().squeeze())\n",
        "        \n",
        "        ##debugging code\n",
        "        plt.subplot(1,6,6)\n",
        "        plt.title('tf.io')\n",
        "        plt.imshow((tf_mask.numpy().squeeze()/tf_mask.numpy().max())[270:,:70], cmap='gray')\n",
        "        print('from tf.io : {}'.format(np.unique(temp_mask[270:,:70])))\n",
        "\n",
        "        ##debugging code\n",
        "        # Three result should be same.\n",
        "        print('cnt of True, tfrecord == tf.io : {}'.format(np.count_nonzero(features[\"image\"].numpy().squeeze()==tf_image) ))\n",
        "        if not USE_GCS:\n",
        "            print('cnt of True, tfrecord == cv.imread : {}'.format(np.count_nonzero(features[\"image\"].numpy().squeeze()==cv_image) ))\n",
        "            print('cnt of True, tf.io == cv.imread : {}'.format(np.count_nonzero(cv_image==tf_image) ))"
      ],
      "execution_count": null,
      "outputs": []
    },
    {
      "cell_type": "markdown",
      "metadata": {
        "id": "_pxsanb2as48"
      },
      "source": [
        "# debug"
      ]
    },
    {
      "cell_type": "code",
      "metadata": {
        "colab": {
          "base_uri": "https://localhost:8080/"
        },
        "id": "Z-1ZtrrItBs4",
        "outputId": "567df7fc-095f-407a-f5aa-7845cdeb4b88"
      },
      "source": [
        "def filter_args(*args):\n",
        "    print(args)\n",
        "    return args\n",
        "def filter_kwargs(**kwargs):\n",
        "    print(kwargs)\n",
        "    kwargs['byebye'] = 'hahah'\n",
        "    return kwargs\n",
        "def temp(*args, **kwargs):\n",
        "    filtered_args = filter_args(*args)\n",
        "    filtered_kwargs = filter_kwargs(**kwargs)\n",
        "    print(filtered_args, filtered_kwargs)\n",
        "\n",
        "temp('hi', hey=\"you!\", geogi='neo')"
      ],
      "execution_count": null,
      "outputs": [
        {
          "output_type": "stream",
          "text": [
            "('hi',)\n",
            "{'hey': 'you!', 'geogi': 'neo'}\n",
            "('hi',) {'hey': 'you!', 'geogi': 'neo', 'byebye': 'hahah'}\n"
          ],
          "name": "stdout"
        }
      ]
    },
    {
      "cell_type": "code",
      "metadata": {
        "id": "6XDLIphRbFpI",
        "colab": {
          "base_uri": "https://localhost:8080/"
        },
        "outputId": "4c696801-8785-4640-d180-2b6d0380aaeb"
      },
      "source": [
        "name_li = ['train', 'val', 'test']\n",
        "for name in name_li:\n",
        "    with tf.io.gfile.GFile(os.path.join(TXT_FILE_DIR, name), mode='r') as f:\n",
        "        print('read : {}'.format(name))\n",
        "        for _ in range(2):\n",
        "            line = f.readline()\n",
        "            print(line.strip('\\n'), '<line end!>')"
      ],
      "execution_count": 33,
      "outputs": [
        {
          "output_type": "stream",
          "text": [
            "read : train\n",
            "/content/gdrive/MyDrive/data/camvid/train/0001TP_006690.png /content/gdrive/MyDrive/data/camvid/trainannot/0001TP_006690.png <line end!>\n",
            "/content/gdrive/MyDrive/data/camvid/train/0001TP_006720.png /content/gdrive/MyDrive/data/camvid/trainannot/0001TP_006720.png <line end!>\n",
            "read : val\n",
            "/content/gdrive/MyDrive/data/camvid/val/0016E5_07959.png /content/gdrive/MyDrive/data/camvid/valannot/0016E5_07959.png <line end!>\n",
            "/content/gdrive/MyDrive/data/camvid/val/0016E5_07961.png /content/gdrive/MyDrive/data/camvid/valannot/0016E5_07961.png <line end!>\n",
            "read : test\n",
            "/content/gdrive/MyDrive/data/camvid/test/0001TP_008550.png /content/gdrive/MyDrive/data/camvid/testannot/0001TP_008550.png <line end!>\n",
            "/content/gdrive/MyDrive/data/camvid/test/0001TP_008580.png /content/gdrive/MyDrive/data/camvid/testannot/0001TP_008580.png <line end!>\n"
          ],
          "name": "stdout"
        }
      ]
    },
    {
      "cell_type": "code",
      "metadata": {
        "id": "QL5bs4rF9zpP"
      },
      "source": [
        ""
      ],
      "execution_count": null,
      "outputs": []
    }
  ]
}